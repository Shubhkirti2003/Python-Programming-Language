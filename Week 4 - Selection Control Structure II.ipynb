{
 "cells": [
  {
   "cell_type": "code",
   "execution_count": 1,
   "id": "01d60edb",
   "metadata": {},
   "outputs": [
    {
     "name": "stdout",
     "output_type": "stream",
     "text": [
      "Enter first side of the triangle: 5\n",
      "Enter second side of the triangle: 2\n",
      "Enter third side of the triangle: 4\n",
      "It is a scalene triangle.\n"
     ]
    }
   ],
   "source": [
    "a=int(input('Enter first side of the triangle: '))\n",
    "b=int(input('Enter second side of the triangle: '))\n",
    "c=int(input('Enter third side of the triangle: '))\n",
    "if(a==b==c):\n",
    "    print('It is an equilateral triangle.')\n",
    "elif(a==b or b==c or a==c):\n",
    "    print('It is an isoceles triangle.')\n",
    "else:\n",
    "    print('It is a scalene triangle.')\n"
   ]
  },
  {
   "cell_type": "code",
   "execution_count": 2,
   "id": "2f89669c",
   "metadata": {},
   "outputs": [
    {
     "name": "stdout",
     "output_type": "stream",
     "text": [
      "P\n",
      "Y\n",
      "T\n",
      "H\n",
      "O\n",
      "N\n"
     ]
    }
   ],
   "source": [
    "for i in range (5):\n",
    "    n=int(input(\"Enter the word: \"))\n",
    "for i in str:\n",
    "    print(i)"
   ]
  },
  {
   "cell_type": "code",
   "execution_count": 3,
   "id": "b85b96c7",
   "metadata": {},
   "outputs": [
    {
     "name": "stdout",
     "output_type": "stream",
     "text": [
      "P Y T H O N "
     ]
    }
   ],
   "source": [
    "str=\"PYTHON\"\n",
    "for i in str:\n",
    "    print(i,end=\" \")"
   ]
  },
  {
   "cell_type": "code",
   "execution_count": null,
   "id": "986f2a3c",
   "metadata": {},
   "outputs": [],
   "source": [
    "print('Even Numbers:')\n",
    "for i in range(0,21,2):\n",
    "    print(i)"
   ]
  },
  {
   "cell_type": "code",
   "execution_count": null,
   "id": "e2f97277",
   "metadata": {},
   "outputs": [],
   "source": [
    "a=input(\"Enter the sentence:\")\n",
    "count=0\n",
    "counts=0\n",
    "for i in a:\n",
    "    if(i==i.islower()):\n",
    "        count=count+1\n",
    "    elif(i==i.isupper()):\n",
    "        counts=counts+1\n",
    "print('The number of upper case characters are ',counts)\n",
    "print('The number of lowercase characters are ',count)"
   ]
  },
  {
   "cell_type": "code",
   "execution_count": null,
   "id": "ac96ac9d",
   "metadata": {},
   "outputs": [],
   "source": []
  },
  {
   "cell_type": "code",
   "execution_count": null,
   "id": "2c566d87",
   "metadata": {},
   "outputs": [],
   "source": []
  }
 ],
 "metadata": {
  "kernelspec": {
   "display_name": "Python 3 (ipykernel)",
   "language": "python",
   "name": "python3"
  },
  "language_info": {
   "codemirror_mode": {
    "name": "ipython",
    "version": 3
   },
   "file_extension": ".py",
   "mimetype": "text/x-python",
   "name": "python",
   "nbconvert_exporter": "python",
   "pygments_lexer": "ipython3",
   "version": "3.9.12"
  }
 },
 "nbformat": 4,
 "nbformat_minor": 5
}
