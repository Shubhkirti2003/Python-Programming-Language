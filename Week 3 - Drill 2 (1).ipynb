{
 "cells": [
  {
   "cell_type": "code",
   "execution_count": 2,
   "id": "70003b4d",
   "metadata": {},
   "outputs": [
    {
     "name": "stdout",
     "output_type": "stream",
     "text": [
      "Enter: 5\n",
      "This variable will be a string 5\n",
      "Enter: 1\n",
      "This variable will be a integer 1\n",
      "<class 'str'>\n",
      "<class 'int'>\n",
      "<class 'int'>\n",
      "<class 'str'>\n"
     ]
    }
   ],
   "source": [
    "#We can do it in two ways: 1. By taking input from a user with limitations as int 2.By using type operator\n",
    "a=input('Enter: ')\n",
    "print('This variable will be a string', a)\n",
    "a1=int(input('Enter: '))\n",
    "print('This variable will be a integer', a1)\n",
    "b=3\n",
    "c=\"Hello\"\n",
    "print(type(a))\n",
    "print(type(a1))\n",
    "print(type(b))\n",
    "print(type(c))"
   ]
  },
  {
   "cell_type": "code",
   "execution_count": 5,
   "id": "eeb64a4a",
   "metadata": {},
   "outputs": [
    {
     "name": "stdout",
     "output_type": "stream",
     "text": [
      "1\n",
      "Hi\n",
      "[2, 4]\n"
     ]
    }
   ],
   "source": [
    "#Yes, we can change the value of the variable after it is declared.\n",
    "a=54\n",
    "b='Hello'\n",
    "c=[1,2]\n",
    "a=1\n",
    "b='Hi'\n",
    "c=[2,4]\n",
    "print(a)\n",
    "print(b)\n",
    "print(c)"
   ]
  },
  {
   "cell_type": "code",
   "execution_count": 6,
   "id": "29c574da",
   "metadata": {},
   "outputs": [
    {
     "name": "stdout",
     "output_type": "stream",
     "text": [
      "1\n",
      "2\n"
     ]
    }
   ],
   "source": [
    "#No, the variables TEACHER and TEACHEr are different.\n",
    "TEACHER=1\n",
    "TEACHEr=2\n",
    "print(TEACHER)\n",
    "print(TEACHEr)"
   ]
  },
  {
   "cell_type": "code",
   "execution_count": 9,
   "id": "5248f13c",
   "metadata": {},
   "outputs": [
    {
     "name": "stdout",
     "output_type": "stream",
     "text": [
      "True\n"
     ]
    }
   ],
   "source": [
    "a='Blah'\n",
    "b=\"Blah\"\n",
    "print(a is b)"
   ]
  },
  {
   "cell_type": "code",
   "execution_count": 10,
   "id": "ff375213",
   "metadata": {},
   "outputs": [
    {
     "name": "stdout",
     "output_type": "stream",
     "text": [
      "False\n"
     ]
    }
   ],
   "source": [
    "a='4'\n",
    "b=4\n",
    "print(a is b)"
   ]
  },
  {
   "cell_type": "code",
   "execution_count": 15,
   "id": "8bb13e24",
   "metadata": {},
   "outputs": [
    {
     "ename": "SyntaxError",
     "evalue": "invalid syntax (2600899369.py, line 4)",
     "output_type": "error",
     "traceback": [
      "\u001b[1;36m  Input \u001b[1;32mIn [15]\u001b[1;36m\u001b[0m\n\u001b[1;33m    2Teacher=2\u001b[0m\n\u001b[1;37m     ^\u001b[0m\n\u001b[1;31mSyntaxError\u001b[0m\u001b[1;31m:\u001b[0m invalid syntax\n"
     ]
    }
   ],
   "source": [
    "#2Teacher is inccorect because according to convention a variable cannot start with a number.\n",
    "Teacher2=1\n",
    "teacher_25=20\n",
    "2Teacher=2\n",
    "TeaCher=14\n",
    "print(Teacher2)\n",
    "print(teacher_25)\n",
    "print(2Teacher)\n",
    "print(TeaCher)"
   ]
  },
  {
   "cell_type": "code",
   "execution_count": 12,
   "id": "c479a5db",
   "metadata": {},
   "outputs": [
    {
     "name": "stdout",
     "output_type": "stream",
     "text": [
      "<class 'str'>\n"
     ]
    }
   ],
   "source": [
    "print(type(\"10\"))"
   ]
  },
  {
   "cell_type": "code",
   "execution_count": 13,
   "id": "9e2329cb",
   "metadata": {},
   "outputs": [
    {
     "name": "stdout",
     "output_type": "stream",
     "text": [
      "50\n"
     ]
    }
   ],
   "source": [
    "j=5\n",
    "k=10\n",
    "n=j*k\n",
    "print(n)"
   ]
  },
  {
   "cell_type": "code",
   "execution_count": 14,
   "id": "ebc56d20",
   "metadata": {},
   "outputs": [
    {
     "name": "stdout",
     "output_type": "stream",
     "text": [
      "How old are you?: 18\n",
      "You are  18  years old.\n"
     ]
    }
   ],
   "source": [
    "age=input('How old are you?: ')\n",
    "print('You are ',age,' years old.')"
   ]
  },
  {
   "cell_type": "code",
   "execution_count": 23,
   "id": "752479d8",
   "metadata": {},
   "outputs": [
    {
     "name": "stdout",
     "output_type": "stream",
     "text": [
      "Hello\n",
      "3\n",
      "2\n"
     ]
    },
    {
     "ename": "NameError",
     "evalue": "name 'name' is not defined",
     "output_type": "error",
     "traceback": [
      "\u001b[1;31m---------------------------------------------------------------------------\u001b[0m",
      "\u001b[1;31mNameError\u001b[0m                                 Traceback (most recent call last)",
      "Input \u001b[1;32mIn [23]\u001b[0m, in \u001b[0;36m<cell line: 9>\u001b[1;34m()\u001b[0m\n\u001b[0;32m      7\u001b[0m Printname()\n\u001b[0;32m      8\u001b[0m \u001b[38;5;28mprint\u001b[39m(n)\n\u001b[1;32m----> 9\u001b[0m \u001b[38;5;28mprint\u001b[39m(\u001b[43mname\u001b[49m)\n",
      "\u001b[1;31mNameError\u001b[0m: name 'name' is not defined"
     ]
    }
   ],
   "source": [
    "n=2\n",
    "def Printname():\n",
    "    name=\"Hello\"\n",
    "    n=3\n",
    "    print(name)\n",
    "    print(n)\n",
    "Printname()\n",
    "print(n)\n",
    "print(name)\n"
   ]
  },
  {
   "cell_type": "code",
   "execution_count": 25,
   "id": "ae4d4c51",
   "metadata": {},
   "outputs": [
    {
     "data": {
      "text/plain": [
       "5"
      ]
     },
     "execution_count": 25,
     "metadata": {},
     "output_type": "execute_result"
    }
   ],
   "source": [
    "def addfunc(a,b):\n",
    "    return (a+b)\n",
    "addfunc(2,3)"
   ]
  },
  {
   "cell_type": "code",
   "execution_count": 29,
   "id": "841bc30a",
   "metadata": {},
   "outputs": [
    {
     "data": {
      "text/plain": [
       "0"
      ]
     },
     "execution_count": 29,
     "metadata": {},
     "output_type": "execute_result"
    }
   ],
   "source": [
    "#Return 0 is used to control the flow of the programs\n",
    "def addfunc():\n",
    "    return 0\n",
    "addfunc()"
   ]
  },
  {
   "cell_type": "code",
   "execution_count": 44,
   "id": "fc4f93f8",
   "metadata": {},
   "outputs": [
    {
     "name": "stdout",
     "output_type": "stream",
     "text": [
      "Enter a number: 3\n",
      "3  is a prime number.\n"
     ]
    }
   ],
   "source": [
    "def primefunc(a):\n",
    "    for i in range (2, 11):\n",
    "        if(a%i!=0 and a%a==0):\n",
    "            print(a,\" is a prime number.\")\n",
    "            break\n",
    "        else:\n",
    "            print(a,\" is not a prime number.\")\n",
    "            break\n",
    "a1=int(input('Enter a number: '))\n",
    "primefunc(a1)"
   ]
  },
  {
   "cell_type": "code",
   "execution_count": null,
   "id": "ab744d4f",
   "metadata": {},
   "outputs": [],
   "source": [
    "def factfunc(a):\n",
    "    if a==0 or a==1:\n",
    "        return 1\n",
    "    else:\n",
    "        return a*factfunc(a-1)\n",
    "a1=int(input('Enter a number: '))\n",
    "factfunc(a1)"
   ]
  },
  {
   "cell_type": "code",
   "execution_count": null,
   "id": "5949b5c8",
   "metadata": {},
   "outputs": [],
   "source": []
  },
  {
   "cell_type": "code",
   "execution_count": null,
   "id": "f3c26882",
   "metadata": {},
   "outputs": [],
   "source": []
  }
 ],
 "metadata": {
  "kernelspec": {
   "display_name": "Python 3 (ipykernel)",
   "language": "python",
   "name": "python3"
  },
  "language_info": {
   "codemirror_mode": {
    "name": "ipython",
    "version": 3
   },
   "file_extension": ".py",
   "mimetype": "text/x-python",
   "name": "python",
   "nbconvert_exporter": "python",
   "pygments_lexer": "ipython3",
   "version": "3.9.12"
  }
 },
 "nbformat": 4,
 "nbformat_minor": 5
}
