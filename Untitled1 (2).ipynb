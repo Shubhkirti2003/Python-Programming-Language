{
 "cells": [
  {
   "cell_type": "code",
   "execution_count": null,
   "id": "dfb513b9",
   "metadata": {},
   "outputs": [],
   "source": []
  },
  {
   "cell_type": "code",
   "execution_count": 31,
   "id": "1921ff61",
   "metadata": {},
   "outputs": [
    {
     "name": "stdout",
     "output_type": "stream",
     "text": [
      "Total Student = 0\n"
     ]
    },
    {
     "ename": "AttributeError",
     "evalue": "'STUDENT' object has no attribute 'name'",
     "output_type": "error",
     "traceback": [
      "\u001b[1;31m---------------------------------------------------------------------------\u001b[0m",
      "\u001b[1;31mAttributeError\u001b[0m                            Traceback (most recent call last)",
      "Input \u001b[1;32mIn [31]\u001b[0m, in \u001b[0;36m<cell line: 18>\u001b[1;34m()\u001b[0m\n\u001b[0;32m     16\u001b[0m s1\u001b[38;5;241m=\u001b[39mSTUDENT()\n\u001b[0;32m     17\u001b[0m s1\u001b[38;5;241m.\u001b[39mdisplayCount()\n\u001b[1;32m---> 18\u001b[0m \u001b[43ms1\u001b[49m\u001b[38;5;241;43m.\u001b[39;49m\u001b[43mdisplayStudent\u001b[49m\u001b[43m(\u001b[49m\u001b[43m)\u001b[49m\n",
      "Input \u001b[1;32mIn [31]\u001b[0m, in \u001b[0;36mSTUDENT.displayStudent\u001b[1;34m(self)\u001b[0m\n\u001b[0;32m     13\u001b[0m \u001b[38;5;28;01mdef\u001b[39;00m \u001b[38;5;21mdisplayStudent\u001b[39m(\u001b[38;5;28mself\u001b[39m):\n\u001b[1;32m---> 14\u001b[0m     \u001b[38;5;28mprint\u001b[39m(\u001b[38;5;124m\"\u001b[39m\u001b[38;5;124mName:\u001b[39m\u001b[38;5;124m\"\u001b[39m, \u001b[38;5;28;43mself\u001b[39;49m\u001b[38;5;241;43m.\u001b[39;49m\u001b[43mname\u001b[49m,\u001b[38;5;124m\"\u001b[39m\u001b[38;5;124mFee: \u001b[39m\u001b[38;5;124m\"\u001b[39m,\u001b[38;5;28mself\u001b[39m\u001b[38;5;241m.\u001b[39mfee)\n",
      "\u001b[1;31mAttributeError\u001b[0m: 'STUDENT' object has no attribute 'name'"
     ]
    }
   ],
   "source": [
    "class STUDENT:\n",
    "    totalStudent=0\n",
    "    def _init_(self):\n",
    "        name=input(\"Enter Student Name: \")\n",
    "        \n",
    "        self.name=name\n",
    "        fee=int(input(\"Enter Student Fees: \"))\n",
    "        self.fee=fee\n",
    "        STUDENT.totalStudent=STUDENT.totalStudent+1\n",
    "        \n",
    "    def displayCount(self):\n",
    "        print(\"Total Student = %d\"%STUDENT.totalStudent)\n",
    "    def displayStudent(self):\n",
    "        print(\"Name:\", self.name,\"Fee: \",self.fee)\n",
    "\n",
    "s1=STUDENT()\n",
    "s1.displayCount()\n",
    "s1.displayStudent()\n",
    "        "
   ]
  },
  {
   "cell_type": "code",
   "execution_count": 29,
   "id": "896528db",
   "metadata": {},
   "outputs": [
    {
     "name": "stdout",
     "output_type": "stream",
     "text": [
      "Enter Employee's Name: sdsa\n",
      "Enter Employee's ID: 55\n"
     ]
    }
   ],
   "source": [
    "class Employee:\n",
    "    def _init_(self,id1,name1):\n",
    "        self.id1=id1\n",
    "        self.name1=name1\n",
    "    def display(self):\n",
    "        print(self.id1)\n",
    "        print(self.name1)\n",
    "        \n",
    "\n",
    "name=input(\"Enter Employee's Name: \")\n",
    "id=int(input(\"Enter Employee's ID: \"))\n",
    "emp=Employee()\n",
    "emp._init_(id,name)\n",
    "\n",
    "        "
   ]
  },
  {
   "cell_type": "code",
   "execution_count": 8,
   "id": "6a4c2d97",
   "metadata": {},
   "outputs": [
    {
     "name": "stdout",
     "output_type": "stream",
     "text": [
      "123\n",
      "Zeeko\n"
     ]
    }
   ],
   "source": [
    "class Employee:\n",
    "    id=123\n",
    "    name=\"Zeeko\"\n",
    "    def display(self):\n",
    "        print(self.id)\n",
    "        print(self.name)\n",
    "emp=Employee()\n",
    "emp.display()\n",
    "        \n",
    "        "
   ]
  },
  {
   "cell_type": "code",
   "execution_count": 13,
   "id": "455dff4d",
   "metadata": {},
   "outputs": [
    {
     "ename": "AttributeError",
     "evalue": "id",
     "output_type": "error",
     "traceback": [
      "\u001b[1;31m---------------------------------------------------------------------------\u001b[0m",
      "\u001b[1;31mAttributeError\u001b[0m                            Traceback (most recent call last)",
      "Input \u001b[1;32mIn [13]\u001b[0m, in \u001b[0;36m<cell line: 8>\u001b[1;34m()\u001b[0m\n\u001b[0;32m      5\u001b[0m         \u001b[38;5;28mprint\u001b[39m(\u001b[38;5;124m\"\u001b[39m\u001b[38;5;124mid:\u001b[39m\u001b[38;5;132;01m%d\u001b[39;00m\u001b[38;5;124m \u001b[39m\u001b[38;5;130;01m\\n\u001b[39;00m\u001b[38;5;124mname:\u001b[39m\u001b[38;5;132;01m%s\u001b[39;00m\u001b[38;5;124m\"\u001b[39m\u001b[38;5;241m%\u001b[39m(\u001b[38;5;28mself\u001b[39m\u001b[38;5;241m.\u001b[39mid,\u001b[38;5;28mself\u001b[39m\u001b[38;5;241m.\u001b[39mname))\n\u001b[0;32m      7\u001b[0m emp\u001b[38;5;241m=\u001b[39mEmployee()\n\u001b[1;32m----> 8\u001b[0m \u001b[38;5;28;01mdel\u001b[39;00m emp\u001b[38;5;241m.\u001b[39mid\n\u001b[0;32m      9\u001b[0m \u001b[38;5;28;01mdel\u001b[39;00m emp\n\u001b[0;32m     10\u001b[0m emp\u001b[38;5;241m.\u001b[39mdisplay()\n",
      "\u001b[1;31mAttributeError\u001b[0m: id"
     ]
    }
   ],
   "source": [
    "class Employee:\n",
    "    id=123\n",
    "    name=\"Zeeko\"\n",
    "    def display(self):\n",
    "        print(\"id:%d \\nname:%s\"%(self.id,self.name))\n",
    "        \n",
    "emp=Employee()\n",
    "del emp.id\n",
    "del emp\n",
    "emp.display()\n",
    "        \n",
    "       "
   ]
  },
  {
   "cell_type": "code",
   "execution_count": 38,
   "id": "0f355ca1",
   "metadata": {},
   "outputs": [
    {
     "ename": "TypeError",
     "evalue": "Student() takes no arguments",
     "output_type": "error",
     "traceback": [
      "\u001b[1;31m---------------------------------------------------------------------------\u001b[0m",
      "\u001b[1;31mTypeError\u001b[0m                                 Traceback (most recent call last)",
      "Input \u001b[1;32mIn [38]\u001b[0m, in \u001b[0;36m<cell line: 8>\u001b[1;34m()\u001b[0m\n\u001b[0;32m      5\u001b[0m     \u001b[38;5;28;01mdef\u001b[39;00m \u001b[38;5;21mshow\u001b[39m(\u001b[38;5;28mself\u001b[39m):\n\u001b[0;32m      6\u001b[0m         \u001b[38;5;28mprint\u001b[39m(\u001b[38;5;124m\"\u001b[39m\u001b[38;5;124mHello \u001b[39m\u001b[38;5;124m\"\u001b[39m,\u001b[38;5;28mself\u001b[39m\u001b[38;5;241m.\u001b[39mname)\n\u001b[1;32m----> 8\u001b[0m student\u001b[38;5;241m=\u001b[39m\u001b[43mStudent\u001b[49m\u001b[43m(\u001b[49m\u001b[38;5;124;43m\"\u001b[39;49m\u001b[38;5;124;43mJohn\u001b[39;49m\u001b[38;5;124;43m\"\u001b[39;49m\u001b[43m)\u001b[49m\n\u001b[0;32m      9\u001b[0m student\u001b[38;5;241m.\u001b[39mdisplay()\n",
      "\u001b[1;31mTypeError\u001b[0m: Student() takes no arguments"
     ]
    }
   ],
   "source": [
    "class Student:\n",
    "    def _init_(self,name):\n",
    "        print(\"This is a parameterized constructor.\")\n",
    "        self.name=name\n",
    "    def show(self):\n",
    "        print(\"Hello \",self.name)\n",
    "\n",
    "student=Student(\"John\")\n",
    "student.display()\n",
    "        "
   ]
  },
  {
   "cell_type": "code",
   "execution_count": 41,
   "id": "de156f14",
   "metadata": {},
   "outputs": [
    {
     "name": "stdout",
     "output_type": "stream",
     "text": [
      "Hello John\n",
      "None\n"
     ]
    }
   ],
   "source": [
    "class Student:\n",
    "    def _init_(self):\n",
    "        print(\"This is a non-parameterized constructor.\")\n",
    "    def show(self,name):\n",
    "        print(\"Hello\",name)\n",
    "\n",
    "student=Student()\n",
    "student.show(\"John\")\n",
    "        "
   ]
  },
  {
   "cell_type": "code",
   "execution_count": 25,
   "id": "04609d22",
   "metadata": {},
   "outputs": [
    {
     "name": "stdout",
     "output_type": "stream",
     "text": [
      "101 Xavier\n"
     ]
    }
   ],
   "source": [
    "#Default Constructor\n",
    "class Student:\n",
    "    roll_no=101\n",
    "    name=\"Xavier\"\n",
    "    \n",
    "    def display(self):\n",
    "        print(self.roll_no,self.name)\n",
    "\n",
    "s1=Student()\n",
    "s1.display()\n",
    "        "
   ]
  },
  {
   "cell_type": "code",
   "execution_count": 35,
   "id": "457f61d8",
   "metadata": {},
   "outputs": [
    {
     "name": "stdout",
     "output_type": "stream",
     "text": [
      "Dog barking.\n",
      "Animal Speaking.\n"
     ]
    }
   ],
   "source": [
    "#Inheritance\n",
    "class Animal:\n",
    "    def speak(self):\n",
    "        print(\"Animal Speaking.\")\n",
    "\n",
    "class Dog(Animal):\n",
    "    def bark(self):\n",
    "        print(\"Dog barking.\")\n",
    "\n",
    "d=Dog()\n",
    "d.bark()\n",
    "d.speak()"
   ]
  },
  {
   "cell_type": "code",
   "execution_count": 36,
   "id": "a610eea6",
   "metadata": {},
   "outputs": [
    {
     "name": "stdout",
     "output_type": "stream",
     "text": [
      "Dog barking.\n",
      "Animal Speaking.\n",
      "Carnivorous Animal.\n"
     ]
    }
   ],
   "source": [
    "#Multiple Inheritance\n",
    "class Animal:\n",
    "    def speak(self):\n",
    "        print(\"Animal Speaking.\")\n",
    "\n",
    "class Carnivorous:\n",
    "    def eat(self):\n",
    "        print(\"Carnivorous Animal.\")\n",
    "\n",
    "class Dog(Animal,Carnivorous):\n",
    "    def bark(self):\n",
    "        print(\"Dog barking.\")\n",
    "\n",
    "\n",
    "\n",
    "d=Dog()\n",
    "d.bark()\n",
    "d.speak()\n",
    "d.eat()"
   ]
  },
  {
   "cell_type": "code",
   "execution_count": 37,
   "id": "62a7e790",
   "metadata": {},
   "outputs": [
    {
     "name": "stdout",
     "output_type": "stream",
     "text": [
      "Dog barking.\n",
      "Animal Speaking.\n",
      "Cat meowing.\n",
      "Animal Speaking.\n"
     ]
    }
   ],
   "source": [
    "#Multilevel Inheritance\n",
    "class Animal:\n",
    "    def speak(self):\n",
    "        print(\"Animal Speaking.\")\n",
    "\n",
    "class Dog(Animal):\n",
    "    def bark(self):\n",
    "        print(\"Dog barking.\")\n",
    "        \n",
    "class Cat(Animal):\n",
    "    def meow(self):\n",
    "        print(\"Cat meowing.\")\n",
    "\n",
    "d=Dog()\n",
    "d.bark()\n",
    "d.speak()\n",
    "c=Cat()\n",
    "c.meow()\n",
    "c.speak()"
   ]
  },
  {
   "cell_type": "code",
   "execution_count": 40,
   "id": "427b1733",
   "metadata": {},
   "outputs": [
    {
     "name": "stdout",
     "output_type": "stream",
     "text": [
      "0.5\n",
      "200\n",
      "30\n"
     ]
    }
   ],
   "source": [
    "#Multiple Inheritance\n",
    "class Calculation1:\n",
    "    def Summation(self,a,b):\n",
    "        return a+b;\n",
    "    \n",
    "class Calculation2:\n",
    "    def Multiplication(self,a,b):\n",
    "        return a*b;\n",
    "\n",
    "\n",
    "class Derived(Calculation1,Calculation2):\n",
    "    def Divide(self,a,b):\n",
    "        return a/b;\n",
    "\n",
    "\n",
    "\n",
    "d=Derived()\n",
    "print(d.Divide(10,20))\n",
    "print(d.Multiplication(10,20))\n",
    "print(d.Summation(10,20))\n"
   ]
  },
  {
   "cell_type": "code",
   "execution_count": 45,
   "id": "53dc624a",
   "metadata": {},
   "outputs": [
    {
     "name": "stdout",
     "output_type": "stream",
     "text": [
      "30\n",
      "HelloHi\n",
      "[10, 20, 30, 40]\n",
      "[10, 20, 'Hello', 30, 40, 'Hi']\n"
     ]
    }
   ],
   "source": [
    "#Operator Overloading\n",
    "class Operator:\n",
    "    def operation(self,a,b):\n",
    "        return a+b;\n",
    "\n",
    "o=Operator()\n",
    "print(o.operation(10,20))\n",
    "print(o.operation(\"Hello\",\"Hi\"))\n",
    "print(o.operation([10,20],[30,40]))\n",
    "print(o.operation([10,20,\"Hello\"],[30,40,\"Hi\"]))\n"
   ]
  },
  {
   "cell_type": "code",
   "execution_count": 54,
   "id": "2388f24a",
   "metadata": {},
   "outputs": [
    {
     "ename": "NameError",
     "evalue": "name 'self' is not defined",
     "output_type": "error",
     "traceback": [
      "\u001b[1;31m---------------------------------------------------------------------------\u001b[0m",
      "\u001b[1;31mNameError\u001b[0m                                 Traceback (most recent call last)",
      "Input \u001b[1;32mIn [54]\u001b[0m, in \u001b[0;36m<cell line: 2>\u001b[1;34m()\u001b[0m\n\u001b[0;32m      1\u001b[0m \u001b[38;5;66;03m#Method Overloading\u001b[39;00m\n\u001b[1;32m----> 2\u001b[0m \u001b[38;5;28;01mclass\u001b[39;00m \u001b[38;5;21;01mMethod\u001b[39;00m:\n\u001b[0;32m      3\u001b[0m     \u001b[38;5;28;01mdef\u001b[39;00m \u001b[38;5;21m_init_\u001b[39m(\u001b[38;5;28mself\u001b[39m,a,b):\n\u001b[0;32m      4\u001b[0m         \u001b[38;5;28mself\u001b[39m\u001b[38;5;241m.\u001b[39ma\u001b[38;5;241m=\u001b[39ma\n",
      "Input \u001b[1;32mIn [54]\u001b[0m, in \u001b[0;36mMethod\u001b[1;34m()\u001b[0m\n\u001b[0;32m      4\u001b[0m     \u001b[38;5;28mself\u001b[39m\u001b[38;5;241m.\u001b[39ma\u001b[38;5;241m=\u001b[39ma\n\u001b[0;32m      5\u001b[0m     \u001b[38;5;28mself\u001b[39m\u001b[38;5;241m.\u001b[39mb\u001b[38;5;241m=\u001b[39mb\n\u001b[1;32m----> 6\u001b[0m \u001b[38;5;28;01mif\u001b[39;00m(\u001b[38;5;28;43mself\u001b[39;49m\u001b[38;5;241m.\u001b[39mb\u001b[38;5;241m==\u001b[39m\u001b[38;5;241m0\u001b[39m):\n\u001b[0;32m      7\u001b[0m     \u001b[38;5;28;01mdef\u001b[39;00m \u001b[38;5;21marea\u001b[39m(\u001b[38;5;28mself\u001b[39m,a,b):\n\u001b[0;32m      8\u001b[0m         \u001b[38;5;28mprint\u001b[39m(\u001b[38;5;124m\"\u001b[39m\u001b[38;5;124mArea of square\u001b[39m\u001b[38;5;124m\"\u001b[39m)\n",
      "\u001b[1;31mNameError\u001b[0m: name 'self' is not defined"
     ]
    }
   ],
   "source": [
    "#Method Overloading\n",
    "class Method:\n",
    "    def _init_(self,a,b):\n",
    "        self.a=a\n",
    "        self.b=b\n",
    "    if(self.b==0):\n",
    "        def area(self,a,b):\n",
    "            print(\"Area of square\")\n",
    "            return self.a*self.a;\n",
    "    else:\n",
    "        def area(self,a,b):\n",
    "            print(\"Area of rectangle\")\n",
    "            return self.a*self.b;\n",
    "            \n",
    "m=Method\n",
    "print(m.area(10,0))\n",
    "print(m.area(10,20))\n"
   ]
  },
  {
   "cell_type": "code",
   "execution_count": 53,
   "id": "f0333119",
   "metadata": {},
   "outputs": [
    {
     "name": "stdout",
     "output_type": "stream",
     "text": [
      "Area of square:  25\n",
      "Area of rectangle:  15\n"
     ]
    }
   ],
   "source": [
    "class Shape:\n",
    "    def area(self,a,b=0):\n",
    "        if b>0:\n",
    "            print(\"Area of rectangle: \",a*b)\n",
    "        else:\n",
    "            print(\"Area of square: \",a*a)\n",
    "square=Shape()\n",
    "square.area(5)\n",
    "rectangle=Shape()\n",
    "rectangle.area(3,5)"
   ]
  }
 ],
 "metadata": {
  "kernelspec": {
   "display_name": "Python 3 (ipykernel)",
   "language": "python",
   "name": "python3"
  },
  "language_info": {
   "codemirror_mode": {
    "name": "ipython",
    "version": 3
   },
   "file_extension": ".py",
   "mimetype": "text/x-python",
   "name": "python",
   "nbconvert_exporter": "python",
   "pygments_lexer": "ipython3",
   "version": "3.9.12"
  }
 },
 "nbformat": 4,
 "nbformat_minor": 5
}
