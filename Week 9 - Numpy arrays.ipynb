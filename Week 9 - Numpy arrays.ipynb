{
 "cells": [
  {
   "cell_type": "code",
   "execution_count": 3,
   "id": "16679882",
   "metadata": {},
   "outputs": [
    {
     "name": "stdout",
     "output_type": "stream",
     "text": [
      "array('i', [2, 4, 6, 8])\n"
     ]
    }
   ],
   "source": [
    "import array\n",
    "a=array.array(\"i\",[2,4,6,8])\n",
    "print(a)"
   ]
  },
  {
   "cell_type": "code",
   "execution_count": 27,
   "id": "a89a26c9",
   "metadata": {},
   "outputs": [
    {
     "name": "stdout",
     "output_type": "stream",
     "text": [
      "array('d', [1.0, 2.0, 4.0, 5.0, 6.0, 7.0])\n",
      "<class 'array.array'>\n"
     ]
    }
   ],
   "source": [
    "import array as arr\n",
    "a=arr.array(\"d\",[1,2,4,5,6,7])\n",
    "print(a)\n",
    "print(type(a))"
   ]
  },
  {
   "cell_type": "code",
   "execution_count": 7,
   "id": "543baaf7",
   "metadata": {},
   "outputs": [
    {
     "name": "stdout",
     "output_type": "stream",
     "text": [
      "First Element 2\n",
      "Second Element 4\n",
      "Third Element 6\n",
      "Fifth Element 9\n",
      "Fourth Element 8\n"
     ]
    }
   ],
   "source": [
    "import array as arr\n",
    "c=array.array(\"i\",[2,4,6,8,9])\n",
    "print(\"First Element\", c[0])\n",
    "print(\"Second Element\", c[1])\n",
    "print(\"Third Element\", c[2])\n",
    "print(\"Fifth Element\", c[4])\n",
    "print(\"Fourth Element\", c[-2])"
   ]
  },
  {
   "cell_type": "code",
   "execution_count": 8,
   "id": "b3cb8e85",
   "metadata": {},
   "outputs": [
    {
     "name": "stdout",
     "output_type": "stream",
     "text": [
      "Length:  5\n"
     ]
    }
   ],
   "source": [
    "import array as arr\n",
    "c=array.array(\"i\",[2,4,6,8,9])\n",
    "print(\"Length: \", len(c))"
   ]
  },
  {
   "cell_type": "code",
   "execution_count": 12,
   "id": "516f3fb7",
   "metadata": {},
   "outputs": [
    {
     "name": "stdout",
     "output_type": "stream",
     "text": [
      "array('i', [2, 4, 6, 8, 9, 10])\n",
      "array('i', [2, 4, 6, 8, 9, 10, 44, 67])\n",
      "array('i', [2, 88, 4, 6, 8, 9, 10, 44, 67])\n",
      "array('i', [2, 88, 4, 6, 8, 9, 10, 44, 67, 1, 2, 4, 5, 6, 7])\n"
     ]
    }
   ],
   "source": [
    "import array as arr\n",
    "c=array.array(\"i\",[2,4,6,8,9])\n",
    "c.append(10)\n",
    "print(c)\n",
    "c.extend([44,67])\n",
    "print(c)\n",
    "c.insert(1,88)\n",
    "print(c)\n",
    "a=arr.array(\"i\",[1,2,4,5,6,7])\n",
    "c=c+a\n",
    "print(c)"
   ]
  },
  {
   "cell_type": "code",
   "execution_count": 18,
   "id": "39385719",
   "metadata": {},
   "outputs": [
    {
     "name": "stdout",
     "output_type": "stream",
     "text": [
      "array('i', [2, 4, 6, 8, 9])\n",
      "array('i', [2, 4, 6, 9])\n",
      "Popped element:  8\n",
      "array('i', [4, 6, 9])\n",
      "Removed element:  None\n",
      "array('i', [4, 6])\n",
      "Popped element:  9\n"
     ]
    }
   ],
   "source": [
    "import array as arr\n",
    "c=array.array(\"i\",[2,4,6,8,9])\n",
    "print(c)\n",
    "d=c.pop(3)\n",
    "print(c)\n",
    "print(\"Popped element: \",d)\n",
    "e=c.remove(2)\n",
    "print(c)\n",
    "print(\"Removed element: \",e)\n",
    "f=c.pop()\n",
    "print(c)\n",
    "print(\"Popped element: \",f)"
   ]
  },
  {
   "cell_type": "code",
   "execution_count": 21,
   "id": "aff5ef50",
   "metadata": {},
   "outputs": [
    {
     "name": "stdout",
     "output_type": "stream",
     "text": [
      "array('i', [1, 2, 4, 5, 6, 7, 2, 4, 6, 8, 9])\n",
      "array('i', [1, 2, 4, 5, 6, 7, 1, 2, 4, 5, 6, 7, 1, 2, 4, 5, 6, 7])\n"
     ]
    }
   ],
   "source": [
    "import array as arr\n",
    "a=arr.array(\"i\",[1,2,4,5,6,7])\n",
    "b=array.array(\"i\",[2,4,6,8,9])\n",
    "c=arr.array(\"i\")\n",
    "c=a+b\n",
    "print(c)\n",
    "c=a*3\n",
    "print(c)"
   ]
  },
  {
   "cell_type": "code",
   "execution_count": 23,
   "id": "2b4d4a19",
   "metadata": {},
   "outputs": [
    {
     "name": "stdout",
     "output_type": "stream",
     "text": [
      "array('i', [4, 5, 6, 7])\n",
      "array('i', [1, 2, 4, 5, 6, 7])\n",
      "array('i', [5, 6])\n",
      "array('i', [5, 6, 7])\n"
     ]
    }
   ],
   "source": [
    "num_list=[1,2,4,5,6,7]\n",
    "num_array=arr.array(\"i\",num_list)\n",
    "print(num_array[2:])\n",
    "print(num_array[:])\n",
    "print(num_array[-3:-1:1])\n",
    "print(num_array[-3:])"
   ]
  },
  {
   "cell_type": "code",
   "execution_count": 35,
   "id": "3553cbdd",
   "metadata": {},
   "outputs": [
    {
     "name": "stdout",
     "output_type": "stream",
     "text": [
      "False\n"
     ]
    }
   ],
   "source": [
    "a=arr.array(\"i\",[1,2,4,5,6,7])\n",
    "b=array.array(\"i\",[2,4,6,8,9])\n",
    "print(a==b)"
   ]
  },
  {
   "cell_type": "code",
   "execution_count": 41,
   "id": "6954e946",
   "metadata": {},
   "outputs": [
    {
     "ename": "NameError",
     "evalue": "name 'c' is not defined",
     "output_type": "error",
     "traceback": [
      "\u001b[1;31m---------------------------------------------------------------------------\u001b[0m",
      "\u001b[1;31mNameError\u001b[0m                                 Traceback (most recent call last)",
      "Input \u001b[1;32mIn [41]\u001b[0m, in \u001b[0;36m<cell line: 3>\u001b[1;34m()\u001b[0m\n\u001b[0;32m      1\u001b[0m c\u001b[38;5;241m=\u001b[39marray\u001b[38;5;241m.\u001b[39marray(\u001b[38;5;124m\"\u001b[39m\u001b[38;5;124mi\u001b[39m\u001b[38;5;124m\"\u001b[39m,[\u001b[38;5;241m2\u001b[39m,\u001b[38;5;241m4\u001b[39m,\u001b[38;5;241m6\u001b[39m,\u001b[38;5;241m8\u001b[39m,\u001b[38;5;241m9\u001b[39m])\n\u001b[0;32m      2\u001b[0m \u001b[38;5;28;01mdel\u001b[39;00m c\n\u001b[1;32m----> 3\u001b[0m \u001b[38;5;28mprint\u001b[39m(\u001b[43mc\u001b[49m)\n",
      "\u001b[1;31mNameError\u001b[0m: name 'c' is not defined"
     ]
    }
   ],
   "source": [
    "c=array.array(\"i\",[2,4,6,8,9])\n",
    "del c\n",
    "print(c)"
   ]
  },
  {
   "cell_type": "code",
   "execution_count": 44,
   "id": "ff7ee46d",
   "metadata": {},
   "outputs": [
    {
     "name": "stdout",
     "output_type": "stream",
     "text": [
      "True\n",
      "False\n",
      "False\n",
      "True\n"
     ]
    }
   ],
   "source": [
    "c=array.array(\"i\",[2,4,6,8,9])\n",
    "print(2 in c)\n",
    "print(10 in c)\n",
    "print(2 not in c)\n",
    "print(10 not in c)"
   ]
  },
  {
   "cell_type": "code",
   "execution_count": 47,
   "id": "a747a1c9",
   "metadata": {},
   "outputs": [
    {
     "name": "stdout",
     "output_type": "stream",
     "text": [
      "None\n"
     ]
    }
   ],
   "source": [
    "c=array.array(\"i\",[2,4,6,8,9])\n",
    "d=c.reverse()\n",
    "print(d)"
   ]
  },
  {
   "cell_type": "code",
   "execution_count": 25,
   "id": "879dd2d7",
   "metadata": {},
   "outputs": [
    {
     "name": "stdout",
     "output_type": "stream",
     "text": [
      "Values\n",
      "1.0\n",
      "2.0\n",
      "4.0\n",
      "5.0\n",
      "6.0\n",
      "7.0\n",
      "1.0 2.0 4.0 5.0 6.0 7.0 "
     ]
    }
   ],
   "source": [
    "a=arr.array(\"d\",[1,2,4,5,6,7])\n",
    "print(\"Values\")\n",
    "for i in a:\n",
    "    print(i)\n",
    "for i in a:\n",
    "    print(i,end=\" \")"
   ]
  },
  {
   "cell_type": "code",
   "execution_count": 33,
   "id": "e7f38d7e",
   "metadata": {},
   "outputs": [
    {
     "name": "stdout",
     "output_type": "stream",
     "text": [
      "Values\n",
      "1.0\n",
      "2.0\n",
      "4.0\n",
      "5.0\n",
      "6.0\n",
      "7.0\n"
     ]
    }
   ],
   "source": [
    "a=arr.array(\"d\",[1,2,4,5,6,7])\n",
    "print(\"Values\")\n",
    "temp=0\n",
    "while(temp<len(a)):\n",
    "    print(a[temp])\n",
    "    temp=temp+1"
   ]
  },
  {
   "cell_type": "code",
   "execution_count": 28,
   "id": "b5e32b54",
   "metadata": {},
   "outputs": [
    {
     "name": "stdout",
     "output_type": "stream",
     "text": [
      "[1 2 4 5 6 7]\n",
      "<class 'numpy.ndarray'>\n",
      "[10 11  9]\n",
      "<class 'numpy.ndarray'>\n"
     ]
    }
   ],
   "source": [
    "import numpy as np\n",
    "a=np.array([1,2,4,5,6,7])\n",
    "b=np.array([10,11,9])\n",
    "print(a)\n",
    "print(type(a))\n",
    "print(b)\n",
    "print(type(b))"
   ]
  },
  {
   "cell_type": "code",
   "execution_count": 29,
   "id": "c9f1c420",
   "metadata": {},
   "outputs": [
    {
     "name": "stdout",
     "output_type": "stream",
     "text": [
      "[[1 4 6]\n",
      " [6 5 8]]\n"
     ]
    }
   ],
   "source": [
    "c=np.array([(1,4,6),(6,5,8)])\n",
    "print(c)"
   ]
  },
  {
   "cell_type": "code",
   "execution_count": 30,
   "id": "72add0c0",
   "metadata": {},
   "outputs": [
    {
     "name": "stdout",
     "output_type": "stream",
     "text": [
      "[[1 4 6]\n",
      " [6 5 8]]\n"
     ]
    }
   ],
   "source": [
    "d=np.array([[1,4,6],[6,5,8]])\n",
    "print(d)"
   ]
  },
  {
   "cell_type": "code",
   "execution_count": 34,
   "id": "beccbd9c",
   "metadata": {},
   "outputs": [
    {
     "data": {
      "text/plain": [
       "2"
      ]
     },
     "execution_count": 34,
     "metadata": {},
     "output_type": "execute_result"
    }
   ],
   "source": [
    "d.ndim"
   ]
  },
  {
   "cell_type": "code",
   "execution_count": 37,
   "id": "d6aa49e6",
   "metadata": {},
   "outputs": [
    {
     "name": "stdout",
     "output_type": "stream",
     "text": [
      "[[[ 4  6  7]\n",
      "  [ 5  2  1]\n",
      "  [10 22 45]\n",
      "  [ 1  5  6]]]\n"
     ]
    }
   ],
   "source": [
    "a=np.array([((4,6,7),(5,2,1),(10,22,45),(1,5,6))])\n",
    "print(a)"
   ]
  },
  {
   "cell_type": "code",
   "execution_count": 39,
   "id": "a55012eb",
   "metadata": {},
   "outputs": [
    {
     "name": "stdout",
     "output_type": "stream",
     "text": [
      "(2, 3)\n"
     ]
    }
   ],
   "source": [
    "e=np.array([[1,4,6],[6,5,8]])\n",
    "print(e.shape)"
   ]
  },
  {
   "cell_type": "code",
   "execution_count": 40,
   "id": "7b348e39",
   "metadata": {},
   "outputs": [
    {
     "name": "stdout",
     "output_type": "stream",
     "text": [
      "(array([5], dtype=int64),)\n"
     ]
    }
   ],
   "source": [
    "arr=np.array([1,3,6,7,8,5,10])\n",
    "res=np.where(arr==5)\n",
    "print(res)"
   ]
  },
  {
   "cell_type": "code",
   "execution_count": 49,
   "id": "2c762a67",
   "metadata": {},
   "outputs": [
    {
     "name": "stdout",
     "output_type": "stream",
     "text": [
      "1\n"
     ]
    }
   ],
   "source": [
    "arr=np.array([1,3,6,7,8,5,10])\n",
    "s=np.searchsorted(arr,3)\n",
    "print(s)"
   ]
  },
  {
   "cell_type": "code",
   "execution_count": null,
   "id": "d77d6500",
   "metadata": {},
   "outputs": [],
   "source": []
  }
 ],
 "metadata": {
  "kernelspec": {
   "display_name": "Python 3 (ipykernel)",
   "language": "python",
   "name": "python3"
  },
  "language_info": {
   "codemirror_mode": {
    "name": "ipython",
    "version": 3
   },
   "file_extension": ".py",
   "mimetype": "text/x-python",
   "name": "python",
   "nbconvert_exporter": "python",
   "pygments_lexer": "ipython3",
   "version": "3.9.12"
  }
 },
 "nbformat": 4,
 "nbformat_minor": 5
}
