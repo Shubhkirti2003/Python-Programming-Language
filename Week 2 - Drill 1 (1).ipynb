{
 "cells": [
  {
   "cell_type": "code",
   "execution_count": 3,
   "id": "73decade",
   "metadata": {},
   "outputs": [
    {
     "name": "stdout",
     "output_type": "stream",
     "text": [
      "Minutes per week =  70560\n"
     ]
    }
   ],
   "source": [
    "DaysPerWeek=7\n",
    "HoursPerWeek=24*7\n",
    "MinutesPerHour=60\n",
    "print(\"Minutes per week = \",DaysPerWeek*HoursPerWeek*MinutesPerHour)"
   ]
  },
  {
   "cell_type": "code",
   "execution_count": 4,
   "id": "03150569",
   "metadata": {},
   "outputs": [
    {
     "name": "stdout",
     "output_type": "stream",
     "text": [
      "Minutes per week =  76440\n"
     ]
    }
   ],
   "source": [
    "DaysPerWeek=7\n",
    "HoursPerWeek=26*7\n",
    "MinutesPerHour=60\n",
    "print(\"Minutes per week = \",DaysPerWeek*HoursPerWeek*MinutesPerHour)"
   ]
  },
  {
   "cell_type": "code",
   "execution_count": 9,
   "id": "7b0ca393",
   "metadata": {},
   "outputs": [
    {
     "name": "stdout",
     "output_type": "stream",
     "text": [
      "5.0\n"
     ]
    }
   ],
   "source": [
    "import math\n",
    "l1=3\n",
    "l2=4\n",
    "Hypotenuse=math.sqrt(l1**2+l2**2)\n",
    "print(Hypotenuse)"
   ]
  },
  {
   "cell_type": "code",
   "execution_count": 8,
   "id": "fc36f1c9",
   "metadata": {},
   "outputs": [
    {
     "name": "stdout",
     "output_type": "stream",
     "text": [
      "2\n",
      "4\n",
      "8\n",
      "16\n",
      "32\n",
      "64\n",
      "128\n",
      "256\n"
     ]
    }
   ],
   "source": [
    "for i in range(1,9):\n",
    "    print(2**i)"
   ]
  },
  {
   "cell_type": "code",
   "execution_count": 12,
   "id": "d9e0f42a",
   "metadata": {},
   "outputs": [
    {
     "name": "stdout",
     "output_type": "stream",
     "text": [
      "Enter the power of two:5\n",
      "Two raise to the power 5 is 32\n"
     ]
    }
   ],
   "source": [
    "a=int(input(\"Enter the power of two:\"))\n",
    "b=2**a\n",
    "print(\"Two raise to the power\",a,\"is\",b)"
   ]
  },
  {
   "cell_type": "code",
   "execution_count": 13,
   "id": "8e39c522",
   "metadata": {},
   "outputs": [
    {
     "name": "stdout",
     "output_type": "stream",
     "text": [
      "Enter the base:3\n",
      "Enter the power:3\n",
      "3  raise to the power 3 is 27\n"
     ]
    }
   ],
   "source": [
    "a=int(input(\"Enter the base:\"))\n",
    "b=int(input(\"Enter the power:\"))\n",
    "c=a**b\n",
    "print(a,\" raise to the power\",b,\"is\",c)"
   ]
  },
  {
   "cell_type": "code",
   "execution_count": 16,
   "id": "02329067",
   "metadata": {},
   "outputs": [
    {
     "name": "stdout",
     "output_type": "stream",
     "text": [
      "Enter the leftmost digit: 1\n",
      "Enter the next digit: 0\n",
      "Enter the next digit: 0\n",
      "Enter the next digit: 1\n",
      "The decimal equivalent is 9\n"
     ]
    }
   ],
   "source": [
    "a=int(input(\"Enter the leftmost digit: \"))\n",
    "b=int(input(\"Enter the next digit: \"))\n",
    "c=int(input(\"Enter the next digit: \"))\n",
    "d=int(input(\"Enter the next digit: \"))\n",
    "e=((2**3)*a)+((2**2)*b)+((2**1)*c)+((2**0)*d)\n",
    "print(\"The decimal equivalent is\",e)\n",
    "\n",
    "    "
   ]
  },
  {
   "cell_type": "code",
   "execution_count": 17,
   "id": "cf2b7ea5",
   "metadata": {},
   "outputs": [
    {
     "name": "stdout",
     "output_type": "stream",
     "text": [
      "How many cities?:10\n",
      "For 10  cities, there are  3628800  possible routes.\n"
     ]
    }
   ],
   "source": [
    "import math\n",
    "a=int(input(\"How many cities?:\"))\n",
    "b=math.factorial(a)\n",
    "print(\"For\",a,\" cities, there are \",b,\" possible routes.\")\n"
   ]
  },
  {
   "cell_type": "code",
   "execution_count": 1,
   "id": "68c9edba",
   "metadata": {},
   "outputs": [
    {
     "name": "stdout",
     "output_type": "stream",
     "text": [
      "There are  100  cars available.\n",
      "There are only  30  drivers available.\n",
      "There will be  70  empty cars today.\n",
      "We can transport  120  people today.\n",
      "We have  90  to carpool today.\n",
      "We need to put about  3.0  in each car.\n"
     ]
    }
   ],
   "source": [
    "cars=100\n",
    "space_in_car=4\n",
    "drivers=30\n",
    "passengers=90\n",
    "car_not_driven=cars-drivers\n",
    "cars_driven=drivers*space_in_car\n",
    "carpool_capacity=passengers\n",
    "avg_passenger_per_car=passengers/drivers\n",
    "print(\"There are \",cars,\" cars available.\")\n",
    "print(\"There are only \",drivers,\" drivers available.\")\n",
    "print(\"There will be \",car_not_driven,\" empty cars today.\")\n",
    "print(\"We can transport \",cars_driven,\" people today.\")\n",
    "print(\"We have \",carpool_capacity,\" to carpool today.\")\n",
    "print(\"We need to put about \",avg_passenger_per_car, \" in each car.\" )"
   ]
  },
  {
   "cell_type": "code",
   "execution_count": null,
   "id": "bb64b9fc",
   "metadata": {},
   "outputs": [],
   "source": []
  },
  {
   "cell_type": "code",
   "execution_count": null,
   "id": "3d922e91",
   "metadata": {},
   "outputs": [],
   "source": []
  }
 ],
 "metadata": {
  "kernelspec": {
   "display_name": "Python 3 (ipykernel)",
   "language": "python",
   "name": "python3"
  },
  "language_info": {
   "codemirror_mode": {
    "name": "ipython",
    "version": 3
   },
   "file_extension": ".py",
   "mimetype": "text/x-python",
   "name": "python",
   "nbconvert_exporter": "python",
   "pygments_lexer": "ipython3",
   "version": "3.9.12"
  }
 },
 "nbformat": 4,
 "nbformat_minor": 5
}
