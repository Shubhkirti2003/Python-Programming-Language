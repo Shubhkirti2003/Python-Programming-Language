{
 "cells": [
  {
   "cell_type": "markdown",
   "metadata": {},
   "source": [
    "# Polymorphism"
   ]
  },
  {
   "cell_type": "markdown",
   "metadata": {},
   "source": [
    "## OVERLOADING"
   ]
  },
  {
   "cell_type": "markdown",
   "metadata": {},
   "source": [
    "## Question 1"
   ]
  },
  {
   "cell_type": "markdown",
   "metadata": {},
   "source": [
    "**Create a class with one method sayHello().An object is created based on the class, and call its method using zero and one parameter.**"
   ]
  },
  {
   "cell_type": "code",
   "execution_count": 1,
   "metadata": {},
   "outputs": [
    {
     "name": "stdout",
     "output_type": "stream",
     "text": [
      "Hello \n",
      "Hello Guido\n"
     ]
    }
   ],
   "source": [
    "class Human:\n",
    "\n",
    "    def sayHello(self, name=None):\n",
    "    \n",
    "        if name is not None:\n",
    "            print('Hello ' + name)\n",
    "        else:\n",
    "            print('Hello ')\n",
    "        \n",
    "\n",
    "# Create instance\n",
    "obj = Human()\n",
    "    \n",
    "# Call the method\n",
    "obj.sayHello()\n",
    "    \n",
    "# Call the method with a parameter\n",
    "obj.sayHello('Guido')\n",
    "    "
   ]
  },
  {
   "cell_type": "markdown",
   "metadata": {},
   "source": [
    "## Question 2"
   ]
  },
  {
   "cell_type": "markdown",
   "metadata": {},
   "source": [
    "**Create a class named Itspower. Define two methods __init__ and __pow__. <br>\n",
    "__pow__ takes two objects and returns the *‘x’* of first raised to the power of the *‘x’* of the second. When we type *a ** b*, the interpreter converts it implicitly to a.__pow__(b).**"
   ]
  },
  {
   "cell_type": "code",
   "execution_count": 6,
   "metadata": {},
   "outputs": [],
   "source": [
    "class itspower:                \n",
    "        def __init__(self,x):                  \n",
    "               self.x=x                \n",
    "        def __pow__(self,other):                               \n",
    "               return self.x**other.x\n"
   ]
  },
  {
   "cell_type": "code",
   "execution_count": 3,
   "metadata": {},
   "outputs": [],
   "source": [
    "#make object of class itspower with parameter 2\n",
    "a=itspower(2)"
   ]
  },
  {
   "cell_type": "code",
   "execution_count": 4,
   "metadata": {},
   "outputs": [],
   "source": [
    "#make object of class itspower with parameter 10\n",
    "b=itspower(10)"
   ]
  },
  {
   "cell_type": "code",
   "execution_count": 5,
   "metadata": {},
   "outputs": [
    {
     "data": {
      "text/plain": [
       "1024"
      ]
     },
     "execution_count": 5,
     "metadata": {},
     "output_type": "execute_result"
    }
   ],
   "source": [
    "a**b"
   ]
  },
  {
   "cell_type": "markdown",
   "metadata": {},
   "source": [
    "## Question 3"
   ]
  },
  {
   "cell_type": "markdown",
   "metadata": {},
   "source": [
    "**Create a class named Person. Define the method __init__ (takes two arguments name and age),<br>\n",
    "Overload these 3 methods - __gt__ (takes one object), __abs__, __iadd__ (takes one object).**"
   ]
  },
  {
   "cell_type": "code",
   "execution_count": 10,
   "metadata": {},
   "outputs": [],
   "source": [
    "class Person:\n",
    "      def __init__(self,name,age):\n",
    "         self.name=name\n",
    "         self.age=age\n",
    "      def __gt__(self,other):\n",
    "         if self.age>other.age:\n",
    "                return True\n",
    "         return False\n",
    "      def __abs__(self):\n",
    "         return abs(self.age)\n",
    "      def __iadd__(self,other):\n",
    "         return self.age+other.age"
   ]
  },
  {
   "cell_type": "code",
   "execution_count": 11,
   "metadata": {},
   "outputs": [],
   "source": [
    "Nick=Person('Nick',7)"
   ]
  },
  {
   "cell_type": "code",
   "execution_count": 12,
   "metadata": {},
   "outputs": [],
   "source": [
    "Angela=Person('Angela',5)"
   ]
  },
  {
   "cell_type": "code",
   "execution_count": 13,
   "metadata": {},
   "outputs": [
    {
     "data": {
      "text/plain": [
       "True"
      ]
     },
     "execution_count": 13,
     "metadata": {},
     "output_type": "execute_result"
    }
   ],
   "source": [
    "Nick>Angela"
   ]
  },
  {
   "cell_type": "code",
   "execution_count": 14,
   "metadata": {},
   "outputs": [],
   "source": [
    "Kim=Person('Kim',-8)"
   ]
  },
  {
   "cell_type": "code",
   "execution_count": 15,
   "metadata": {},
   "outputs": [
    {
     "data": {
      "text/plain": [
       "8"
      ]
     },
     "execution_count": 15,
     "metadata": {},
     "output_type": "execute_result"
    }
   ],
   "source": [
    "Kim=Person('Kim',-8)\n",
    "abs(Kim)"
   ]
  },
  {
   "cell_type": "code",
   "execution_count": 16,
   "metadata": {},
   "outputs": [],
   "source": [
    "Tom=Person('Tom',7)"
   ]
  },
  {
   "cell_type": "code",
   "execution_count": 17,
   "metadata": {},
   "outputs": [],
   "source": [
    "Mikayla=Person('Mikayla',3)"
   ]
  },
  {
   "cell_type": "code",
   "execution_count": 19,
   "metadata": {},
   "outputs": [],
   "source": [
    "Tom+=Mikayla"
   ]
  },
  {
   "cell_type": "code",
   "execution_count": 20,
   "metadata": {},
   "outputs": [
    {
     "data": {
      "text/plain": [
       "10"
      ]
     },
     "execution_count": 20,
     "metadata": {},
     "output_type": "execute_result"
    }
   ],
   "source": [
    "Tom"
   ]
  },
  {
   "cell_type": "markdown",
   "metadata": {},
   "source": [
    "## Question 4"
   ]
  },
  {
   "cell_type": "markdown",
   "metadata": {},
   "source": [
    "**Implement Circle class, initialize radius while calling constructor-**<br><br>\n",
    "     a) Add getters and setters methods in class.<br>\n",
    "     b) Make a function - **area**, to calculate area of the circle and return it.<br>\n",
    "     c) Create an **instance of the class Circle** and pass 4 as an argument while creating instance.<br>\n",
    "     d) Print getter method of the *radius* through object.<br>\n",
    "     e) Create **another object** of same class and print getter method of radius through this object.<br>\n",
    "     e) **Add these two objects** together and create the other one.Print the getter method of other third object.What output will you get? <br>\n",
    "     f) Overload **add** method in your class which allows use to use +  operator to add two circle objects. Inside the __add__  method we are creating a new object and returning it to the caller."
   ]
  },
  {
   "cell_type": "markdown",
   "metadata": {},
   "source": [
    "a) - e)"
   ]
  },
  {
   "cell_type": "code",
   "execution_count": 22,
   "metadata": {},
   "outputs": [
    {
     "name": "stdout",
     "output_type": "stream",
     "text": [
      "4\n",
      "5\n"
     ]
    }
   ],
   "source": [
    "class Circle:\n",
    "\n",
    "    def __init__(self, radius):\n",
    "        self.__radius = radius\n",
    "\n",
    "    def setRadius(self, radius):\n",
    "        self.__radius = radius\n",
    "\n",
    "    def getRadius(self):\n",
    "        return self.__radius\n",
    "\n",
    "    def area(self):\n",
    "        return math.pi * self.__radius ** 2\n",
    "\n",
    "    def __add__(self, another_circle):\n",
    "        return Circle( self.__radius + another_circle.__radius )\n",
    "\n",
    "c1 = Circle(4)\n",
    "print(c1.getRadius())\n",
    "\n",
    "c2 = Circle(5)\n",
    "print(c2.getRadius())\n"
   ]
  },
  {
   "cell_type": "markdown",
   "metadata": {},
   "source": [
    "You will get this **error**."
   ]
  },
  {
   "cell_type": "markdown",
   "metadata": {},
   "source": [
    "f)"
   ]
  },
  {
   "cell_type": "code",
   "execution_count": 24,
   "metadata": {},
   "outputs": [
    {
     "name": "stdout",
     "output_type": "stream",
     "text": [
      "4\n",
      "5\n",
      "9\n"
     ]
    }
   ],
   "source": [
    "\n",
    "import math\n",
    " \n",
    "class Circle:\n",
    " \n",
    "\n",
    "    def __init__(self, radius):\n",
    "        self.__radius = radius\n",
    "\n",
    "    def setRadius(self, radius):\n",
    "        self.__radius = radius\n",
    "\n",
    "    def getRadius(self):\n",
    "        return self.__radius\n",
    "\n",
    "    def area(self):\n",
    "        return math.pi * self.__radius ** 2\n",
    "\n",
    "    def __add__(self, another_circle):\n",
    "        return Circle( self.__radius + another_circle.__radius )\n",
    "\n",
    "c1 = Circle(4)\n",
    "print(c1.getRadius())\n",
    "\n",
    "c2 = Circle(5)\n",
    "print(c2.getRadius())\n",
    " \n",
    "c3 = c1 + c2 # This became possible because we have overloaded + operator by adding a    method named __add__\n",
    "print(c3.getRadius())"
   ]
  },
  {
   "cell_type": "markdown",
   "metadata": {},
   "source": [
    "## Question 5"
   ]
  },
  {
   "cell_type": "markdown",
   "metadata": {},
   "source": [
    "**Continuing with the previous example, overload following special functions in class Circle -**<br><br>\n",
    "a) greater than to compare two objects' *radius* which is greater, __gt__ for example c1>c2 <br>\n",
    "b) smaller than to compare two objects' *radius* which is smaller, __lt__ for example c1<c2<br>\n",
    "c) string to print object as we want i.e. Circle with *radius* 9 for example print (c2), str"
   ]
  },
  {
   "cell_type": "markdown",
   "metadata": {},
   "source": [
    "a),b),c)"
   ]
  },
  {
   "cell_type": "code",
   "execution_count": 4,
   "metadata": {},
   "outputs": [
    {
     "name": "stdout",
     "output_type": "stream",
     "text": [
      "4\n",
      "5\n",
      "9\n",
      "True\n",
      "True\n",
      "Circle with radius 9\n"
     ]
    }
   ],
   "source": [
    "\t\n",
    "import math\n",
    "\n",
    "class Circle:\n",
    "\n",
    "    def __init__(self, radius):\n",
    "        self.__radius = radius\n",
    "\n",
    "    def setRadius(self, radius):\n",
    "        self.__radius = radius\n",
    "\n",
    "    def getRadius(self):\n",
    "        return self.__radius\n",
    "\n",
    "    def area(self):\n",
    "        return math.pi * self.__radius ** 2\n",
    "\n",
    "    def __add__(self, another_circle):\n",
    "        return Circle( self.__radius + another_circle.__radius )\n",
    "\n",
    "    def __gt__(self, another_circle):\n",
    "        return self.__radius > another_circle.__radius\n",
    "\n",
    "    def __lt__(self, another_circle):\n",
    "        return self.__radius < another_circle.__radius\n",
    "\n",
    "    def __str__(self):\n",
    "        return \"Circle with radius \" + str(self.__radius)\n",
    "\n",
    "c1 = Circle(4)\n",
    "print(c1.getRadius())\n",
    "\n",
    "c2 = Circle(5)\n",
    "print(c2.getRadius())\n",
    "\n",
    "c3 = c1 + c2\n",
    "print(c3.getRadius())\n",
    "\n",
    "print( c3 > c2) # Became possible because we have added __gt__ method\n",
    "\n",
    "print( c1 < c2) # Became possible because we have added __lt__ method\n",
    "\n",
    "print(c3) # Became possible because we have added __str__ method\n"
   ]
  },
  {
   "cell_type": "markdown",
   "metadata": {},
   "source": [
    "## OVERRIDING"
   ]
  },
  {
   "cell_type": "markdown",
   "metadata": {},
   "source": [
    "## Question 6"
   ]
  },
  {
   "cell_type": "markdown",
   "metadata": {},
   "source": [
    "**Continuing with the example of Fish class above,** <br><br>\n",
    "a) Create a **Shark child class** of the **Fish parent class**. Because we created the Fish class with the idea that we would be creating primarily bony fish, we’ll have to make adjustments for the Shark class that is instead a cartilaginous fish. Sharks, unlike bony fish, have skeletons made of cartilage instead of bone. They also have eyelids and are unable to swim backwards. Sharks can, however, maneuver themselves backwards by sinking.<br><br>\n",
    "b)  Override only the __init__() constructor method with *last_name=\"Shark\", skeleton=\"cartilage\", eyelids=True* and the **swim_backwards()** method.<br>\n",
    "The method swim_backwards() now prints a different string than the one in the Fish parent class because sharks are not able to swim backwards in the way that bony fish can.<br><br>\n",
    "c) Create an **instance of the Shark child** class, which will still make use of the **swim() method of the Fish** parent class.Prints its *first name, last name, eyelids, skeleton*, call to **swim(), swim_backwards()**."
   ]
  },
  {
   "cell_type": "code",
   "execution_count": 1,
   "metadata": {},
   "outputs": [],
   "source": [
    "class Fish:\n",
    "    def __init__(self, first_name, last_name=\"Fish\",\n",
    "                 skeleton=\"bone\", eyelids=False):\n",
    "        self.first_name = first_name\n",
    "        self.last_name = last_name\n",
    "        self.skeleton = skeleton\n",
    "        self.eyelids = eyelids\n",
    "\n",
    "    def swim(self):\n",
    "        print(\"The fish is swimming.\")\n",
    "\n",
    "    def swim_backwards(self):\n",
    "        print(\"The fish can swim backwards.\")"
   ]
  },
  {
   "cell_type": "code",
   "execution_count": 6,
   "metadata": {},
   "outputs": [],
   "source": [
    "class Shark(Fish):\n",
    "    def __init__(self, first_name, last_name=\"Shark\",\n",
    "                 skeleton=\"cartilage\", eyelids=True):\n",
    "        self.first_name = first_name\n",
    "        self.last_name = last_name\n",
    "        self.skeleton = skeleton\n",
    "        self.eyelids = eyelids\n",
    "\n",
    "    def swim_backwards(self):\n",
    "        print(\"The shark cannot swim backwards, but can sink backwards.\")"
   ]
  },
  {
   "cell_type": "code",
   "execution_count": 7,
   "metadata": {},
   "outputs": [
    {
     "name": "stdout",
     "output_type": "stream",
     "text": [
      "Sammy Shark\n",
      "The fish is swimming.\n",
      "The shark cannot swim backwards, but can sink backwards.\n",
      "True\n",
      "cartilage\n"
     ]
    }
   ],
   "source": [
    "sammy = Shark(\"Sammy\")\n",
    "print(sammy.first_name + \" \" + sammy.last_name)\n",
    "sammy.swim()\n",
    "sammy.swim_backwards()\n",
    "print(sammy.eyelids)\n",
    "print(sammy.skeleton)"
   ]
  },
  {
   "cell_type": "markdown",
   "metadata": {},
   "source": [
    "## Great Work!"
   ]
  }
 ],
 "metadata": {
  "kernelspec": {
   "display_name": "Python 3 (ipykernel)",
   "language": "python",
   "name": "python3"
  },
  "language_info": {
   "codemirror_mode": {
    "name": "ipython",
    "version": 3
   },
   "file_extension": ".py",
   "mimetype": "text/x-python",
   "name": "python",
   "nbconvert_exporter": "python",
   "pygments_lexer": "ipython3",
   "version": "3.9.12"
  }
 },
 "nbformat": 4,
 "nbformat_minor": 2
}
