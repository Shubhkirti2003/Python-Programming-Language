{
 "cells": [
  {
   "cell_type": "code",
   "execution_count": 22,
   "id": "16679882",
   "metadata": {},
   "outputs": [
    {
     "name": "stdout",
     "output_type": "stream",
     "text": [
      "Enter a number: 371\n",
      "371  is a prime number.\n",
      "This is an armstrong number.\n"
     ]
    }
   ],
   "source": [
    "def primefunc(a):\n",
    "    for i in range (2, 11):\n",
    "        if(a%i!=0 and a%a==0):\n",
    "            print(a,\" is a prime number.\")\n",
    "            break\n",
    "        else:\n",
    "            print(a,\" is not a prime number.\")\n",
    "            break\n",
    "            \n",
    "def armstrong(a2):\n",
    "    count=0\n",
    "    y=a2\n",
    "    l=len(str(a2))\n",
    "    for i in range(0,l):\n",
    "        x=y%10\n",
    "        count=count+(x**l)\n",
    "        y=y//10\n",
    "    if(a2==count):\n",
    "        print(\"This is an armstrong number.\")\n",
    "    else:\n",
    "        print(\"This is an armstrong number.\")\n",
    "a1=int(input('Enter a number: '))\n",
    "primefunc(a1)\n",
    "armstrong(a1)"
   ]
  },
  {
   "cell_type": "code",
   "execution_count": 9,
   "id": "40b44373",
   "metadata": {},
   "outputs": [
    {
     "name": "stdout",
     "output_type": "stream",
     "text": [
      "This is an interesting book. It is special.\n",
      "This is @n interesting book. It is speci@l.\n"
     ]
    }
   ],
   "source": [
    "str1=\"This is an interesting book. It is special.\"\n",
    "print(str1)\n",
    "str1=str1.replace(\"a\",\"@\")\n",
    "print(str1)"
   ]
  },
  {
   "cell_type": "code",
   "execution_count": 10,
   "id": "b8d40d29",
   "metadata": {},
   "outputs": [
    {
     "name": "stdout",
     "output_type": "stream",
     "text": [
      "2\n"
     ]
    }
   ],
   "source": [
    "s1=\"Today is Thursday.\"\n",
    "print(s1.count(\"s\"))"
   ]
  },
  {
   "cell_type": "code",
   "execution_count": 20,
   "id": "3fc4aa9b",
   "metadata": {},
   "outputs": [
    {
     "name": "stdout",
     "output_type": "stream",
     "text": [
      "Enter the string: John\n",
      "Enter the string you want to insert: Duke\n",
      "2\n",
      "Jo\n",
      "hn\n",
      "JoDukehn\n"
     ]
    }
   ],
   "source": [
    "s1=input('Enter the string: ')\n",
    "s2=input('Enter the string you want to insert: ')\n",
    "s3=\" \"\n",
    "l=len(s1)//2\n",
    "print(l)\n",
    "x=s1[:l]\n",
    "print(x)\n",
    "y=s1[l:]\n",
    "print(y)\n",
    "s3=x+s2+y\n",
    "print(s3)"
   ]
  },
  {
   "cell_type": "code",
   "execution_count": null,
   "id": "fe411812",
   "metadata": {},
   "outputs": [],
   "source": []
  }
 ],
 "metadata": {
  "kernelspec": {
   "display_name": "Python 3 (ipykernel)",
   "language": "python",
   "name": "python3"
  },
  "language_info": {
   "codemirror_mode": {
    "name": "ipython",
    "version": 3
   },
   "file_extension": ".py",
   "mimetype": "text/x-python",
   "name": "python",
   "nbconvert_exporter": "python",
   "pygments_lexer": "ipython3",
   "version": "3.9.12"
  }
 },
 "nbformat": 4,
 "nbformat_minor": 5
}
