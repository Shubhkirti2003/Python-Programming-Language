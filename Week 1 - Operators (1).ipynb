{
 "cells": [
  {
   "cell_type": "code",
   "execution_count": 2,
   "id": "64806595",
   "metadata": {},
   "outputs": [
    {
     "name": "stdout",
     "output_type": "stream",
     "text": [
      "9\n",
      "4\n",
      "20\n",
      "3200000\n",
      "640000.0\n",
      "128000.0\n",
      "0.0\n"
     ]
    }
   ],
   "source": [
    "a=4\n",
    "b=5\n",
    "a+=b\n",
    "print(a)\n",
    "a-=b\n",
    "print(a)\n",
    "a*=b\n",
    "print(a)\n",
    "a**=b\n",
    "print(a)\n",
    "a/=b\n",
    "print(a)\n",
    "a//=b\n",
    "print(a)\n",
    "a%=b\n",
    "print(a)"
   ]
  },
  {
   "cell_type": "code",
   "execution_count": 3,
   "id": "a835a551",
   "metadata": {},
   "outputs": [
    {
     "name": "stdout",
     "output_type": "stream",
     "text": [
      "True\n",
      "True\n"
     ]
    }
   ],
   "source": [
    "a=8\n",
    "b=2\n",
    "c=8\n",
    "print(a is c)\n",
    "print(b is not c)"
   ]
  },
  {
   "cell_type": "code",
   "execution_count": 4,
   "id": "c41b165f",
   "metadata": {},
   "outputs": [
    {
     "name": "stdout",
     "output_type": "stream",
     "text": [
      "True\n",
      "True\n"
     ]
    }
   ],
   "source": [
    "arr=[1,2,5,0,9]\n",
    "if 2 in arr:\n",
    "    print('True')\n",
    "else:\n",
    "    print('False')\n",
    "if 4 not in arr:\n",
    "    print('True')\n",
    "else:\n",
    "    print('False')"
   ]
  },
  {
   "cell_type": "code",
   "execution_count": 5,
   "id": "7c65ec4e",
   "metadata": {},
   "outputs": [
    {
     "name": "stdout",
     "output_type": "stream",
     "text": [
      "Enter a number more than 100: 101\n",
      "Enter a number less than 200: 201\n",
      "The number can be either smaller than 100 or greater than 200\n"
     ]
    }
   ],
   "source": [
    "a=int(input('Enter a number more than 100: '))\n",
    "b=int(input('Enter a number less than 200: '))\n",
    "if a>100 and b<200:\n",
    "    print('The number is between 100 and 200')\n",
    "if a>100 or b<200:\n",
    "    print('The number can be either smaller than 100 or greater than 200')\n",
    "if not(a>100):\n",
    "    print('The number is between 100 and 200')"
   ]
  },
  {
   "cell_type": "code",
   "execution_count": 6,
   "id": "bc09d401",
   "metadata": {},
   "outputs": [
    {
     "name": "stdout",
     "output_type": "stream",
     "text": [
      "Enter a number: 2\n",
      "Enter a number: 3\n",
      "5\n",
      "-1\n",
      "6\n",
      "0.6666666666666666\n",
      "8\n",
      "0\n",
      "2\n"
     ]
    }
   ],
   "source": [
    "a=int(input('Enter a number: '))\n",
    "b=int(input('Enter a number: '))\n",
    "print(a+b)\n",
    "print(a-b)\n",
    "print(a*b)\n",
    "print(a/b)\n",
    "print(a**b)\n",
    "print(a//b)\n",
    "print(a%b)"
   ]
  },
  {
   "cell_type": "code",
   "execution_count": 8,
   "id": "220597de",
   "metadata": {},
   "outputs": [
    {
     "name": "stdout",
     "output_type": "stream",
     "text": [
      "Enter a number: 4\n",
      "True-a>0\n",
      "True-a>=0\n",
      "True-a!=0\n"
     ]
    }
   ],
   "source": [
    "a=int(input('Enter a number: '))\n",
    "if (a>0):\n",
    "    print(\"True-a>0\")\n",
    "if (a<0):\n",
    "    print(\"True-a<0\")\n",
    "if (a>=0):\n",
    "    print(\"True-a>=0\")\n",
    "if (a<=0):\n",
    "    print(\"True-a<=0\")\n",
    "if (a==0):\n",
    "    print(\"True-a==0\")\n",
    "if (a!=0):\n",
    "    print(\"True-a!=0\")"
   ]
  },
  {
   "cell_type": "code",
   "execution_count": 9,
   "id": "3d72e396",
   "metadata": {},
   "outputs": [
    {
     "name": "stdout",
     "output_type": "stream",
     "text": [
      "Enter a number: 2\n",
      "Enter a number: 4\n",
      "The number is more than 0 and less than 100.\n",
      "6\n",
      "-3\n",
      "32\n",
      "0\n"
     ]
    }
   ],
   "source": [
    "a=int(input('Enter a number: '))\n",
    "b=int(input('Enter a number: '))\n",
    "if a>0 & a<100:\n",
    "    print('The number is more than 0 and less than 100.')\n",
    "if a>0 | a<100:\n",
    "    print('The number can be either smaller than 0 or greater than 100.')\n",
    "print(a^b)\n",
    "print(~a)\n",
    "print(a<<b)\n",
    "print(a>>b)"
   ]
  },
  {
   "cell_type": "code",
   "execution_count": null,
   "id": "530c9862",
   "metadata": {},
   "outputs": [],
   "source": []
  }
 ],
 "metadata": {
  "kernelspec": {
   "display_name": "Python 3 (ipykernel)",
   "language": "python",
   "name": "python3"
  },
  "language_info": {
   "codemirror_mode": {
    "name": "ipython",
    "version": 3
   },
   "file_extension": ".py",
   "mimetype": "text/x-python",
   "name": "python",
   "nbconvert_exporter": "python",
   "pygments_lexer": "ipython3",
   "version": "3.9.12"
  }
 },
 "nbformat": 4,
 "nbformat_minor": 5
}
