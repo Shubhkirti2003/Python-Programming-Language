{
 "cells": [
  {
   "cell_type": "code",
   "execution_count": 2,
   "id": "caf50cff",
   "metadata": {},
   "outputs": [
    {
     "name": "stdout",
     "output_type": "stream",
     "text": [
      "Original list:  [1, 1, 2, 3, 4, 3, 5, 5, 6]\n",
      "New list:  [1, 2, 3, 4, 5, 6]\n"
     ]
    }
   ],
   "source": [
    "L1=[1,1,2,3,4,3,5,5,6]\n",
    "L2=[]\n",
    "for i in L1:\n",
    "    if i in L1:\n",
    "        if i not in L2:\n",
    "            L2.append(i)\n",
    "print(\"Original list: \",L1)\n",
    "print(\"New list: \",L2)"
   ]
  },
  {
   "cell_type": "code",
   "execution_count": 3,
   "id": "b585bc43",
   "metadata": {},
   "outputs": [
    {
     "name": "stdout",
     "output_type": "stream",
     "text": [
      "The sum is:  600\n"
     ]
    }
   ],
   "source": [
    "L1=[400,58,99,43]\n",
    "count=0\n",
    "for i in L1:\n",
    "    count=count+i\n",
    "print('The sum is: ',count)"
   ]
  },
  {
   "cell_type": "code",
   "execution_count": null,
   "id": "f71989cd",
   "metadata": {},
   "outputs": [],
   "source": []
  }
 ],
 "metadata": {
  "kernelspec": {
   "display_name": "Python 3 (ipykernel)",
   "language": "python",
   "name": "python3"
  },
  "language_info": {
   "codemirror_mode": {
    "name": "ipython",
    "version": 3
   },
   "file_extension": ".py",
   "mimetype": "text/x-python",
   "name": "python",
   "nbconvert_exporter": "python",
   "pygments_lexer": "ipython3",
   "version": "3.9.12"
  }
 },
 "nbformat": 4,
 "nbformat_minor": 5
}
