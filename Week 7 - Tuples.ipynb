{
 "cells": [
  {
   "cell_type": "code",
   "execution_count": 1,
   "id": "de1a66f8",
   "metadata": {},
   "outputs": [
    {
     "name": "stdout",
     "output_type": "stream",
     "text": [
      "('ABC', 8.99, 2)\n",
      "<class 'tuple'>\n",
      "3\n",
      "('ABC', 8.99, 2)\n",
      "<class 'tuple'>\n",
      "3\n"
     ]
    }
   ],
   "source": [
    "T1=(\"ABC\",8.99,2)\n",
    "T2=\"ABC\",8.99,2\n",
    "\n",
    "print(T1)\n",
    "print(type(T1))\n",
    "print(len(T1))\n",
    "print(T2)\n",
    "print(type(T2))\n",
    "print(len(T2))"
   ]
  },
  {
   "cell_type": "code",
   "execution_count": 7,
   "id": "1a22a748",
   "metadata": {},
   "outputs": [
    {
     "name": "stdout",
     "output_type": "stream",
     "text": [
      "('Anna', 2.9, 5, 4, 'Mia', 5.5)\n",
      "('Anna', 2.9, 5, 'Anna', 2.9, 5)\n"
     ]
    }
   ],
   "source": [
    "T1=(\"Anna\",2.9,5)\n",
    "T2=(4,\"Mia\",5.5)\n",
    "print(T1+T2)\n",
    "print(T1+T1)"
   ]
  },
  {
   "cell_type": "code",
   "execution_count": 8,
   "id": "ffefcfa0",
   "metadata": {},
   "outputs": [
    {
     "name": "stdout",
     "output_type": "stream",
     "text": [
      "(4, 'Mia', 5.5, 4, 'Mia', 5.5, 4, 'Mia', 5.5)\n"
     ]
    }
   ],
   "source": [
    "T1=(4,\"Mia\",5.5)\n",
    "print(T1*3)"
   ]
  },
  {
   "cell_type": "code",
   "execution_count": 9,
   "id": "1ee0025d",
   "metadata": {},
   "outputs": [
    {
     "name": "stdout",
     "output_type": "stream",
     "text": [
      "True\n",
      "False\n"
     ]
    }
   ],
   "source": [
    "T1=(\"Anna\",2.9,5)\n",
    "print(2.9 in T1)\n",
    "print(2 in T1)"
   ]
  },
  {
   "cell_type": "code",
   "execution_count": 10,
   "id": "fb658b64",
   "metadata": {},
   "outputs": [
    {
     "name": "stdout",
     "output_type": "stream",
     "text": [
      "False\n",
      "True\n"
     ]
    }
   ],
   "source": [
    "T1=(\"Anna\",2.9,5)\n",
    "print(2.9 not in T1)\n",
    "print(2 not in T1)"
   ]
  },
  {
   "cell_type": "code",
   "execution_count": 12,
   "id": "de2069da",
   "metadata": {},
   "outputs": [
    {
     "name": "stdout",
     "output_type": "stream",
     "text": [
      "Ash 2.9 5 "
     ]
    }
   ],
   "source": [
    "T1=(\"Ash\",2.9,5)\n",
    "for i in T1:\n",
    "    print(i,end=\" \")"
   ]
  },
  {
   "cell_type": "code",
   "execution_count": 16,
   "id": "16bc8479",
   "metadata": {},
   "outputs": [
    {
     "name": "stdout",
     "output_type": "stream",
     "text": [
      "()\n",
      "<class 'tuple'>\n",
      "(9,)\n",
      "<class 'tuple'>\n",
      "4\n",
      "<class 'int'>\n"
     ]
    }
   ],
   "source": [
    "T1=()\n",
    "T2=(9,)\n",
    "T3=(4)\n",
    "print(T1)\n",
    "print(type(T1))\n",
    "print(T2)\n",
    "print(type(T2))\n",
    "print(T3)\n",
    "print(type(T3))"
   ]
  },
  {
   "cell_type": "code",
   "execution_count": 20,
   "id": "baa4893f",
   "metadata": {},
   "outputs": [
    {
     "ename": "NameError",
     "evalue": "name 'T1' is not defined",
     "output_type": "error",
     "traceback": [
      "\u001b[1;31m---------------------------------------------------------------------------\u001b[0m",
      "\u001b[1;31mNameError\u001b[0m                                 Traceback (most recent call last)",
      "Input \u001b[1;32mIn [20]\u001b[0m, in \u001b[0;36m<cell line: 3>\u001b[1;34m()\u001b[0m\n\u001b[0;32m      1\u001b[0m T1\u001b[38;5;241m=\u001b[39m(\u001b[38;5;124m\"\u001b[39m\u001b[38;5;124mAnna\u001b[39m\u001b[38;5;124m\"\u001b[39m,\u001b[38;5;241m2.9\u001b[39m,\u001b[38;5;241m5\u001b[39m)\n\u001b[0;32m      2\u001b[0m \u001b[38;5;28;01mdel\u001b[39;00m T1\n\u001b[1;32m----> 3\u001b[0m \u001b[38;5;28mprint\u001b[39m(\u001b[43mT1\u001b[49m)\n",
      "\u001b[1;31mNameError\u001b[0m: name 'T1' is not defined"
     ]
    }
   ],
   "source": [
    "T1=(\"Anna\",2.9,5)\n",
    "del T1\n",
    "print(T1)\n"
   ]
  },
  {
   "cell_type": "code",
   "execution_count": 22,
   "id": "f7bdb70e",
   "metadata": {},
   "outputs": [
    {
     "ename": "AttributeError",
     "evalue": "'tuple' object has no attribute 'pop'",
     "output_type": "error",
     "traceback": [
      "\u001b[1;31m---------------------------------------------------------------------------\u001b[0m",
      "\u001b[1;31mAttributeError\u001b[0m                            Traceback (most recent call last)",
      "Input \u001b[1;32mIn [22]\u001b[0m, in \u001b[0;36m<cell line: 2>\u001b[1;34m()\u001b[0m\n\u001b[0;32m      1\u001b[0m T1\u001b[38;5;241m=\u001b[39m(\u001b[38;5;124m\"\u001b[39m\u001b[38;5;124mAnna\u001b[39m\u001b[38;5;124m\"\u001b[39m,\u001b[38;5;241m2.9\u001b[39m,\u001b[38;5;241m5\u001b[39m)\n\u001b[1;32m----> 2\u001b[0m \u001b[43mT1\u001b[49m\u001b[38;5;241;43m.\u001b[39;49m\u001b[43mpop\u001b[49m(\u001b[38;5;241m0\u001b[39m)\n\u001b[0;32m      3\u001b[0m \u001b[38;5;28mprint\u001b[39m(T1)\n",
      "\u001b[1;31mAttributeError\u001b[0m: 'tuple' object has no attribute 'pop'"
     ]
    }
   ],
   "source": [
    "T1=(\"Anna\",2.9,5)\n",
    "T1.pop(0)\n",
    "print(T1)\n"
   ]
  },
  {
   "cell_type": "code",
   "execution_count": 25,
   "id": "14c54a66",
   "metadata": {},
   "outputs": [
    {
     "name": "stdout",
     "output_type": "stream",
     "text": [
      "('Apple', 'Orange', 'Mango')\n"
     ]
    }
   ],
   "source": [
    "T1=(\"Apple\",\"Orange\")\n",
    "x=list(T1)\n",
    "x.append(\"Mango\")\n",
    "T1=tuple(x)\n",
    "print(T1)"
   ]
  },
  {
   "cell_type": "code",
   "execution_count": 29,
   "id": "9d53993a",
   "metadata": {},
   "outputs": [
    {
     "name": "stdout",
     "output_type": "stream",
     "text": [
      "('Apple', 'Orange', 'Anna', 2.9, 5)\n"
     ]
    }
   ],
   "source": [
    "T1=(\"Apple\",\"Orange\")\n",
    "T2=(\"Anna\",2.9,5)\n",
    "T3=(T1+T2)\n",
    "print(T3)"
   ]
  },
  {
   "cell_type": "code",
   "execution_count": null,
   "id": "dde233fe",
   "metadata": {},
   "outputs": [],
   "source": []
  },
  {
   "cell_type": "code",
   "execution_count": null,
   "id": "90ce5fbe",
   "metadata": {},
   "outputs": [],
   "source": []
  }
 ],
 "metadata": {
  "kernelspec": {
   "display_name": "Python 3 (ipykernel)",
   "language": "python",
   "name": "python3"
  },
  "language_info": {
   "codemirror_mode": {
    "name": "ipython",
    "version": 3
   },
   "file_extension": ".py",
   "mimetype": "text/x-python",
   "name": "python",
   "nbconvert_exporter": "python",
   "pygments_lexer": "ipython3",
   "version": "3.9.12"
  }
 },
 "nbformat": 4,
 "nbformat_minor": 5
}
