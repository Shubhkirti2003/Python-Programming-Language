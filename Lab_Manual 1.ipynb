{
 "cells": [
  {
   "cell_type": "code",
   "execution_count": 4,
   "id": "bee102eb",
   "metadata": {},
   "outputs": [
    {
     "name": "stdout",
     "output_type": "stream",
     "text": [
      "H\n",
      "a\n",
      "r\n",
      "v\n",
      "a\n",
      "r\n",
      "d\n",
      "Enter the word: Python\n",
      "P\n",
      "y\n",
      "t\n",
      "h\n",
      "o\n",
      "n\n",
      "Enter the word: Good\n",
      "G\n",
      "o\n",
      "o\n",
      "d\n",
      "Enter the word: Hello\n",
      "H\n",
      "e\n",
      "l\n",
      "l\n",
      "o\n",
      "Enter the word: Bye\n",
      "B\n",
      "y\n",
      "e\n",
      "Enter the word: Good day\n",
      "G\n",
      "o\n",
      "o\n",
      "d\n",
      " \n",
      "d\n",
      "a\n",
      "y\n"
     ]
    }
   ],
   "source": [
    "for i in \"Harvard\":\n",
    "    print(i)\n",
    "for i in range (5):\n",
    "    n=input(\"Enter the word: \")\n",
    "    for j in n:\n",
    "        print(j)"
   ]
  },
  {
   "cell_type": "code",
   "execution_count": 7,
   "id": "2a5b81af",
   "metadata": {},
   "outputs": [
    {
     "name": "stdout",
     "output_type": "stream",
     "text": [
      "Enter the limit: 4\n",
      "Enter a number: 5\n",
      "The number is positive.\n",
      "The number is odd.\n",
      "Enter a number: 8\n",
      "The number is positive.\n",
      "The number is even.\n",
      "Enter a number: 0\n",
      "The number is zero.\n",
      "Enter a number: -6\n",
      "The number is negative.\n",
      "The number is even.\n"
     ]
    }
   ],
   "source": [
    "n=int(input('Enter the limit: '))\n",
    "for i in range (n):\n",
    "    a=int(input(\"Enter a number: \"))\n",
    "    if(a>0):\n",
    "        print('The number is positive.')\n",
    "        if(a%2==0):\n",
    "            print(\"The number is even.\")\n",
    "        else:\n",
    "            print(\"The number is odd.\")\n",
    "    elif(a<0):\n",
    "        print('The number is negative.')\n",
    "        if(a%2==0):\n",
    "            print(\"The number is even.\")\n",
    "        else:\n",
    "            print(\"The number is odd.\")\n",
    "    else:\n",
    "        print('The number is zero.')"
   ]
  },
  {
   "cell_type": "code",
   "execution_count": 12,
   "id": "6f721abe",
   "metadata": {},
   "outputs": [
    {
     "name": "stdout",
     "output_type": "stream",
     "text": [
      "MENU\n",
      "1. Sin Angle \n",
      "2. Cosine Angle \n",
      "3. Tan Angle \n",
      "4. Ceil Value \n",
      "5. Floor Value \n",
      "6. Exponent Value \n",
      "7. Absolute value \n",
      "8. Factorial \n",
      "9. Log Value \n",
      "10. Power of a number \n",
      "11. Squareroot of a number\n",
      "Enter your choice: 9\n",
      "Enter the number: 5\n",
      "1.6094379124341003\n"
     ]
    }
   ],
   "source": [
    "import math\n",
    "print(\"MENU\")\n",
    "print(\"1. Sin Angle \\n2. Cosine Angle \\n3. Tan Angle \\n4. Ceil Value \\n5. Floor Value \\n6. Exponent Value \\n7. Absolute value \\n8. Factorial \\n9. Log Value \\n10. Power of a number \\n11. Squareroot of a number\")\n",
    "choice=int(input('Enter your choice: '))\n",
    "if(choice==1):\n",
    "    n=int(input('Enter the number: '))\n",
    "    print(math.sin(n))\n",
    "elif(choice==2):\n",
    "    n=int(input('Enter the number: '))\n",
    "    print(math.cos(n))\n",
    "elif(choice==3):\n",
    "    n=int(input('Enter the number: '))\n",
    "    print(math.tan(n))\n",
    "elif(choice==4):\n",
    "    n=float(input('Enter the number: '))\n",
    "    print(math.ceil(n))\n",
    "elif(choice==5):\n",
    "    n=float(input('Enter the number: '))\n",
    "    print(math.floor(n))\n",
    "elif(choice==6):\n",
    "    n=int(input('Enter the number: '))\n",
    "    print(math.exp(n))\n",
    "elif(choice==7):\n",
    "    n=int(input('Enter the number: '))\n",
    "    print(math.fabs(n))\n",
    "elif(choice==8):\n",
    "    n=int(input('Enter the number: '))\n",
    "    print(math.factorial(n))\n",
    "elif(choice==9):\n",
    "    n=int(input('Enter the number: '))\n",
    "    print(math.log(n))\n",
    "elif(choice==10):\n",
    "    n=int(input('Enter the number: '))\n",
    "    p=int(input('Enter the power: '))\n",
    "    print(math.pow(n,p))\n",
    "elif(choice==11):\n",
    "    n=int(input('Enter the number: '))\n",
    "    print(math.sqrt(n))\n",
    "else:\n",
    "    print(\"Invalid Choice.\")\n",
    "    "
   ]
  },
  {
   "cell_type": "code",
   "execution_count": 13,
   "id": "ec3b9a13",
   "metadata": {},
   "outputs": [
    {
     "name": "stdout",
     "output_type": "stream",
     "text": [
      "The length is  5\n",
      "Enter the fruit: Kiwi\n",
      "The list has been copied ['Apple', 'Banana', 'Pineapple', 'Litchi', 'Kiwi']\n"
     ]
    }
   ],
   "source": [
    "L1=[\"Apple\",\"Banana\",\"Pineapple\",\"Litchi\",\"Kiwi\"]\n",
    "count=0\n",
    "for i in L1:\n",
    "    count=count+1\n",
    "print('The length is ',count)\n",
    "a=input('Enter the fruit: ')\n",
    "if a in L1:\n",
    "    L2=L1.copy()\n",
    "    print('The list has been copied',L2)\n",
    "else:\n",
    "    print('This fruit is not in the list.')"
   ]
  },
  {
   "cell_type": "code",
   "execution_count": 15,
   "id": "9bcd3ad7",
   "metadata": {},
   "outputs": [
    {
     "name": "stdout",
     "output_type": "stream",
     "text": [
      "Apple\n",
      "Banana\n",
      "Pineapple\n",
      "Litchi\n",
      "Kiwi\n",
      "Enter the fruit you want to add in the list: Grapes\n",
      "Updated list: ['Apple', 'Banana', 'Pineapple', 'Litchi', 'Kiwi', 'Grapes']\n",
      "Enter the fruit you want to delete from the list: Apple\n",
      "Updated list: ['Banana', 'Pineapple', 'Litchi', 'Kiwi', 'Grapes']\n"
     ]
    }
   ],
   "source": [
    "L1=[\"Apple\",\"Banana\",\"Pineapple\",\"Litchi\",\"Kiwi\"]\n",
    "count=0\n",
    "for i in L1:\n",
    "    print(i)\n",
    "n=input(\"Enter the fruit you want to add in the list: \")\n",
    "L1.append(n)\n",
    "print(\"Updated list:\",L1)\n",
    "r=input(\"Enter the fruit you want to delete from the list: \")\n",
    "if n in L1:\n",
    "    L1.remove(r)\n",
    "    print(\"Updated list:\",L1)\n",
    "else:\n",
    "    print(\"Not in the list.\")"
   ]
  },
  {
   "cell_type": "code",
   "execution_count": 18,
   "id": "8bcead23",
   "metadata": {},
   "outputs": [
    {
     "name": "stdout",
     "output_type": "stream",
     "text": [
      "How many parts of computer do you want to add in the tuple?: 2\n",
      "Enter the parts: Desktop\n",
      "Enter the parts: Mouse\n",
      "('Desktop', 'Mouse')\n",
      "How many more parts of computer do you want to add in the tuple?: 2\n",
      "Enter the parts: CPU\n",
      "Enter the parts: Keyboard\n",
      "('CPU', 'Keyboard')\n",
      "Final Tuple ('Desktop', 'Mouse', 'CPU', 'Keyboard')\n"
     ]
    }
   ],
   "source": [
    "T1=T2=()\n",
    "n=int(input(\"How many parts of computer do you want to add in the tuple?: \"))\n",
    "for i in range (n):\n",
    "    a=input(\"Enter the parts: \")\n",
    "    T1=T1+(a,)\n",
    "print(T1)\n",
    "more=int(input(\"How many more parts of computer do you want to add in the tuple?: \"))\n",
    "for i in range (more):\n",
    "    b=input(\"Enter the parts: \")\n",
    "    T2=T2+(b,)\n",
    "print(T2)\n",
    "print(\"Final Tuple\",T1+T2)"
   ]
  },
  {
   "cell_type": "code",
   "execution_count": 2,
   "id": "65cd42ec",
   "metadata": {},
   "outputs": [
    {
     "name": "stdout",
     "output_type": "stream",
     "text": [
      "Enter the limit: 6\n",
      "Enter the numbers: 1\n",
      "Enter the numbers: 8\n",
      "Enter the numbers: 7\n",
      "Enter the numbers: 4\n",
      "Enter the numbers: 5\n",
      "Enter the numbers: 5\n",
      "Tuple: (1, 8, 7, 4, 5, 5)\n",
      "Tuple converted into list: [1, 8, 7, 4, 5, 5]\n",
      "List converted into tuple: (1, 8, 7, 4, 5, 5)\n",
      "List converted into dictionary: {1: 8, 7: 4, 5: 5}\n",
      "Tuple converted into dictionary: {1: 8, 7: 4, 5: 5}\n",
      "Dictionary converted into list: [1, 7, 5]\n",
      "Dictionary converted into tuple: (1, 7, 5)\n"
     ]
    }
   ],
   "source": [
    "T1=T2=T3=()\n",
    "L1=L2=[]\n",
    "D1=D2={}\n",
    "n=int(input(\"Enter the limit: \"))\n",
    "for i in range (n):\n",
    "    a=int(input(\"Enter the numbers: \"))\n",
    "    T1=T1+(a,)\n",
    "print(\"Tuple:\",T1)\n",
    "L1=list(T1)\n",
    "print(\"Tuple converted into list:\",L1)\n",
    "T2=tuple(L1)\n",
    "print(\"List converted into tuple:\",T2)\n",
    "D1={L1[i]:L1[i+1] for i in range(0,len(L1),2) }\n",
    "print(\"List converted into dictionary:\",D1)\n",
    "D2={T1[i]:T1[i+1] for i in range(0,len(T1),2) }\n",
    "print(\"Tuple converted into dictionary:\",D2)\n",
    "L2=list(D1)\n",
    "print(\"Dictionary converted into list:\",L2)\n",
    "T3=tuple(D1)\n",
    "print(\"Dictionary converted into tuple:\",T3)"
   ]
  },
  {
   "cell_type": "code",
   "execution_count": 8,
   "id": "54e9afdd",
   "metadata": {},
   "outputs": [
    {
     "name": "stdout",
     "output_type": "stream",
     "text": [
      "Enter the name of the brand: Ford\n",
      "Enter the name of the model: Mustang\n",
      "Enter the year: 1989\n",
      "Enter the name of the brand you want to search: Ford\n",
      "Ford  is present.\n",
      "Do you want to change it? [y/n]:y\n",
      "Enter the value: Tata\n",
      "The dictionary is:  {'brand': 'Tata', 'model': 'Mustang', 'year': 1989}\n"
     ]
    }
   ],
   "source": [
    "D1={}\n",
    "brand=input(\"Enter the name of the brand: \")\n",
    "D1[\"brand\"]=brand\n",
    "model=input(\"Enter the name of the model: \")\n",
    "D1[\"model\"]=model\n",
    "year=int(input(\"Enter the year: \"))\n",
    "D1[\"year\"]=year\n",
    "item=input(\"Enter the name of the brand you want to search: \")\n",
    "if item in D1.values():\n",
    "    print(item,\" is present.\")\n",
    "    choice=input(\"Do you want to change it? [y/n]:\")\n",
    "    if (choice==\"y\"):\n",
    "        a=input(\"Enter the value: \")\n",
    "        D1[\"brand\"]=a\n",
    "    else:\n",
    "        print(\"OK\")\n",
    "else:\n",
    "    print(\"Not present.\")\n",
    "print(\"The dictionary is: \",D1)"
   ]
  },
  {
   "cell_type": "code",
   "execution_count": 2,
   "id": "78634158",
   "metadata": {},
   "outputs": [
    {
     "name": "stdout",
     "output_type": "stream",
     "text": [
      "Enter the limit: 2\n",
      "Enter the number: 1\n",
      "Enter the name of the flower: Rose\n",
      "Enter the number: 2\n",
      "Enter the name of the flower: Tulips\n",
      "{1: 'Rose', 2: 'Tulips'}\n",
      "The length of the dictionary is  2\n",
      "Do you want to add an item? [y/n]:y\n",
      "Enter the number: 3\n",
      "Enter the name of the flower: Orchids\n",
      "{1: 'Rose', 2: 'Tulips', 3: 'Orchids'}\n",
      "Do you want to remove an item? [y/n]:y\n",
      "Enter the number you want to delete: 2\n",
      "{1: 'Rose', 3: 'Orchids'}\n",
      "Copy of the dictionary:  {1: 'Rose', 3: 'Orchids'}\n"
     ]
    }
   ],
   "source": [
    "D1={}\n",
    "n=int(input(\"Enter the limit: \"))\n",
    "for i in range(n):\n",
    "    num=int(input('Enter the number: '))\n",
    "    flower=input('Enter the name of the flower: ')\n",
    "    D1[num]=flower\n",
    "print(D1)\n",
    "print(\"The length of the dictionary is \",len(D1))\n",
    "choice=input(\"Do you want to add an item? [y/n]:\")\n",
    "if (choice==\"y\"):\n",
    "    num1=int(input('Enter the number: '))\n",
    "    flower1=input('Enter the name of the flower: ')\n",
    "    D1[num1]=flower1 \n",
    "else:\n",
    "    print(\"OK\")\n",
    "print(D1)\n",
    "choice=input(\"Do you want to remove an item? [y/n]:\")\n",
    "if (choice==\"y\"):\n",
    "    num2=int(input('Enter the number you want to delete: '))\n",
    "    D1.pop(num2)\n",
    "else:\n",
    "    print(\"OK\")\n",
    "print(D1)\n",
    "D2=D1.copy()\n",
    "print(\"Copy of the dictionary: \", D2)"
   ]
  },
  {
   "cell_type": "code",
   "execution_count": 3,
   "id": "3b608cb2",
   "metadata": {},
   "outputs": [
    {
     "name": "stdout",
     "output_type": "stream",
     "text": [
      "Enter a number: 371\n",
      "371  is a prime number.\n",
      "This is an armstrong number.\n"
     ]
    }
   ],
   "source": [
    "def primefunc(a):\n",
    "    for i in range (2, 11):\n",
    "        if(a%i!=0 and a%a==0):\n",
    "            print(a,\" is a prime number.\")\n",
    "            break\n",
    "        else:\n",
    "            print(a,\" is not a prime number.\")\n",
    "            break\n",
    "            \n",
    "def armstrong(a2):\n",
    "    count=0\n",
    "    y=a2\n",
    "    l=len(str(a2))\n",
    "    for i in range(0,l):\n",
    "        x=y%10\n",
    "        count=count+(x**l)\n",
    "        y=y//10\n",
    "    if(a2==count):\n",
    "        print(\"This is an armstrong number.\")\n",
    "    else:\n",
    "        print(\"This is an armstrong number.\")\n",
    "a1=int(input('Enter a number: '))\n",
    "primefunc(a1)\n",
    "armstrong(a1)"
   ]
  },
  {
   "cell_type": "code",
   "execution_count": 4,
   "id": "16bcbf9d",
   "metadata": {},
   "outputs": [
    {
     "name": "stdout",
     "output_type": "stream",
     "text": [
      "Enter a number: 5\n",
      "120\n"
     ]
    }
   ],
   "source": [
    "def factfunc(a):\n",
    "    if a==0 or a==1:\n",
    "        return 1\n",
    "    else:\n",
    "        return a*factfunc(a-1)\n",
    "a1=int(input('Enter a number: '))\n",
    "c=factfunc(a1)\n",
    "print(c)"
   ]
  },
  {
   "cell_type": "code",
   "execution_count": 5,
   "id": "5fe60ab1",
   "metadata": {},
   "outputs": [
    {
     "name": "stdout",
     "output_type": "stream",
     "text": [
      "MENU\n",
      "1. Capitalize \n",
      "2. Count \n",
      "3. Ends with \n",
      "4. Starts with \n",
      "5. Replace \n",
      "6. Format \n",
      "7. Is alnum \n",
      "8. Is alpha \n",
      "9. Is numeric \n",
      "10. Is lower \n",
      "11. Is upper \n",
      "12. Lower \n",
      "13. Upper \n",
      "14. LStrip \n",
      "15. RStrip \n",
      "16. Split \n",
      "17. Title\n",
      "Enter your choice: 16\n",
      "Enter the string:      This is a good day.       \n",
      "['This', 'is', 'a', 'good', 'day.']\n"
     ]
    }
   ],
   "source": [
    "print(\"MENU\")\n",
    "print(\"1. Capitalize \\n2. Count \\n3. Ends with \\n4. Starts with \\n5. Replace \\n6. Format \\n7. Is alnum \\n8. Is alpha \\n9. Is numeric \\n10. Is lower \\n11. Is upper \\n12. Lower \\n13. Upper \\n14. LStrip \\n15. RStrip \\n16. Split \\n17. Title\")\n",
    "choice=int(input('Enter your choice: '))\n",
    "if(choice==1):\n",
    "    n=input('Enter the string: ')\n",
    "    print(n.capitalize())\n",
    "elif(choice==2):\n",
    "    n=input('Enter the string: ')\n",
    "    v=input('Enter the element you want to count: ')\n",
    "    print(n.count(v))\n",
    "elif(choice==3):\n",
    "    n=input('Enter the string: ')\n",
    "    v=input('Enter the element: ')\n",
    "    print(n.endswith(v))\n",
    "elif(choice==4):\n",
    "    n=input('Enter the string: ')\n",
    "    v=input('Enter the element: ')\n",
    "    print(n.startswith(v))\n",
    "elif(choice==5):\n",
    "    n=input('Enter the string: ')\n",
    "    v=input('Enter the element you want to replace: ')\n",
    "    w=input('Enter the element you want to replace with: ')\n",
    "    print(n.replace(v,w))\n",
    "elif(choice==6):\n",
    "    n=input('Enter the string: ')\n",
    "    print(\"This is the string: {0}\".format(n))\n",
    "elif(choice==7):\n",
    "    n=input('Enter the string: ')\n",
    "    print(n.isalnum())\n",
    "elif(choice==8):\n",
    "    n=input('Enter the string: ')\n",
    "    print(n.isalpha())\n",
    "elif(choice==9):\n",
    "    n=input('Enter the string: ')\n",
    "    print(n.isnumeric())\n",
    "elif(choice==10):\n",
    "    n=input('Enter the string: ')\n",
    "    print(n.islower())\n",
    "elif(choice==11):\n",
    "    n=input('Enter the string: ')\n",
    "    print(n.isupper())\n",
    "elif(choice==12):\n",
    "    n=input('Enter the string: ')\n",
    "    print(n.lower())\n",
    "elif(choice==13):\n",
    "    n=input('Enter the string: ')\n",
    "    print(n.upper())\n",
    "elif(choice==14):\n",
    "    n=input('Enter the string: ')\n",
    "    print(n.lstrip())\n",
    "elif(choice==15):\n",
    "    n=input('Enter the string: ')\n",
    "    print(n.rstrip())\n",
    "elif(choice==16):\n",
    "    n=input('Enter the string: ')\n",
    "    print(n.split())\n",
    "elif(choice==17):\n",
    "    n=input('Enter the string: ')\n",
    "    print(n.title())\n",
    "else:\n",
    "    print(\"Invalid Choice.\")\n",
    "    "
   ]
  },
  {
   "cell_type": "code",
   "execution_count": 8,
   "id": "6992436d",
   "metadata": {},
   "outputs": [
    {
     "name": "stdout",
     "output_type": "stream",
     "text": [
      "Enter a number: 8\n",
      "Enter a number: 7\n",
      "Enter a string: HELLO\n",
      "Enter a string: HI\n",
      "Enter a float number: 8.6\n",
      "Enter a float number: 4.5\n",
      "FOR INTEGERS\n",
      "15\n",
      "1\n",
      "56\n",
      "1.1428571428571428\n",
      "2097152\n",
      "1\n",
      "1\n",
      "FOR FLOATS\n",
      "13.1\n",
      "4.1\n",
      "38.699999999999996\n",
      "1.911111111111111\n",
      "16041.428156858838\n",
      "1.0\n",
      "4.1\n",
      "FOR STRINGS\n",
      "HELLOHI\n",
      "HELLOHELLOHELLO\n",
      "HIHIHI\n"
     ]
    }
   ],
   "source": [
    "a=int(input(\"Enter a number: \"))\n",
    "b=int(input(\"Enter a number: \"))\n",
    "a2=input(\"Enter a string: \")\n",
    "b2=input(\"Enter a string: \")\n",
    "a1=float(input(\"Enter a float number: \"))\n",
    "b1=float(input(\"Enter a float number: \"))\n",
    "print(\"FOR INTEGERS\")\n",
    "print(a+b)\n",
    "print(a-b)\n",
    "print(a*b)\n",
    "print(a/b)\n",
    "print(a**b)\n",
    "print(a//b)\n",
    "print(a%b)\n",
    "print(\"FOR FLOATS\")\n",
    "print(a1+b1)\n",
    "print(a1-b1)\n",
    "print(a1*b1)\n",
    "print(a1/b1)\n",
    "print(a1**b1)\n",
    "print(a1//b1)\n",
    "print(a1%b1)\n",
    "print(\"FOR STRINGS\")\n",
    "print(a2+b2)\n",
    "print(a2*3)\n",
    "print(b2*3)"
   ]
  },
  {
   "cell_type": "code",
   "execution_count": null,
   "id": "ed9023a6",
   "metadata": {},
   "outputs": [],
   "source": []
  }
 ],
 "metadata": {
  "kernelspec": {
   "display_name": "Python 3 (ipykernel)",
   "language": "python",
   "name": "python3"
  },
  "language_info": {
   "codemirror_mode": {
    "name": "ipython",
    "version": 3
   },
   "file_extension": ".py",
   "mimetype": "text/x-python",
   "name": "python",
   "nbconvert_exporter": "python",
   "pygments_lexer": "ipython3",
   "version": "3.9.12"
  }
 },
 "nbformat": 4,
 "nbformat_minor": 5
}
