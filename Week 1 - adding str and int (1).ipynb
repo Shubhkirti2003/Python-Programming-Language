{
 "cells": [
  {
   "cell_type": "code",
   "execution_count": 1,
   "id": "9a05222e",
   "metadata": {},
   "outputs": [
    {
     "name": "stdout",
     "output_type": "stream",
     "text": [
      "88\n",
      "88\n"
     ]
    },
    {
     "data": {
      "text/plain": [
       "88"
      ]
     },
     "execution_count": 1,
     "metadata": {},
     "output_type": "execute_result"
    }
   ],
   "source": [
    "first=40\n",
    "second=48\n",
    "print(first+second)\n",
    "third=first+second\n",
    "print(third)\n",
    "third"
   ]
  },
  {
   "cell_type": "code",
   "execution_count": 2,
   "id": "a5b827a8",
   "metadata": {},
   "outputs": [
    {
     "name": "stdout",
     "output_type": "stream",
     "text": [
      "4048\n",
      "4048\n"
     ]
    },
    {
     "data": {
      "text/plain": [
       "'4048'"
      ]
     },
     "execution_count": 2,
     "metadata": {},
     "output_type": "execute_result"
    }
   ],
   "source": [
    "first=\"40\"\n",
    "second=\"48\"\n",
    "print(first+second)\n",
    "third=first+second\n",
    "print(third)\n",
    "third"
   ]
  },
  {
   "cell_type": "code",
   "execution_count": 5,
   "id": "4d5ac59f",
   "metadata": {},
   "outputs": [
    {
     "name": "stdout",
     "output_type": "stream",
     "text": [
      "40Hello\n",
      "40Hello\n"
     ]
    },
    {
     "data": {
      "text/plain": [
       "'40Hello'"
      ]
     },
     "execution_count": 5,
     "metadata": {},
     "output_type": "execute_result"
    }
   ],
   "source": [
    "first=\"40\"\n",
    "second=\"Hello\"\n",
    "first=str(first)\n",
    "print(first+second)\n",
    "third=first+second\n",
    "print(third)\n",
    "third"
   ]
  },
  {
   "cell_type": "code",
   "execution_count": 6,
   "id": "b1e6bee1",
   "metadata": {},
   "outputs": [
    {
     "name": "stdout",
     "output_type": "stream",
     "text": [
      "Mr.Alex\n",
      "Mr.Alex\n"
     ]
    }
   ],
   "source": [
    "a=\"Mr.Alex\"\n",
    "b=a\n",
    "print(a)\n",
    "print(b)"
   ]
  },
  {
   "cell_type": "code",
   "execution_count": 7,
   "id": "58d47e51",
   "metadata": {},
   "outputs": [
    {
     "name": "stdout",
     "output_type": "stream",
     "text": [
      "Mr.Alex\n",
      "a\n"
     ]
    }
   ],
   "source": [
    "a=\"Mr.Alex\"\n",
    "b=\"a\"\n",
    "print(a)\n",
    "print(b)"
   ]
  },
  {
   "cell_type": "code",
   "execution_count": null,
   "id": "e2a7d824",
   "metadata": {},
   "outputs": [],
   "source": []
  }
 ],
 "metadata": {
  "kernelspec": {
   "display_name": "Python 3 (ipykernel)",
   "language": "python",
   "name": "python3"
  },
  "language_info": {
   "codemirror_mode": {
    "name": "ipython",
    "version": 3
   },
   "file_extension": ".py",
   "mimetype": "text/x-python",
   "name": "python",
   "nbconvert_exporter": "python",
   "pygments_lexer": "ipython3",
   "version": "3.9.12"
  }
 },
 "nbformat": 4,
 "nbformat_minor": 5
}
