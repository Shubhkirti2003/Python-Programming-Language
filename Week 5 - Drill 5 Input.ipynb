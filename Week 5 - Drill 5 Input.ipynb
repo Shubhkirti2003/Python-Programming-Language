{
 "cells": [
  {
   "cell_type": "markdown",
   "metadata": {},
   "source": [
    "# Exercise"
   ]
  },
  {
   "cell_type": "markdown",
   "metadata": {},
   "source": [
    "## Question 1"
   ]
  },
  {
   "cell_type": "markdown",
   "metadata": {},
   "source": [
    "**In interactive mode, make two variables, one for your first name and one for your last name. Then, using a single print statement, print your first and last names together.**"
   ]
  },
  {
   "cell_type": "code",
   "execution_count": 1,
   "metadata": {},
   "outputs": [
    {
     "name": "stdout",
     "output_type": "stream",
     "text": [
      "ShubhkirtiSharma\n"
     ]
    }
   ],
   "source": [
    "x=\"Shubhkirti\"\n",
    "y=\"Sharma\"\n",
    "print(x+y)"
   ]
  },
  {
   "cell_type": "markdown",
   "metadata": {},
   "source": [
    "## Question 2"
   ]
  },
  {
   "cell_type": "markdown",
   "metadata": {},
   "source": [
    "**Write a program that asks for your first name, then asks for your last name, and then\n",
    "prints a message with your first and last names in it.**"
   ]
  },
  {
   "cell_type": "code",
   "execution_count": 2,
   "metadata": {},
   "outputs": [
    {
     "name": "stdout",
     "output_type": "stream",
     "text": [
      "Enter your first name :  Shubhkirti\n",
      "Enter your last name :  Sharma\n",
      "Shubhkirti Sharma\n"
     ]
    }
   ],
   "source": [
    "x=input(\"Enter your first name :  \")\n",
    "y=input(\"Enter your last name :  \")\n",
    "print(x + \" \"+ y)"
   ]
  },
  {
   "cell_type": "markdown",
   "metadata": {},
   "source": [
    "## Question 3"
   ]
  },
  {
   "cell_type": "markdown",
   "metadata": {},
   "source": [
    "**Write a program that asks for the dimensions (in feet) of a rectangular room, and then\n",
    "calculates and displays the total amount of carpet needed to cover the room.**\n"
   ]
  },
  {
   "cell_type": "code",
   "execution_count": 3,
   "metadata": {},
   "outputs": [
    {
     "name": "stdout",
     "output_type": "stream",
     "text": [
      "Enter the length in feet : 42\n",
      "Enter the width in feet : 54\n",
      "Total amount of carpet needed  2268\n"
     ]
    }
   ],
   "source": [
    "x=int(input(\"Enter the length in feet : \"))\n",
    "y=int(input(\"Enter the width in feet : \"))\n",
    "print(\"Total amount of carpet needed \",x*y)"
   ]
  },
  {
   "cell_type": "markdown",
   "metadata": {},
   "source": [
    "## Question 4"
   ]
  },
  {
   "cell_type": "markdown",
   "metadata": {},
   "source": [
    "**Write a program that does the same as in #3, but that also asks for the cost per square\n",
    "yard of carpet. Then have the program display these three things:**\n",
    "\n",
    "**•\tThe total amount of carpet, in square feet**\n",
    "\n",
    "**•\tThe total amount of carpet, in square yards (1 square yard = 9 square feet)**\n",
    "\n",
    "**•\tThe total cost of the carpet**\n"
   ]
  },
  {
   "cell_type": "code",
   "execution_count": 4,
   "metadata": {},
   "outputs": [
    {
     "name": "stdout",
     "output_type": "stream",
     "text": [
      "Enter the length in feet : 2\n",
      "Enter the width in feet : 4\n",
      "Cost per square yard of carpet : 10\n",
      "Total amount of carpet needed in square feet  8\n",
      "Total amount of carpet needed in square yards  0.09876543209876543\n",
      "Total cost of carpet  0.9876543209876543\n"
     ]
    }
   ],
   "source": [
    "x=int(input(\"Enter the length in feet : \"))\n",
    "y=int(input(\"Enter the width in feet : \"))\n",
    "z=int(input(\"Cost per square yard of carpet : \"))\n",
    "print(\"Total amount of carpet needed in square feet \",x*y)\n",
    "print(\"Total amount of carpet needed in square yards \",x*y/81)\n",
    "print(\"Total cost of carpet \",x*y*z/81)\n"
   ]
  },
  {
   "cell_type": "markdown",
   "metadata": {},
   "source": [
    "## Question 5"
   ]
  },
  {
   "cell_type": "markdown",
   "metadata": {},
   "source": [
    "# **Write a program that helps the user add up her change. The program should ask**\n",
    "\n",
    "**•\t“How many quarters?”**\n",
    "\n",
    "**•\t“How many dimes?”**\n",
    "\n",
    "**•\t“How many nickels?”**\n",
    "\n",
    "**•\t“How many pennies?”**\n",
    "\n",
    "**Then it should give the total value of the change.**\n"
   ]
  },
  {
   "cell_type": "code",
   "execution_count": 5,
   "metadata": {},
   "outputs": [
    {
     "name": "stdout",
     "output_type": "stream",
     "text": [
      "Enter the number of quarters : 1\n",
      "Enter the number of dimes : 2\n",
      "Enter the number of nickels : 3\n",
      "Enter the number of pennies : 4\n",
      "Total value of change  0.6400000000000001\n"
     ]
    }
   ],
   "source": [
    "x=int(input(\"Enter the number of quarters : \"))\n",
    "y=int(input(\"Enter the number of dimes : \"))\n",
    "z=int(input(\"Enter the number of nickels : \"))\n",
    "j=int(input(\"Enter the number of pennies : \"))\n",
    "print(\"Total value of change \",x*0.25+y*0.10+z*0.05+j*0.01)"
   ]
  },
  {
   "cell_type": "markdown",
   "metadata": {},
   "source": [
    "## Question 6"
   ]
  },
  {
   "cell_type": "markdown",
   "metadata": {},
   "source": [
    "**Write a program that takes two integer arguments, x and y from user and prints Euclidean distance of the point (x,y) from (0,0).**"
   ]
  },
  {
   "cell_type": "code",
   "execution_count": 6,
   "metadata": {},
   "outputs": [
    {
     "name": "stdout",
     "output_type": "stream",
     "text": [
      "Enter the distance of point from x axis : 5\n",
      "Enter the distance of point from y axis : 6\n",
      "Euclidean distance of point from origin is  7.810249675906654\n"
     ]
    }
   ],
   "source": [
    "import math\n",
    "x=int(input(\"Enter the distance of point from x axis : \"))\n",
    "y=int(input(\"Enter the distance of point from y axis : \"))\n",
    "z=math.sqrt(x*x + y*y)\n",
    "print(\"Euclidean distance of point from origin is \",z)\n"
   ]
  },
  {
   "cell_type": "markdown",
   "metadata": {},
   "source": [
    "## Question 7"
   ]
  },
  {
   "cell_type": "markdown",
   "metadata": {},
   "source": [
    "**Write a program that takes two integer arguments x and y from user and swaps their values. After each assignment statement, print a trace of the variables.**\n"
   ]
  },
  {
   "cell_type": "code",
   "execution_count": 7,
   "metadata": {},
   "outputs": [
    {
     "name": "stdout",
     "output_type": "stream",
     "text": [
      "Enter the value of x : 5\n",
      "Enter the value of y : 6\n",
      "The value of x after swapping: 6\n",
      "The value of y after swapping: 5\n"
     ]
    }
   ],
   "source": [
    "x=int(input(\"Enter the value of x : \"))\n",
    "y=int(input(\"Enter the value of y : \"))\n",
    "\n",
    "temp = x\n",
    "x = y\n",
    "y = temp\n",
    "\n",
    "print('The value of x after swapping: {}'.format(x))\n",
    "print('The value of y after swapping: {}'.format(y))\n"
   ]
  },
  {
   "cell_type": "code",
   "execution_count": null,
   "metadata": {},
   "outputs": [],
   "source": []
  },
  {
   "cell_type": "code",
   "execution_count": null,
   "metadata": {},
   "outputs": [],
   "source": []
  }
 ],
 "metadata": {
  "kernelspec": {
   "display_name": "Python 3 (ipykernel)",
   "language": "python",
   "name": "python3"
  },
  "language_info": {
   "codemirror_mode": {
    "name": "ipython",
    "version": 3
   },
   "file_extension": ".py",
   "mimetype": "text/x-python",
   "name": "python",
   "nbconvert_exporter": "python",
   "pygments_lexer": "ipython3",
   "version": "3.9.12"
  }
 },
 "nbformat": 4,
 "nbformat_minor": 2
}
