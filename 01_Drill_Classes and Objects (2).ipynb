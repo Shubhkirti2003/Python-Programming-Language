{
 "cells": [
  {
   "cell_type": "markdown",
   "metadata": {},
   "source": [
    "### Classes and objects"
   ]
  },
  {
   "cell_type": "markdown",
   "metadata": {},
   "source": [
    "## Question 1"
   ]
  },
  {
   "cell_type": "markdown",
   "metadata": {},
   "source": [
    "**Write a Python class named Circle that initializes radius of circle and defines two methods which will compute the area and the perimeter of a circle.**"
   ]
  },
  {
   "cell_type": "code",
   "execution_count": 5,
   "metadata": {},
   "outputs": [
    {
     "name": "stdout",
     "output_type": "stream",
     "text": [
      "Enter the radius of circle: 100\n",
      "Perimeter of circle is: 628.3185307179587\n",
      "Area of circle : 31415.926535897932\n"
     ]
    }
   ],
   "source": [
    "import math\n",
    "\n",
    "class Circle():\n",
    "    \n",
    "    def __init__(self, r):\n",
    "        self.r = r\n",
    "    def Area(self):\n",
    "        return math.pi*(self.r**2)\n",
    "\n",
    "    def Perimeter(self):\n",
    "        return 2*math.pi*self.r\n",
    "    \n",
    "r = float(input('Enter the radius of circle: '))\n",
    "\n",
    "Circleobj = Circle(r)\n",
    "\n",
    "print(\"Perimeter of circle is:\",(Circleobj.Perimeter()))\n",
    "\n",
    "print(\"Area of circle :\",(Circleobj.Area()))"
   ]
  },
  {
   "cell_type": "markdown",
   "metadata": {},
   "source": [
    "## Question 2"
   ]
  },
  {
   "cell_type": "markdown",
   "metadata": {},
   "source": [
    "**Write a Python class named Stock to represent a company’s stock which calculates the change in price in Stocks from previous closing price to current Pricethat contains:<br><br>**\n",
    "•\tA private string data field named *symbol* for the stock’s symbol. <br>\n",
    "•\tA private string data field named *name* for the stock’s name. <br>\n",
    "•\t A private float data field named *previousClosingPrice* that stores the stock price for the previous day. <br>\n",
    "•\t A private float data field named *currentPrice* that stores the stock price for the current time.<br> \n",
    "•\t A constructor that creates a stock with the specified symbol, name, previous price, and current price.<br> \n",
    "•\t A get method for returning the stock name.<br> \n",
    "•\t A get method for returning the stock symbol. <br>\n",
    "•\t Get and set methods for getting/setting the stock’s previous price.<br> \n",
    "•\t Get and set methods for getting/setting the stock’s current price. <br>\n",
    "•\t A method named **getChangePercent()** that returns the percentage changed from previousClosingPrice to currentPrice."
   ]
  },
  {
   "cell_type": "code",
   "execution_count": 1,
   "metadata": {},
   "outputs": [
    {
     "name": "stdout",
     "output_type": "stream",
     "text": [
      "The price change is -0.73%\n"
     ]
    }
   ],
   "source": [
    "class Stock:\n",
    "    def __init__(self, name, symbol, previousPrice, currentPrice):\n",
    "        self.__name = name\n",
    "        self.__symbol = symbol\n",
    "        self.__previousPrice = previousPrice\n",
    "        self.__currentPrice = currentPrice\n",
    "\n",
    "    def getName(self):\n",
    "        return self.__name \n",
    "\n",
    "    def getSymbol(self):\n",
    "        return self.__symbol\n",
    "\n",
    "    def getPreviousPrice(self):\n",
    "        return self.__previousPrice\n",
    "\n",
    "    def getCurrentPrice(self):\n",
    "        return self.__currentPrice\n",
    "\n",
    "    def setPreviousPrice(self, previousPrice):\n",
    "        self.__previousPrice = previousPrice\n",
    "\n",
    "    def setCurrentPrice(self, currentPrice):\n",
    "        self.__currentPrice = currentPrice\n",
    "\n",
    "\n",
    "    def getChangePercent(self):\n",
    "        return format((self.__currentPrice - self.__previousPrice) * 100 / self.__previousPrice, \"5.2f\") + \"%\"\n",
    "\n",
    "def main():\n",
    "    stock = Stock(\"Intel\", \"INTC\", 20.5, 20.35)\n",
    "    print(\"The price change is\", stock.getChangePercent())\n",
    "          \n",
    "main()\n"
   ]
  },
  {
   "cell_type": "markdown",
   "metadata": {},
   "source": [
    "## Great Work!"
   ]
  }
 ],
 "metadata": {
  "kernelspec": {
   "display_name": "Python 3 (ipykernel)",
   "language": "python",
   "name": "python3"
  },
  "language_info": {
   "codemirror_mode": {
    "name": "ipython",
    "version": 3
   },
   "file_extension": ".py",
   "mimetype": "text/x-python",
   "name": "python",
   "nbconvert_exporter": "python",
   "pygments_lexer": "ipython3",
   "version": "3.9.12"
  }
 },
 "nbformat": 4,
 "nbformat_minor": 2
}
