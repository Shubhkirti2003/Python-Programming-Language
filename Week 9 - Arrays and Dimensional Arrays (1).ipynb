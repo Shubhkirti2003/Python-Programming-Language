{
 "cells": [
  {
   "cell_type": "code",
   "execution_count": 3,
   "id": "16679882",
   "metadata": {},
   "outputs": [
    {
     "name": "stdout",
     "output_type": "stream",
     "text": [
      "array('i', [2, 4, 6, 8])\n"
     ]
    }
   ],
   "source": [
    "import array\n",
    "a=array.array(\"i\",[2,4,6,8])\n",
    "print(a)"
   ]
  },
  {
   "cell_type": "code",
   "execution_count": 27,
   "id": "a89a26c9",
   "metadata": {},
   "outputs": [
    {
     "name": "stdout",
     "output_type": "stream",
     "text": [
      "array('d', [1.0, 2.0, 4.0, 5.0, 6.0, 7.0])\n",
      "<class 'array.array'>\n"
     ]
    }
   ],
   "source": [
    "import array as arr\n",
    "a=arr.array(\"d\",[1,2,4,5,6,7])\n",
    "print(a)\n",
    "print(type(a))"
   ]
  },
  {
   "cell_type": "code",
   "execution_count": 7,
   "id": "543baaf7",
   "metadata": {},
   "outputs": [
    {
     "name": "stdout",
     "output_type": "stream",
     "text": [
      "First Element 2\n",
      "Second Element 4\n",
      "Third Element 6\n",
      "Fifth Element 9\n",
      "Fourth Element 8\n"
     ]
    }
   ],
   "source": [
    "import array as arr\n",
    "c=array.array(\"i\",[2,4,6,8,9])\n",
    "print(\"First Element\", c[0])\n",
    "print(\"Second Element\", c[1])\n",
    "print(\"Third Element\", c[2])\n",
    "print(\"Fifth Element\", c[4])\n",
    "print(\"Fourth Element\", c[-2])"
   ]
  },
  {
   "cell_type": "code",
   "execution_count": 8,
   "id": "b3cb8e85",
   "metadata": {},
   "outputs": [
    {
     "name": "stdout",
     "output_type": "stream",
     "text": [
      "Length:  5\n"
     ]
    }
   ],
   "source": [
    "import array as arr\n",
    "c=array.array(\"i\",[2,4,6,8,9])\n",
    "print(\"Length: \", len(c))"
   ]
  },
  {
   "cell_type": "code",
   "execution_count": 12,
   "id": "516f3fb7",
   "metadata": {},
   "outputs": [
    {
     "name": "stdout",
     "output_type": "stream",
     "text": [
      "array('i', [2, 4, 6, 8, 9, 10])\n",
      "array('i', [2, 4, 6, 8, 9, 10, 44, 67])\n",
      "array('i', [2, 88, 4, 6, 8, 9, 10, 44, 67])\n",
      "array('i', [2, 88, 4, 6, 8, 9, 10, 44, 67, 1, 2, 4, 5, 6, 7])\n"
     ]
    }
   ],
   "source": [
    "import array as arr\n",
    "c=array.array(\"i\",[2,4,6,8,9])\n",
    "c.append(10)\n",
    "print(c)\n",
    "c.extend([44,67])\n",
    "print(c)\n",
    "c.insert(1,88)\n",
    "print(c)\n",
    "a=arr.array(\"i\",[1,2,4,5,6,7])\n",
    "c=c+a\n",
    "print(c)"
   ]
  },
  {
   "cell_type": "code",
   "execution_count": 18,
   "id": "825f0877",
   "metadata": {},
   "outputs": [
    {
     "name": "stdout",
     "output_type": "stream",
     "text": [
      "array('i', [2, 4, 6, 8, 9])\n",
      "array('i', [2, 4, 6, 9])\n",
      "Popped element:  8\n",
      "array('i', [4, 6, 9])\n",
      "Removed element:  None\n",
      "array('i', [4, 6])\n",
      "Popped element:  9\n"
     ]
    }
   ],
   "source": [
    "import array as arr\n",
    "c=array.array(\"i\",[2,4,6,8,9])\n",
    "print(c)\n",
    "d=c.pop(3)\n",
    "print(c)\n",
    "print(\"Popped element: \",d)\n",
    "e=c.remove(2)\n",
    "print(c)\n",
    "print(\"Removed element: \",e)\n",
    "f=c.pop()\n",
    "print(c)\n",
    "print(\"Popped element: \",f)"
   ]
  },
  {
   "cell_type": "code",
   "execution_count": 21,
   "id": "592e44de",
   "metadata": {},
   "outputs": [
    {
     "name": "stdout",
     "output_type": "stream",
     "text": [
      "array('i', [1, 2, 4, 5, 6, 7, 2, 4, 6, 8, 9])\n",
      "array('i', [1, 2, 4, 5, 6, 7, 1, 2, 4, 5, 6, 7, 1, 2, 4, 5, 6, 7])\n"
     ]
    }
   ],
   "source": [
    "import array as arr\n",
    "a=arr.array(\"i\",[1,2,4,5,6,7])\n",
    "b=array.array(\"i\",[2,4,6,8,9])\n",
    "c=arr.array(\"i\")\n",
    "c=a+b\n",
    "print(c)\n",
    "c=a*3\n",
    "print(c)"
   ]
  },
  {
   "cell_type": "code",
   "execution_count": 23,
   "id": "500417dd",
   "metadata": {},
   "outputs": [
    {
     "name": "stdout",
     "output_type": "stream",
     "text": [
      "array('i', [4, 5, 6, 7])\n",
      "array('i', [1, 2, 4, 5, 6, 7])\n",
      "array('i', [5, 6])\n",
      "array('i', [5, 6, 7])\n"
     ]
    }
   ],
   "source": [
    "num_list=[1,2,4,5,6,7]\n",
    "num_array=arr.array(\"i\",num_list)\n",
    "print(num_array[2:])\n",
    "print(num_array[:])\n",
    "print(num_array[-3:-1:1])\n",
    "print(num_array[-3:])"
   ]
  },
  {
   "cell_type": "code",
   "execution_count": 35,
   "id": "1616347a",
   "metadata": {},
   "outputs": [
    {
     "name": "stdout",
     "output_type": "stream",
     "text": [
      "False\n"
     ]
    }
   ],
   "source": [
    "a=arr.array(\"i\",[1,2,4,5,6,7])\n",
    "b=array.array(\"i\",[2,4,6,8,9])\n",
    "print(a==b)"
   ]
  },
  {
   "cell_type": "code",
   "execution_count": 41,
   "id": "416325bd",
   "metadata": {},
   "outputs": [
    {
     "ename": "NameError",
     "evalue": "name 'c' is not defined",
     "output_type": "error",
     "traceback": [
      "\u001b[1;31m---------------------------------------------------------------------------\u001b[0m",
      "\u001b[1;31mNameError\u001b[0m                                 Traceback (most recent call last)",
      "Input \u001b[1;32mIn [41]\u001b[0m, in \u001b[0;36m<cell line: 3>\u001b[1;34m()\u001b[0m\n\u001b[0;32m      1\u001b[0m c\u001b[38;5;241m=\u001b[39marray\u001b[38;5;241m.\u001b[39marray(\u001b[38;5;124m\"\u001b[39m\u001b[38;5;124mi\u001b[39m\u001b[38;5;124m\"\u001b[39m,[\u001b[38;5;241m2\u001b[39m,\u001b[38;5;241m4\u001b[39m,\u001b[38;5;241m6\u001b[39m,\u001b[38;5;241m8\u001b[39m,\u001b[38;5;241m9\u001b[39m])\n\u001b[0;32m      2\u001b[0m \u001b[38;5;28;01mdel\u001b[39;00m c\n\u001b[1;32m----> 3\u001b[0m \u001b[38;5;28mprint\u001b[39m(\u001b[43mc\u001b[49m)\n",
      "\u001b[1;31mNameError\u001b[0m: name 'c' is not defined"
     ]
    }
   ],
   "source": [
    "c=array.array(\"i\",[2,4,6,8,9])\n",
    "del c\n",
    "print(c)"
   ]
  },
  {
   "cell_type": "code",
   "execution_count": 44,
   "id": "559fe52b",
   "metadata": {},
   "outputs": [
    {
     "name": "stdout",
     "output_type": "stream",
     "text": [
      "True\n",
      "False\n",
      "False\n",
      "True\n"
     ]
    }
   ],
   "source": [
    "c=array.array(\"i\",[2,4,6,8,9])\n",
    "print(2 in c)\n",
    "print(10 in c)\n",
    "print(2 not in c)\n",
    "print(10 not in c)"
   ]
  },
  {
   "cell_type": "code",
   "execution_count": 47,
   "id": "f617b218",
   "metadata": {},
   "outputs": [
    {
     "name": "stdout",
     "output_type": "stream",
     "text": [
      "None\n"
     ]
    }
   ],
   "source": [
    "c=array.array(\"i\",[2,4,6,8,9])\n",
    "d=c.reverse()\n",
    "print(d)"
   ]
  },
  {
   "cell_type": "code",
   "execution_count": 25,
   "id": "1523879d",
   "metadata": {},
   "outputs": [
    {
     "name": "stdout",
     "output_type": "stream",
     "text": [
      "Values\n",
      "1.0\n",
      "2.0\n",
      "4.0\n",
      "5.0\n",
      "6.0\n",
      "7.0\n",
      "1.0 2.0 4.0 5.0 6.0 7.0 "
     ]
    }
   ],
   "source": [
    "a=arr.array(\"d\",[1,2,4,5,6,7])\n",
    "print(\"Values\")\n",
    "for i in a:\n",
    "    print(i)\n",
    "for i in a:\n",
    "    print(i,end=\" \")"
   ]
  },
  {
   "cell_type": "code",
   "execution_count": 33,
   "id": "a4a6f405",
   "metadata": {},
   "outputs": [
    {
     "name": "stdout",
     "output_type": "stream",
     "text": [
      "Values\n",
      "1.0\n",
      "2.0\n",
      "4.0\n",
      "5.0\n",
      "6.0\n",
      "7.0\n"
     ]
    }
   ],
   "source": [
    "a=arr.array(\"d\",[1,2,4,5,6,7])\n",
    "print(\"Values\")\n",
    "temp=0\n",
    "while(temp<len(a)):\n",
    "    print(a[temp])\n",
    "    temp=temp+1"
   ]
  },
  {
   "cell_type": "code",
   "execution_count": 28,
   "id": "8d1bcc46",
   "metadata": {},
   "outputs": [
    {
     "name": "stdout",
     "output_type": "stream",
     "text": [
      "[1 2 4 5 6 7]\n",
      "<class 'numpy.ndarray'>\n",
      "[10 11  9]\n",
      "<class 'numpy.ndarray'>\n"
     ]
    }
   ],
   "source": [
    "import numpy as np\n",
    "a=np.array([1,2,4,5,6,7])\n",
    "b=np.array([10,11,9])\n",
    "print(a)\n",
    "print(type(a))\n",
    "print(b)\n",
    "print(type(b))"
   ]
  },
  {
   "cell_type": "code",
   "execution_count": 29,
   "id": "1c8d6f26",
   "metadata": {},
   "outputs": [
    {
     "name": "stdout",
     "output_type": "stream",
     "text": [
      "[[1 4 6]\n",
      " [6 5 8]]\n"
     ]
    }
   ],
   "source": [
    "c=np.array([(1,4,6),(6,5,8)])\n",
    "print(c)"
   ]
  },
  {
   "cell_type": "code",
   "execution_count": 30,
   "id": "69b9ba13",
   "metadata": {},
   "outputs": [
    {
     "name": "stdout",
     "output_type": "stream",
     "text": [
      "[[1 4 6]\n",
      " [6 5 8]]\n"
     ]
    }
   ],
   "source": [
    "d=np.array([[1,4,6],[6,5,8]])\n",
    "print(d)"
   ]
  },
  {
   "cell_type": "code",
   "execution_count": 34,
   "id": "2b29caae",
   "metadata": {},
   "outputs": [
    {
     "data": {
      "text/plain": [
       "2"
      ]
     },
     "execution_count": 34,
     "metadata": {},
     "output_type": "execute_result"
    }
   ],
   "source": [
    "d.ndim"
   ]
  },
  {
   "cell_type": "code",
   "execution_count": 37,
   "id": "eb0b3413",
   "metadata": {},
   "outputs": [
    {
     "name": "stdout",
     "output_type": "stream",
     "text": [
      "[[[ 4  6  7]\n",
      "  [ 5  2  1]\n",
      "  [10 22 45]\n",
      "  [ 1  5  6]]]\n"
     ]
    }
   ],
   "source": [
    "a=np.array([((4,6,7),(5,2,1),(10,22,45),(1,5,6))])\n",
    "print(a)"
   ]
  },
  {
   "cell_type": "code",
   "execution_count": 39,
   "id": "c5a3090e",
   "metadata": {},
   "outputs": [
    {
     "name": "stdout",
     "output_type": "stream",
     "text": [
      "(2, 3)\n"
     ]
    }
   ],
   "source": [
    "e=np.array([[1,4,6],[6,5,8]])\n",
    "print(e.shape)"
   ]
  },
  {
   "cell_type": "code",
   "execution_count": 40,
   "id": "43e3838c",
   "metadata": {},
   "outputs": [
    {
     "name": "stdout",
     "output_type": "stream",
     "text": [
      "(array([5], dtype=int64),)\n"
     ]
    }
   ],
   "source": [
    "arr=np.array([1,3,6,7,8,5,10])\n",
    "res=np.where(arr==5)\n",
    "print(res)"
   ]
  },
  {
   "cell_type": "code",
   "execution_count": 49,
   "id": "0ebcec2d",
   "metadata": {},
   "outputs": [
    {
     "name": "stdout",
     "output_type": "stream",
     "text": [
      "1\n"
     ]
    }
   ],
   "source": [
    "arr=np.array([1,3,6,7,8,5,10])\n",
    "s=np.searchsorted(arr,3)\n",
    "print(s)"
   ]
  },
  {
   "cell_type": "code",
   "execution_count": 50,
   "id": "ae7bfd13",
   "metadata": {},
   "outputs": [
    {
     "name": "stdout",
     "output_type": "stream",
     "text": [
      "10\n",
      "1\n"
     ]
    }
   ],
   "source": [
    "a=np.array([1,3,6,7,8,5,10])\n",
    "print(np.max(a))\n",
    "print(np.min(a))"
   ]
  },
  {
   "cell_type": "code",
   "execution_count": 51,
   "id": "41c7eeb6",
   "metadata": {},
   "outputs": [
    {
     "name": "stdout",
     "output_type": "stream",
     "text": [
      "6\n",
      "0\n"
     ]
    }
   ],
   "source": [
    "a=np.array([1,3,6,7,8,5,10])\n",
    "print(np.argmax(a))\n",
    "print(np.argmin(a))"
   ]
  },
  {
   "cell_type": "code",
   "execution_count": 52,
   "id": "583a474f",
   "metadata": {},
   "outputs": [
    {
     "name": "stdout",
     "output_type": "stream",
     "text": [
      "[1.         1.73205081 2.44948974 2.64575131 2.82842712 2.23606798\n",
      " 3.16227766]\n"
     ]
    }
   ],
   "source": [
    "a=np.array([1,3,6,7,8,5,10])\n",
    "print(np.sqrt(a))"
   ]
  },
  {
   "cell_type": "code",
   "execution_count": 53,
   "id": "4f7f0567",
   "metadata": {},
   "outputs": [
    {
     "data": {
      "text/plain": [
       "array([1.  , 1.25, 1.5 , 1.75, 2.  ])"
      ]
     },
     "execution_count": 53,
     "metadata": {},
     "output_type": "execute_result"
    }
   ],
   "source": [
    "a=np.array([1,3,6,7,8,5,10])\n",
    "np.linspace(1,2,5)"
   ]
  },
  {
   "cell_type": "code",
   "execution_count": 54,
   "id": "7b268b81",
   "metadata": {},
   "outputs": [
    {
     "data": {
      "text/plain": [
       "array([  0.        ,  11.11111111,  22.22222222,  33.33333333,\n",
       "        44.44444444,  55.55555556,  66.66666667,  77.77777778,\n",
       "        88.88888889, 100.        ])"
      ]
     },
     "execution_count": 54,
     "metadata": {},
     "output_type": "execute_result"
    }
   ],
   "source": [
    "np.linspace(0,100,10)"
   ]
  },
  {
   "cell_type": "code",
   "execution_count": 55,
   "id": "094b8486",
   "metadata": {},
   "outputs": [
    {
     "name": "stdout",
     "output_type": "stream",
     "text": [
      "[[32 53]\n",
      " [44 25]]\n"
     ]
    }
   ],
   "source": [
    "a=np.array([[2,3],[4,5]])\n",
    "b=np.array([[30,50],[40,20]])\n",
    "c=a+b\n",
    "print(c)"
   ]
  },
  {
   "cell_type": "code",
   "execution_count": 59,
   "id": "39f58ff9",
   "metadata": {},
   "outputs": [
    {
     "name": "stdout",
     "output_type": "stream",
     "text": [
      "[[180 160]\n",
      " [320 300]]\n"
     ]
    }
   ],
   "source": [
    "a=np.array([[2,3],[4,5]])\n",
    "b=np.array([[30,50],[40,20]])\n",
    "print(a.dot(b))"
   ]
  },
  {
   "cell_type": "code",
   "execution_count": 63,
   "id": "022684e2",
   "metadata": {},
   "outputs": [
    {
     "name": "stdout",
     "output_type": "stream",
     "text": [
      "[[ 60 150]\n",
      " [160 100]]\n"
     ]
    }
   ],
   "source": [
    "a=np.array([[2,3],[4,5]])\n",
    "b=np.array([[30,50],[40,20]])\n",
    "print(np.multiply(a,b))"
   ]
  },
  {
   "cell_type": "code",
   "execution_count": 64,
   "id": "be8dff6b",
   "metadata": {},
   "outputs": [
    {
     "name": "stdout",
     "output_type": "stream",
     "text": [
      "[[180 160]\n",
      " [320 300]]\n"
     ]
    }
   ],
   "source": [
    "a=np.array([[2,3],[4,5]])\n",
    "b=np.array([[30,50],[40,20]])\n",
    "print(np.matmul(a,b))"
   ]
  },
  {
   "cell_type": "code",
   "execution_count": 65,
   "id": "b5939018",
   "metadata": {},
   "outputs": [
    {
     "name": "stdout",
     "output_type": "stream",
     "text": [
      "[[ 60 150]\n",
      " [160 100]]\n"
     ]
    }
   ],
   "source": [
    "a=np.array([[2,3],[4,5]])\n",
    "b=np.array([[30,50],[40,20]])\n",
    "print(a*b)"
   ]
  },
  {
   "cell_type": "code",
   "execution_count": 68,
   "id": "88fe2ba4",
   "metadata": {},
   "outputs": [
    {
     "data": {
      "text/plain": [
       "140"
      ]
     },
     "execution_count": 68,
     "metadata": {},
     "output_type": "execute_result"
    }
   ],
   "source": [
    "d=np.array([[30,50],[40,20]])\n",
    "np.sum(d)"
   ]
  },
  {
   "cell_type": "code",
   "execution_count": 66,
   "id": "b095eaf3",
   "metadata": {},
   "outputs": [
    {
     "data": {
      "text/plain": [
       "array([70, 70])"
      ]
     },
     "execution_count": 66,
     "metadata": {},
     "output_type": "execute_result"
    }
   ],
   "source": [
    "c=np.array([[30,50],[40,20]])\n",
    "np.sum(c,axis=0)"
   ]
  },
  {
   "cell_type": "code",
   "execution_count": 67,
   "id": "d8a21e6f",
   "metadata": {},
   "outputs": [
    {
     "data": {
      "text/plain": [
       "array([80, 60])"
      ]
     },
     "execution_count": 67,
     "metadata": {},
     "output_type": "execute_result"
    }
   ],
   "source": [
    "c=np.array([[30,50],[40,20]])\n",
    "np.sum(c,axis=1)"
   ]
  },
  {
   "cell_type": "code",
   "execution_count": 75,
   "id": "546c6f29",
   "metadata": {},
   "outputs": [
    {
     "name": "stdout",
     "output_type": "stream",
     "text": [
      "[0 0 0 0]\n"
     ]
    }
   ],
   "source": [
    "arr1=np.zeros((4),dtype=int)\n",
    "print(arr1)"
   ]
  },
  {
   "cell_type": "code",
   "execution_count": 79,
   "id": "c8db3736",
   "metadata": {},
   "outputs": [
    {
     "name": "stdout",
     "output_type": "stream",
     "text": [
      "[[0 0 0 0]\n",
      " [0 0 0 0]\n",
      " [0 0 0 0]]\n"
     ]
    }
   ],
   "source": [
    "arr2=np.zeros((3,4),dtype=int)\n",
    "print(arr2)"
   ]
  },
  {
   "cell_type": "code",
   "execution_count": 77,
   "id": "4c84abd0",
   "metadata": {},
   "outputs": [
    {
     "name": "stdout",
     "output_type": "stream",
     "text": [
      "[1 1 1 1]\n"
     ]
    }
   ],
   "source": [
    "arr1=np.ones((4),dtype=int)\n",
    "print(arr1)"
   ]
  },
  {
   "cell_type": "code",
   "execution_count": 82,
   "id": "5fe7a553",
   "metadata": {},
   "outputs": [
    {
     "name": "stdout",
     "output_type": "stream",
     "text": [
      "[[1 1 1 1]\n",
      " [1 1 1 1]\n",
      " [1 1 1 1]]\n"
     ]
    }
   ],
   "source": [
    "arr2=np.ones((3,4),dtype=int)\n",
    "print(arr2)"
   ]
  },
  {
   "cell_type": "code",
   "execution_count": null,
   "id": "994a49eb",
   "metadata": {},
   "outputs": [],
   "source": []
  }
 ],
 "metadata": {
  "kernelspec": {
   "display_name": "Python 3 (ipykernel)",
   "language": "python",
   "name": "python3"
  },
  "language_info": {
   "codemirror_mode": {
    "name": "ipython",
    "version": 3
   },
   "file_extension": ".py",
   "mimetype": "text/x-python",
   "name": "python",
   "nbconvert_exporter": "python",
   "pygments_lexer": "ipython3",
   "version": "3.9.12"
  }
 },
 "nbformat": 4,
 "nbformat_minor": 5
}
