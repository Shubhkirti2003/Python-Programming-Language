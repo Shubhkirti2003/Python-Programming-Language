{
 "cells": [
  {
   "cell_type": "code",
   "execution_count": 1,
   "id": "52ca4a95",
   "metadata": {},
   "outputs": [
    {
     "name": "stdout",
     "output_type": "stream",
     "text": [
      "There are 12 months in a year.\n"
     ]
    }
   ],
   "source": [
    "Months = 12\n",
    "str=\"There are {} months in a year.\"\n",
    "print(str.format(Months))"
   ]
  },
  {
   "cell_type": "code",
   "execution_count": 4,
   "id": "d4efa0a4",
   "metadata": {},
   "outputs": [
    {
     "name": "stdout",
     "output_type": "stream",
     "text": [
      "Alex,Max,John\n"
     ]
    }
   ],
   "source": [
    "print(\"{a},{b},{c}\".format(a=\"Alex\",b=\"Max\",c=\"John\"))"
   ]
  },
  {
   "cell_type": "code",
   "execution_count": 5,
   "id": "9e26c66b",
   "metadata": {},
   "outputs": [
    {
     "name": "stdout",
     "output_type": "stream",
     "text": [
      "Alex,Max,John\n"
     ]
    }
   ],
   "source": [
    "print(\"{0},{1},{2}\".format(\"Alex\",\"Max\",\"John\"))"
   ]
  },
  {
   "cell_type": "code",
   "execution_count": 6,
   "id": "352d9e91",
   "metadata": {},
   "outputs": [
    {
     "name": "stdout",
     "output_type": "stream",
     "text": [
      "Alex,Max,John\n"
     ]
    }
   ],
   "source": [
    "print(\"{},{},{}\".format(\"Alex\",\"Max\",\"John\"))"
   ]
  },
  {
   "cell_type": "code",
   "execution_count": null,
   "id": "5f307231",
   "metadata": {},
   "outputs": [],
   "source": [
    "print(\"{},{},{}\".format(\"Alex\",\"Max\",\"John\"))"
   ]
  },
  {
   "cell_type": "code",
   "execution_count": 10,
   "id": "187588d2",
   "metadata": {},
   "outputs": [
    {
     "name": "stdout",
     "output_type": "stream",
     "text": [
      "Alex,Max and John are friends\n"
     ]
    }
   ],
   "source": [
    "print(\"{},{} and {} are friends\".format(\"Alex\",\"Max\",\"John\"))"
   ]
  },
  {
   "cell_type": "code",
   "execution_count": 8,
   "id": "747d3222",
   "metadata": {},
   "outputs": [
    {
     "name": "stdout",
     "output_type": "stream",
     "text": [
      "Alex,Max\n"
     ]
    }
   ],
   "source": [
    "print(\"{},{}\".format(\"Alex\",\"Max\",\"John\"))"
   ]
  },
  {
   "cell_type": "code",
   "execution_count": 11,
   "id": "378a46eb",
   "metadata": {},
   "outputs": [
    {
     "data": {
      "text/plain": [
       "'Hey, how was your cat? How was your family? How was your life going on?'"
      ]
     },
     "execution_count": 11,
     "metadata": {},
     "output_type": "execute_result"
    }
   ],
   "source": [
    "str1=\"Hey, how is your cat? How is your family? How is your life going on?\"\n",
    "str1.replace(\"is\",\"was\")\n"
   ]
  },
  {
   "cell_type": "code",
   "execution_count": 12,
   "id": "c4f6c767",
   "metadata": {},
   "outputs": [
    {
     "data": {
      "text/plain": [
       "'Hey, how was your cat? How was your family? How is your life going on?'"
      ]
     },
     "execution_count": 12,
     "metadata": {},
     "output_type": "execute_result"
    }
   ],
   "source": [
    "str1=\"Hey, how is your cat? How is your family? How is your life going on?\"\n",
    "str1.replace(\"is\",\"was\",2)\n"
   ]
  },
  {
   "cell_type": "code",
   "execution_count": 13,
   "id": "d634c403",
   "metadata": {},
   "outputs": [
    {
     "data": {
      "text/plain": [
       "1"
      ]
     },
     "execution_count": 13,
     "metadata": {},
     "output_type": "execute_result"
    }
   ],
   "source": [
    "str1=\"Hey, how is your cat? How is your family?\"\n",
    "str1.count(\"is\",0,20)"
   ]
  },
  {
   "cell_type": "code",
   "execution_count": 14,
   "id": "2cae007d",
   "metadata": {},
   "outputs": [
    {
     "data": {
      "text/plain": [
       "2"
      ]
     },
     "execution_count": 14,
     "metadata": {},
     "output_type": "execute_result"
    }
   ],
   "source": [
    "str1=\"Hey, how is your cat? How is your family?\"\n",
    "str1.count(\"is\")"
   ]
  },
  {
   "cell_type": "code",
   "execution_count": null,
   "id": "c2c1f0d1",
   "metadata": {},
   "outputs": [],
   "source": []
  }
 ],
 "metadata": {
  "kernelspec": {
   "display_name": "Python 3 (ipykernel)",
   "language": "python",
   "name": "python3"
  },
  "language_info": {
   "codemirror_mode": {
    "name": "ipython",
    "version": 3
   },
   "file_extension": ".py",
   "mimetype": "text/x-python",
   "name": "python",
   "nbconvert_exporter": "python",
   "pygments_lexer": "ipython3",
   "version": "3.9.12"
  }
 },
 "nbformat": 4,
 "nbformat_minor": 5
}
