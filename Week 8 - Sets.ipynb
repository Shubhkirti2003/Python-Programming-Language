{
 "cells": [
  {
   "cell_type": "code",
   "execution_count": 12,
   "id": "977e9b26",
   "metadata": {},
   "outputs": [
    {
     "name": "stdout",
     "output_type": "stream",
     "text": [
      "{1, 2, 3, 4, 'ABC', 6}\n",
      "{1, 2, 3, 4, 'ABC', 6, 'Z'}\n"
     ]
    }
   ],
   "source": [
    "S1={3,4,1,2,4,6, \"ABC\"}\n",
    "print(S1)\n",
    "S1.update('Z')\n",
    "print(S1)"
   ]
  },
  {
   "cell_type": "code",
   "execution_count": 4,
   "id": "37aaaece",
   "metadata": {},
   "outputs": [
    {
     "name": "stdout",
     "output_type": "stream",
     "text": [
      "{1, 2, 3, 4, 6}\n",
      "{1, 2, 3, 4, 6, 8}\n"
     ]
    }
   ],
   "source": [
    "S1={3,4,1,2,4,6}\n",
    "print(S1)\n",
    "S1.add(8)\n",
    "print(S1)"
   ]
  },
  {
   "cell_type": "code",
   "execution_count": 5,
   "id": "10ba76c7",
   "metadata": {},
   "outputs": [
    {
     "name": "stdout",
     "output_type": "stream",
     "text": [
      "{1, 2, 3, 4, 6}\n",
      "{1, 2, 3, 6}\n"
     ]
    }
   ],
   "source": [
    "S1={3,4,1,2,4,6}\n",
    "print(S1)\n",
    "S1.discard(4)\n",
    "print(S1)"
   ]
  },
  {
   "cell_type": "code",
   "execution_count": 7,
   "id": "32cb48a6",
   "metadata": {},
   "outputs": [
    {
     "name": "stdout",
     "output_type": "stream",
     "text": [
      "<class 'set'>\n",
      "5\n"
     ]
    }
   ],
   "source": [
    "S1={3,4,1,2,4,6}\n",
    "print(type(S1))\n",
    "print(len(S1))"
   ]
  },
  {
   "cell_type": "code",
   "execution_count": 8,
   "id": "c56614ad",
   "metadata": {},
   "outputs": [
    {
     "name": "stdout",
     "output_type": "stream",
     "text": [
      "{1, 2, 3, 4, 6}\n",
      "{1, 2, 3, 6}\n"
     ]
    },
    {
     "ename": "KeyError",
     "evalue": "9",
     "output_type": "error",
     "traceback": [
      "\u001b[1;31m---------------------------------------------------------------------------\u001b[0m",
      "\u001b[1;31mKeyError\u001b[0m                                  Traceback (most recent call last)",
      "Input \u001b[1;32mIn [8]\u001b[0m, in \u001b[0;36m<cell line: 5>\u001b[1;34m()\u001b[0m\n\u001b[0;32m      3\u001b[0m S1\u001b[38;5;241m.\u001b[39mremove(\u001b[38;5;241m4\u001b[39m)\n\u001b[0;32m      4\u001b[0m \u001b[38;5;28mprint\u001b[39m(S1)\n\u001b[1;32m----> 5\u001b[0m \u001b[43mS1\u001b[49m\u001b[38;5;241;43m.\u001b[39;49m\u001b[43mremove\u001b[49m\u001b[43m(\u001b[49m\u001b[38;5;241;43m9\u001b[39;49m\u001b[43m)\u001b[49m\n\u001b[0;32m      6\u001b[0m \u001b[38;5;28mprint\u001b[39m(S1)\n",
      "\u001b[1;31mKeyError\u001b[0m: 9"
     ]
    }
   ],
   "source": [
    "S1={3,4,1,2,4,6}\n",
    "print(S1)\n",
    "S1.remove(4)\n",
    "print(S1)\n",
    "S1.remove(9)\n",
    "print(S1)"
   ]
  },
  {
   "cell_type": "code",
   "execution_count": 9,
   "id": "be976c2b",
   "metadata": {},
   "outputs": [
    {
     "name": "stdout",
     "output_type": "stream",
     "text": [
      "{1, 2, 3, 4, 6}\n",
      "set()\n"
     ]
    }
   ],
   "source": [
    "S1={3,4,1,2,4,6}\n",
    "print(S1)\n",
    "S1.clear()\n",
    "print(S1)"
   ]
  },
  {
   "cell_type": "code",
   "execution_count": 15,
   "id": "aa60d4fc",
   "metadata": {},
   "outputs": [
    {
     "name": "stdout",
     "output_type": "stream",
     "text": [
      "{1, 2, 3, 4, 'ABC', 6}\n",
      "{8, 9, 'ZZ', 5}\n",
      "{1, 2, 3, 4, 5, 6, 8, 9, 'ZZ', 'ABC'}\n",
      "{1, 2, 3, 4, 5, 6, 8, 9, 'ZZ', 'ABC'}\n"
     ]
    }
   ],
   "source": [
    "S1={1,2,3,4,6,\"ABC\"}\n",
    "S2={5,9,8,\"ZZ\"}\n",
    "print(S1)\n",
    "print(S2)\n",
    "print(S1.union(S2))\n",
    "print(S1|S2)"
   ]
  },
  {
   "cell_type": "code",
   "execution_count": 17,
   "id": "2c8cbaa7",
   "metadata": {},
   "outputs": [
    {
     "name": "stdout",
     "output_type": "stream",
     "text": [
      "{1, 2, 3, 4, 'ABC', 6}\n",
      "{3, 5, 8, 9, 'ZZ'}\n",
      "{3}\n",
      "{3}\n"
     ]
    }
   ],
   "source": [
    "S1={1,2,3,4,6,\"ABC\"}\n",
    "S2={5,9,3,8,\"ZZ\"}\n",
    "print(S1)\n",
    "print(S2)\n",
    "print(S1.intersection(S2))\n",
    "print(S1&S2)"
   ]
  },
  {
   "cell_type": "code",
   "execution_count": 22,
   "id": "eb5daee4",
   "metadata": {},
   "outputs": [
    {
     "name": "stdout",
     "output_type": "stream",
     "text": [
      "{1, 2, 3, 4, 'ABC', 6}\n",
      "{3, 5, 8, 9, 'ZZ'}\n",
      "{1, 2, 4, 6, 'ABC'}\n",
      "{1, 2, 4, 6, 'ABC'}\n"
     ]
    }
   ],
   "source": [
    "S1={1,2,3,4,6,\"ABC\"}\n",
    "S2={5,9,3,8,\"ZZ\"}\n",
    "print(S1)\n",
    "print(S2)\n",
    "print(S1.difference(S2))\n",
    "print(S1-S2)"
   ]
  },
  {
   "cell_type": "code",
   "execution_count": 21,
   "id": "3db183cd",
   "metadata": {},
   "outputs": [
    {
     "name": "stdout",
     "output_type": "stream",
     "text": [
      "{'Wednesday', 'Thursday', 'Monday', 'Tuesday'}\n",
      "{'Wednesday', 'Monday'}\n",
      "False\n",
      "True\n",
      "False\n"
     ]
    }
   ],
   "source": [
    "S1={\"Monday\",\"Tuesday\",\"Wednesday\",\"Thursday\"}\n",
    "S2={\"Monday\",\"Wednesday\"}\n",
    "print(S1)\n",
    "print(S2)\n",
    "print(S1<S2)\n",
    "print(S1>S2)\n",
    "print(S1==S2)"
   ]
  },
  {
   "cell_type": "code",
   "execution_count": null,
   "id": "9b9e72c1",
   "metadata": {},
   "outputs": [],
   "source": []
  }
 ],
 "metadata": {
  "kernelspec": {
   "display_name": "Python 3 (ipykernel)",
   "language": "python",
   "name": "python3"
  },
  "language_info": {
   "codemirror_mode": {
    "name": "ipython",
    "version": 3
   },
   "file_extension": ".py",
   "mimetype": "text/x-python",
   "name": "python",
   "nbconvert_exporter": "python",
   "pygments_lexer": "ipython3",
   "version": "3.9.12"
  }
 },
 "nbformat": 4,
 "nbformat_minor": 5
}
