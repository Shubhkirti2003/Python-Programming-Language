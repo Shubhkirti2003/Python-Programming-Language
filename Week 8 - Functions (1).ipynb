{
 "cells": [
  {
   "cell_type": "code",
   "execution_count": 1,
   "id": "e4e2664e",
   "metadata": {},
   "outputs": [
    {
     "name": "stdout",
     "output_type": "stream",
     "text": [
      "Calculating the numbers\n",
      "Enter the number: 5\n",
      "Enter the number: 6\n",
      "Enter the number: 4\n",
      "15\n"
     ]
    }
   ],
   "source": [
    "def func():\n",
    "    a=int(input(\"Enter the number: \"))\n",
    "    b=int(input(\"Enter the number: \"))\n",
    "    c=int(input(\"Enter the number: \"))\n",
    "    d=a+b+c\n",
    "    print(d)\n",
    "\n",
    "print('Calculating the numbers')\n",
    "func();"
   ]
  },
  {
   "cell_type": "code",
   "execution_count": 2,
   "id": "1f9550a5",
   "metadata": {},
   "outputs": [
    {
     "name": "stdout",
     "output_type": "stream",
     "text": [
      "Enter the number: 8\n",
      "Enter the number: 6\n",
      "Enter the number: 5\n",
      "Calculating the numbers\n",
      "19\n"
     ]
    }
   ],
   "source": [
    "def func(e,f,g):\n",
    "    d=e+f+g\n",
    "    print(d)\n",
    "\n",
    "a=int(input(\"Enter the number: \"))\n",
    "b=int(input(\"Enter the number: \"))\n",
    "c=int(input(\"Enter the number: \"))\n",
    "print('Calculating the numbers')\n",
    "func(a,b,c);"
   ]
  },
  {
   "cell_type": "code",
   "execution_count": 3,
   "id": "b1309b63",
   "metadata": {},
   "outputs": [
    {
     "name": "stdout",
     "output_type": "stream",
     "text": [
      "Enter the number: 7\n",
      "Enter the number: 8\n",
      "Enter the number: 9\n",
      "Calculating the numbers\n",
      "24\n"
     ]
    }
   ],
   "source": [
    "def func(e,f,g):\n",
    "    d=e+f+g\n",
    "    return d\n",
    "\n",
    "a=int(input(\"Enter the number: \"))\n",
    "b=int(input(\"Enter the number: \"))\n",
    "c=int(input(\"Enter the number: \"))\n",
    "print('Calculating the numbers')\n",
    "print(func(a,b,c))"
   ]
  },
  {
   "cell_type": "code",
   "execution_count": 4,
   "id": "4b858a99",
   "metadata": {},
   "outputs": [
    {
     "name": "stdout",
     "output_type": "stream",
     "text": [
      "Calculating the numbers\n",
      "Enter the number: 8\n",
      "Enter the number: 9\n",
      "Enter the number: 4\n",
      "21\n"
     ]
    }
   ],
   "source": [
    "def func():\n",
    "    a=int(input(\"Enter the number: \"))\n",
    "    b=int(input(\"Enter the number: \"))\n",
    "    c=int(input(\"Enter the number: \"))\n",
    "    d=a+b+c\n",
    "    return d\n",
    "\n",
    "\n",
    "print('Calculating the numbers')\n",
    "print(func())"
   ]
  },
  {
   "cell_type": "code",
   "execution_count": 6,
   "id": "23db752f",
   "metadata": {},
   "outputs": [
    {
     "name": "stdout",
     "output_type": "stream",
     "text": [
      "Enter the principle amount: 8000\n",
      "Enter the rate: 5\n",
      "Enter the time(in months): 3\n",
      "1200.0\n"
     ]
    }
   ],
   "source": [
    "def simple(a,b,c):\n",
    "    sint=a*b*c/100\n",
    "    return sint\n",
    "\n",
    "p=int(input(\"Enter the principle amount: \"))\n",
    "r=int(input(\"Enter the rate: \"))\n",
    "t=int(input(\"Enter the time(in months): \"))\n",
    "print(simple(p,r,t))"
   ]
  },
  {
   "cell_type": "code",
   "execution_count": 7,
   "id": "5b6dd4c9",
   "metadata": {},
   "outputs": [
    {
     "name": "stdout",
     "output_type": "stream",
     "text": [
      "Enter a number: 9\n",
      "362880\n"
     ]
    }
   ],
   "source": [
    "def factfunc(a):\n",
    "    if a==0 or a==1:\n",
    "        return 1\n",
    "    else:\n",
    "        return a*factfunc(a-1)\n",
    "a1=int(input('Enter a number: '))\n",
    "c=factfunc(a1)\n",
    "print(c)"
   ]
  },
  {
   "cell_type": "code",
   "execution_count": 9,
   "id": "2abba76a",
   "metadata": {},
   "outputs": [
    {
     "name": "stdout",
     "output_type": "stream",
     "text": [
      "Enter the principle amount: 8000\n",
      "Enter the rate: 5\n",
      "Enter the time(in months): 2\n",
      "number of times interest is compounded per time period: 5\n",
      "3.105848208344209e+40\n"
     ]
    }
   ],
   "source": [
    "def compound(a,b,c,d):\n",
    "    s=a*(1+c/d)\n",
    "    cint=s**(d*c)\n",
    "    return cint\n",
    "\n",
    "p=int(input(\"Enter the principle amount: \"))\n",
    "r=int(input(\"Enter the rate: \"))\n",
    "t=int(input(\"Enter the time(in months): \"))\n",
    "n=int(input(\"number of times interest is compounded per time period: \"))\n",
    "print(compound(p,r,t,n))"
   ]
  },
  {
   "cell_type": "code",
   "execution_count": null,
   "id": "70ab81fc",
   "metadata": {},
   "outputs": [],
   "source": []
  }
 ],
 "metadata": {
  "kernelspec": {
   "display_name": "Python 3 (ipykernel)",
   "language": "python",
   "name": "python3"
  },
  "language_info": {
   "codemirror_mode": {
    "name": "ipython",
    "version": 3
   },
   "file_extension": ".py",
   "mimetype": "text/x-python",
   "name": "python",
   "nbconvert_exporter": "python",
   "pygments_lexer": "ipython3",
   "version": "3.9.12"
  }
 },
 "nbformat": 4,
 "nbformat_minor": 5
}
