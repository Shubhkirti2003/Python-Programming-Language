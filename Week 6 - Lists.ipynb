{
 "cells": [
  {
   "cell_type": "code",
   "execution_count": 1,
   "id": "073543b5",
   "metadata": {},
   "outputs": [
    {
     "name": "stdout",
     "output_type": "stream",
     "text": [
      "[1, 'ABC', 2.0]\n",
      "<class 'list'>\n"
     ]
    }
   ],
   "source": [
    "l=[1,\"ABC\",2.0]\n",
    "print(l)\n",
    "print(type(l))"
   ]
  },
  {
   "cell_type": "code",
   "execution_count": 2,
   "id": "5eb978e3",
   "metadata": {},
   "outputs": [
    {
     "name": "stdout",
     "output_type": "stream",
     "text": [
      "False\n",
      "False\n",
      "True\n"
     ]
    }
   ],
   "source": [
    "L1=[2,5,'ABC',8.9,3]\n",
    "L2=[2,5,'ABC',8,3.4]\n",
    "L3=[5,3,'ABC',8.9,2]\n",
    "L4=[2,5,'ABC',8.9,3]\n",
    "print(L1==L2)\n",
    "print(L1==L3)\n",
    "print(L1==L4)"
   ]
  },
  {
   "cell_type": "code",
   "execution_count": 3,
   "id": "f8715fc0",
   "metadata": {},
   "outputs": [
    {
     "name": "stdout",
     "output_type": "stream",
     "text": [
      "[2, 3, 4, 5]\n",
      "[0, 2, 4]\n",
      "[]\n",
      "[]\n",
      "[4, 6]\n",
      "[5, 4, 3, 2]\n"
     ]
    }
   ],
   "source": [
    "L1=[0,1,2,3,4,5,6]\n",
    "print(L1[2:6])\n",
    "print(L1[0:5:2])\n",
    "print(L1[0:6:-2])\n",
    "print(L1[-1:-6])\n",
    "print(L1[-3::2])\n",
    "print(L1[-2:-6:-1])\n"
   ]
  },
  {
   "cell_type": "code",
   "execution_count": 4,
   "id": "f5a3179f",
   "metadata": {},
   "outputs": [
    {
     "name": "stdout",
     "output_type": "stream",
     "text": [
      "[0, 1, [10], 3]\n",
      "[0, 39, 89, 3]\n",
      "[0, 39, 89, 25]\n"
     ]
    }
   ],
   "source": [
    "L1=[0,1,2,3]\n",
    "L1[2]=[10]\n",
    "print(L1)\n",
    "L1[1:3]=[39,89]\n",
    "print(L1)\n",
    "L1[-1]=25\n",
    "print(L1)"
   ]
  },
  {
   "cell_type": "code",
   "execution_count": 5,
   "id": "121bbaeb",
   "metadata": {},
   "outputs": [
    {
     "name": "stdout",
     "output_type": "stream",
     "text": [
      "['Apple', 'Orange', 'Banana']\n"
     ]
    }
   ],
   "source": [
    "L1=[\"Apple\",\"Banana\"]\n",
    "L1.insert(1,\"Orange\")\n",
    "print(L1)"
   ]
  },
  {
   "cell_type": "code",
   "execution_count": 6,
   "id": "b9b626ed",
   "metadata": {},
   "outputs": [
    {
     "name": "stdout",
     "output_type": "stream",
     "text": [
      "['Apple', 'Banana', 'Orange']\n"
     ]
    }
   ],
   "source": [
    "L1=[\"Apple\",\"Banana\"]\n",
    "L1.append(\"Orange\")\n",
    "print(L1)"
   ]
  },
  {
   "cell_type": "code",
   "execution_count": 7,
   "id": "d57430f8",
   "metadata": {},
   "outputs": [
    {
     "name": "stdout",
     "output_type": "stream",
     "text": [
      "['Apple', 'Banana']\n",
      "['Cherry', 'Pineapple', 'Apple', 'Banana']\n"
     ]
    }
   ],
   "source": [
    "L1=[\"Apple\",\"Banana\"]\n",
    "L2=[\"Cherry\",\"Pineapple\"]\n",
    "L2.extend(L1)\n",
    "print(L1)\n",
    "print(L2)"
   ]
  },
  {
   "cell_type": "code",
   "execution_count": 8,
   "id": "29f77cbb",
   "metadata": {},
   "outputs": [
    {
     "name": "stdout",
     "output_type": "stream",
     "text": [
      "3\n",
      "[1, 'ABC', 2.0]\n"
     ]
    }
   ],
   "source": [
    "l=[1,\"ABC\",2.0]\n",
    "print(len(l))\n",
    "print(l)"
   ]
  },
  {
   "cell_type": "code",
   "execution_count": 9,
   "id": "05b04ede",
   "metadata": {},
   "outputs": [
    {
     "name": "stdout",
     "output_type": "stream",
     "text": [
      "['Banana']\n"
     ]
    }
   ],
   "source": [
    "L1=[\"Apple\",\"Banana\"]\n",
    "L1.remove(\"Apple\")\n",
    "print(L1)"
   ]
  },
  {
   "cell_type": "code",
   "execution_count": 10,
   "id": "bc0d3489",
   "metadata": {},
   "outputs": [
    {
     "name": "stdout",
     "output_type": "stream",
     "text": [
      "['Apple']\n"
     ]
    }
   ],
   "source": [
    "L1=[\"Apple\",\"Banana\"]\n",
    "L1.pop(1)\n",
    "print(L1)"
   ]
  },
  {
   "cell_type": "code",
   "execution_count": 11,
   "id": "7e0ce6b7",
   "metadata": {},
   "outputs": [
    {
     "ename": "NameError",
     "evalue": "name 'L1' is not defined",
     "output_type": "error",
     "traceback": [
      "\u001b[1;31m---------------------------------------------------------------------------\u001b[0m",
      "\u001b[1;31mNameError\u001b[0m                                 Traceback (most recent call last)",
      "Input \u001b[1;32mIn [11]\u001b[0m, in \u001b[0;36m<cell line: 3>\u001b[1;34m()\u001b[0m\n\u001b[0;32m      1\u001b[0m L1\u001b[38;5;241m=\u001b[39m[\u001b[38;5;124m\"\u001b[39m\u001b[38;5;124mApple\u001b[39m\u001b[38;5;124m\"\u001b[39m,\u001b[38;5;124m\"\u001b[39m\u001b[38;5;124mBanana\u001b[39m\u001b[38;5;124m\"\u001b[39m]\n\u001b[0;32m      2\u001b[0m \u001b[38;5;28;01mdel\u001b[39;00m L1\n\u001b[1;32m----> 3\u001b[0m \u001b[38;5;28mprint\u001b[39m(\u001b[43mL1\u001b[49m)\n",
      "\u001b[1;31mNameError\u001b[0m: name 'L1' is not defined"
     ]
    }
   ],
   "source": [
    "L1=[\"Apple\",\"Banana\"]\n",
    "del L1\n",
    "print(L1)"
   ]
  },
  {
   "cell_type": "code",
   "execution_count": 12,
   "id": "26e6330a",
   "metadata": {},
   "outputs": [
    {
     "name": "stdout",
     "output_type": "stream",
     "text": [
      "[]\n"
     ]
    }
   ],
   "source": [
    "L1=[\"Apple\",\"Banana\"]\n",
    "L1.clear()\n",
    "print(L1)"
   ]
  },
  {
   "cell_type": "code",
   "execution_count": 13,
   "id": "eb723f8d",
   "metadata": {},
   "outputs": [
    {
     "name": "stdout",
     "output_type": "stream",
     "text": [
      "[2, 5, 'ABC', 8.9, 3, 2, 5, 'ABC', 8, 3.4]\n",
      "[2, 5, 'ABC', 8, 3.4, 2, 5, 'ABC', 8.9, 3]\n"
     ]
    }
   ],
   "source": [
    "L1=[2,5,'ABC',8.9,3]\n",
    "L2=[2,5,'ABC',8,3.4]\n",
    "print(L1+L2)\n",
    "print(L2+L1)"
   ]
  },
  {
   "cell_type": "code",
   "execution_count": 14,
   "id": "e0534668",
   "metadata": {},
   "outputs": [
    {
     "name": "stdout",
     "output_type": "stream",
     "text": [
      "[2, 5, 'ABC', 8.9, 3, 2, 5, 'ABC', 8.9, 3, 2, 5, 'ABC', 8.9, 3]\n"
     ]
    }
   ],
   "source": [
    "L1=[2,5,'ABC',8.9,3]\n",
    "print(L1*3)"
   ]
  },
  {
   "cell_type": "code",
   "execution_count": 15,
   "id": "9422c9bc",
   "metadata": {},
   "outputs": [
    {
     "name": "stdout",
     "output_type": "stream",
     "text": [
      "True\n",
      "False\n"
     ]
    }
   ],
   "source": [
    "L1=[2,5,'ABC',8.9,3]\n",
    "print(2 in L1)\n",
    "print(10 in L1)"
   ]
  },
  {
   "cell_type": "code",
   "execution_count": 16,
   "id": "0d02100a",
   "metadata": {},
   "outputs": [
    {
     "name": "stdout",
     "output_type": "stream",
     "text": [
      "False\n",
      "True\n"
     ]
    }
   ],
   "source": [
    "L1=[2,5,'ABC',8.9,3]\n",
    "print(2 not in L1)\n",
    "print(10 not in L1)"
   ]
  },
  {
   "cell_type": "code",
   "execution_count": 17,
   "id": "22bae156",
   "metadata": {},
   "outputs": [
    {
     "name": "stdout",
     "output_type": "stream",
     "text": [
      "2\n",
      "5\n",
      "ABC\n",
      "8.9\n",
      "3\n"
     ]
    }
   ],
   "source": [
    "L1=[2,5,'ABC',8.9,3]\n",
    "for i in L1:\n",
    "    print(i)"
   ]
  },
  {
   "cell_type": "code",
   "execution_count": 18,
   "id": "68e417a9",
   "metadata": {},
   "outputs": [
    {
     "name": "stdout",
     "output_type": "stream",
     "text": [
      "2 5 ABC 8.9 3 "
     ]
    }
   ],
   "source": [
    "L1=[2,5,'ABC',8.9,3]\n",
    "for i in L1:\n",
    "    print(i,end=\" \")"
   ]
  },
  {
   "cell_type": "code",
   "execution_count": 19,
   "id": "5770d788",
   "metadata": {},
   "outputs": [
    {
     "name": "stdout",
     "output_type": "stream",
     "text": [
      "['Banana', 'Cherry', 'Kiwi', 'Pineapple']\n",
      "['Pineapple', 'Kiwi', 'Cherry', 'Banana']\n"
     ]
    }
   ],
   "source": [
    "L1=[\"Banana\",\"Kiwi\",\"Pineapple\",\"Cherry\"]\n",
    "L1.sort()\n",
    "print(L1)\n",
    "L1.sort(reverse=True)\n",
    "print(L1)"
   ]
  },
  {
   "cell_type": "code",
   "execution_count": 20,
   "id": "d50903d0",
   "metadata": {},
   "outputs": [
    {
     "name": "stdout",
     "output_type": "stream",
     "text": [
      "['Cherry', 'Pineapple', 'Kiwi', 'Banana']\n"
     ]
    }
   ],
   "source": [
    "L1=[\"Banana\",\"Kiwi\",\"Pineapple\",\"Cherry\"]\n",
    "L1.reverse()\n",
    "print(L1)"
   ]
  },
  {
   "cell_type": "code",
   "execution_count": 21,
   "id": "d5798924",
   "metadata": {},
   "outputs": [
    {
     "name": "stdout",
     "output_type": "stream",
     "text": [
      "[10, 2, 8, 3, 1, 0]\n"
     ]
    }
   ],
   "source": [
    "#Create a list with 5 elements, reverse them by two ways through reverse and slicing.\n",
    "L1=[0,1,3,8,2,10]\n",
    "L1.reverse()\n",
    "print(L1)"
   ]
  },
  {
   "cell_type": "code",
   "execution_count": 22,
   "id": "95e9815f",
   "metadata": {},
   "outputs": [
    {
     "name": "stdout",
     "output_type": "stream",
     "text": [
      "[10, 2, 8, 3, 1, 0]\n"
     ]
    }
   ],
   "source": [
    "#Create a list with 5 elements, reverse them by two ways through reverse and slicing.\n",
    "L1=[0,1,3,8,2,10]\n",
    "print(L1[: : -1])"
   ]
  },
  {
   "cell_type": "code",
   "execution_count": 24,
   "id": "0af96f68",
   "metadata": {},
   "outputs": [
    {
     "name": "stdout",
     "output_type": "stream",
     "text": [
      "[0, 1, 9, 64, 4, 100]\n"
     ]
    }
   ],
   "source": [
    "#WAP to turn every item of a lsit into square\n",
    "L1=[0,1,3,8,2,10]\n",
    "L2=[]\n",
    "for i in L1:\n",
    "    i=i**2\n",
    "    L2.append(i)\n",
    "print(L2)\n",
    "    "
   ]
  },
  {
   "cell_type": "code",
   "execution_count": null,
   "id": "ac94d27a",
   "metadata": {},
   "outputs": [],
   "source": []
  },
  {
   "cell_type": "code",
   "execution_count": null,
   "id": "e4f6459c",
   "metadata": {},
   "outputs": [],
   "source": []
  }
 ],
 "metadata": {
  "kernelspec": {
   "display_name": "Python 3 (ipykernel)",
   "language": "python",
   "name": "python3"
  },
  "language_info": {
   "codemirror_mode": {
    "name": "ipython",
    "version": 3
   },
   "file_extension": ".py",
   "mimetype": "text/x-python",
   "name": "python",
   "nbconvert_exporter": "python",
   "pygments_lexer": "ipython3",
   "version": "3.9.12"
  }
 },
 "nbformat": 4,
 "nbformat_minor": 5
}
