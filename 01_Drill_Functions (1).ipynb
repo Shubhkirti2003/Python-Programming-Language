{
 "cells": [
  {
   "cell_type": "markdown",
   "metadata": {},
   "source": [
    "# Exercises:"
   ]
  },
  {
   "cell_type": "markdown",
   "metadata": {},
   "source": [
    "## Question 1"
   ]
  },
  {
   "cell_type": "markdown",
   "metadata": {},
   "source": [
    "**Write a python program to print all *factors of a number*.**"
   ]
  },
  {
   "cell_type": "code",
   "execution_count": 1,
   "metadata": {},
   "outputs": [
    {
     "name": "stdout",
     "output_type": "stream",
     "text": [
      "Enter a number:5\n",
      "The factors of 5 are:\n",
      "1\n",
      "5\n"
     ]
    }
   ],
   "source": [
    "def print_factors(x):\n",
    "   print(\"The factors of\",x,\"are:\")\n",
    "   for i in range(1, x + 1):\n",
    "       if x % i == 0:\n",
    "           print(i)\n",
    "\n",
    "num = int(input(\"Enter a number:\"))\n",
    "\n",
    "print_factors(num)"
   ]
  },
  {
   "cell_type": "markdown",
   "metadata": {},
   "source": [
    "## Question 2"
   ]
  },
  {
   "cell_type": "markdown",
   "metadata": {},
   "source": [
    "**Write a python program to find the *LCM* of two numbers.**"
   ]
  },
  {
   "cell_type": "code",
   "execution_count": 3,
   "metadata": {},
   "outputs": [
    {
     "name": "stdout",
     "output_type": "stream",
     "text": [
      " Enter a number : 6\n",
      " Enter another number : 3\n",
      "LCM of  6 and  3 is 6\n"
     ]
    }
   ],
   "source": [
    "def findlcm(a, b):\n",
    "    if(a > b):\n",
    "        maximum = a\n",
    "    else:\n",
    "        maximum = b\n",
    "\n",
    "    while(True):\n",
    "        if(maximum % a == 0 and maximum % b == 0):\n",
    "            lcm = maximum;\n",
    "            break;\n",
    "        maximum = maximum + 1\n",
    "    return lcm\n",
    "\n",
    "x = int(input(\" Enter a number : \"))\n",
    "y = int(input(\" Enter another number : \"))\n",
    "lcm = findlcm(x, y)\n",
    "print(\"LCM of \",x,\"and \",y,\"is\",lcm)"
   ]
  },
  {
   "cell_type": "markdown",
   "metadata": {},
   "source": [
    "## Question 3"
   ]
  },
  {
   "cell_type": "markdown",
   "metadata": {},
   "source": [
    "**Write a program to create a calculator that performs *addition, subtraction, multiplication and division operations* on two numbers.**"
   ]
  },
  {
   "cell_type": "code",
   "execution_count": 4,
   "metadata": {},
   "outputs": [
    {
     "name": "stdout",
     "output_type": "stream",
     "text": [
      "Which operation would u like to perform ?\n",
      " 1. Add\n",
      " 2. Subtract\n",
      " 3. Multiply\n",
      " 4. Divide\n",
      "3\n",
      " Enter a number : 5\n",
      " Enter another number : 6\n",
      "5 * 6 = 30\n"
     ]
    }
   ],
   "source": [
    "def add(x, y):\n",
    "    return x + y\n",
    "\n",
    "def subtract(x, y):\n",
    "    return x - y\n",
    "\n",
    "\n",
    "def multiply(x, y):\n",
    "    return x * y\n",
    "\n",
    "\n",
    "def divide(x, y):\n",
    "    return x / y\n",
    "\n",
    "choice = input(\"Which operation would u like to perform ?\\n 1. Add\\n 2. Subtract\\n 3. Multiply\\n 4. Divide\\n\")\n",
    "num1 = int(input(\" Enter a number : \"))\n",
    "num2 = int(input(\" Enter another number : \"))\n",
    "\n",
    "if choice == '1':\n",
    "    print(num1, \"+\", num2, \"=\", add(num1, num2))\n",
    "\n",
    "elif choice == '2':\n",
    "        print(num1, \"-\", num2, \"=\", subtract(num1, num2))\n",
    "\n",
    "elif choice == '3':\n",
    "        print(num1, \"*\", num2, \"=\", multiply(num1, num2))\n",
    "\n",
    "elif choice == '4':\n",
    "        print(num1, \"/\", num2, \"=\", divide(num1, num2))\n",
    "    \n",
    "else:\n",
    "    print(\"Invalid Input\")"
   ]
  },
  {
   "cell_type": "markdown",
   "metadata": {},
   "source": [
    "# Recursion"
   ]
  },
  {
   "cell_type": "markdown",
   "metadata": {},
   "source": [
    "## Question 4"
   ]
  },
  {
   "cell_type": "markdown",
   "metadata": {},
   "source": [
    "**Write a recursive program to calculate *factorial* of a number.**"
   ]
  },
  {
   "cell_type": "code",
   "execution_count": 1,
   "metadata": {},
   "outputs": [
    {
     "name": "stdout",
     "output_type": "stream",
     "text": [
      "Enter a number:5\n",
      "Factorial of the given number is  120\n"
     ]
    }
   ],
   "source": [
    "def factorial(n): \n",
    "      \n",
    "    if (n==0 or n==1):\n",
    "        return 1\n",
    "      \n",
    "    else: \n",
    "        return (n * factorial(n - 1)) \n",
    "\n",
    "num=int(input(\"Enter a number:\"))\n",
    "print(\"Factorial of the given number is \",factorial(num))"
   ]
  },
  {
   "cell_type": "markdown",
   "metadata": {},
   "source": [
    "## Question 5"
   ]
  },
  {
   "cell_type": "markdown",
   "metadata": {},
   "source": [
    "**Write a recursive program to calculate *sum of natural numbers* upto a number.**"
   ]
  },
  {
   "cell_type": "code",
   "execution_count": 2,
   "metadata": {},
   "outputs": [
    {
     "name": "stdout",
     "output_type": "stream",
     "text": [
      "Enter any Number: 5\n",
      "Sum of Natural Numbers from 1 to 5 = 15\n"
     ]
    }
   ],
   "source": [
    "def sum_numbers(n):\n",
    "    if(n==1):\n",
    "        return n\n",
    "    else:\n",
    "        return (n + sum_numbers(n - 1))\n",
    "     \n",
    "number = int(input(\"Enter any Number: \"))\n",
    " \n",
    "Sum = sum_numbers(number)\n",
    " \n",
    "print(\"Sum of Natural Numbers from 1 to\",number,\"=\",Sum)\n"
   ]
  },
  {
   "cell_type": "markdown",
   "metadata": {},
   "source": [
    "## Question 6"
   ]
  },
  {
   "cell_type": "raw",
   "metadata": {},
   "source": [
    "pi can be computed using the following series:\n",
    "\n",
    "m(i)=4(1-1/3+1/5-1/7+1/9-1/11+ ... + (-1)^(i+1)/(2i-1))\n",
    "\n",
    "Write a function that returns m(i) for a given i.\n",
    "\n",
    "For Example,\n",
    "          i                   m(i)\n",
    "         1                   4.0000\n",
    "         101                 3.1515\n",
    "         201                 3.1466\n",
    "         301                 3.1449\n",
    "         401                 3.1441\n",
    "         501                 3.1436\n",
    "         601                 3.1433\n",
    "         701                 3.1430\n",
    "         801                 3.1428\n",
    "         901                 3.1427"
   ]
  },
  {
   "cell_type": "code",
   "execution_count": 4,
   "metadata": {},
   "outputs": [
    {
     "name": "stdout",
     "output_type": "stream",
     "text": [
      "Enter the value for i:6\n",
      "The value for m(i) is:  2.9760461760461765\n"
     ]
    }
   ],
   "source": [
    "def m(i):\n",
    "    pi = 0\n",
    "    sign = 1\n",
    "    for i in range(1, i + 1, 1):\n",
    "        pi += sign / (2 * i - 1) \n",
    "        sign = -1 * sign\n",
    "\n",
    "    return 4 * pi\n",
    "\n",
    "val=int(input(\"Enter the value for i:\"))\n",
    "print(\"The value for m(i) is: \",m(val))"
   ]
  },
  {
   "cell_type": "markdown",
   "metadata": {},
   "source": [
    "## Question 7"
   ]
  },
  {
   "cell_type": "raw",
   "metadata": {},
   "source": [
    "A palindromic prime is a prime number that is also palindromic. For example, 131 is a prime and also a palindromic prime, as are 313 and 757. Write a program that displays the first 100 palindromic prime numbers. Display 10 numbers per line:\n",
    "\n",
    "              2     3     5     7    11   101   131   151   181   191\n",
    "            313   353   373   383   727   757   787   797   919   929"
   ]
  },
  {
   "cell_type": "code",
   "execution_count": 5,
   "metadata": {},
   "outputs": [],
   "source": [
    "def palindromic(n):\n",
    "    a=0\n",
    "    b=100\n",
    "    a+=1\n",
    "    for i in range(a,b):\n",
    "        palindromic=True\n",
    "        if str(i) == str(i)[::-1]:\n",
    "            if i>2:\n",
    "                for a in range(2,i):\n",
    "                    if i%a==0:\n",
    "                        palindromic=False\n",
    "                        break\n",
    "                if palindromic:\n",
    "                    print (i)"
   ]
  },
  {
   "cell_type": "code",
   "execution_count": 6,
   "metadata": {},
   "outputs": [
    {
     "name": "stdout",
     "output_type": "stream",
     "text": [
      " Please Enter the Minimum Value : 5\n",
      " Please Enter the Maximum Value : 15\n",
      "Palindrome Numbers between 5 and 15 are : \n",
      "5   6   7   8   9   11   "
     ]
    }
   ],
   "source": [
    "\n",
    "minimum = int(input(\" Please Enter the Minimum Value : \"))\n",
    "maximum = int(input(\" Please Enter the Maximum Value : \"))\n",
    "\n",
    "print(\"Palindrome Numbers between %d and %d are : \" %(minimum, maximum))\n",
    "for num in range(minimum, maximum + 1):\n",
    "    temp = num\n",
    "    reverse = 0\n",
    "    \n",
    "    while(temp > 0):\n",
    "        Reminder = temp % 10\n",
    "        reverse = (reverse * 10) + Reminder\n",
    "        temp = temp //10\n",
    "\n",
    "    if(num == reverse):\n",
    "        print(\"%d \" %num, end = '  ')"
   ]
  },
  {
   "cell_type": "markdown",
   "metadata": {},
   "source": [
    "## Question 8"
   ]
  },
  {
   "cell_type": "markdown",
   "metadata": {},
   "source": [
    "**Craps is a popular dice game played in casinos.**\n",
    "\n",
    "**Write a program to play a variation of the game, as follows:**\n",
    "\n",
    "Roll two dices. Each die has six faces representing values 1, 2, ..., and 6, respectively. Check the sum of the two dice. If the sum is 2, 3, or 12 (called craps), you lose; if the sum is 7 or 11 (called natural), you win; if the sum is another value (i.e., 4, 5, 6, 8, 9, or 10), a point is established. Continue to roll the dice until either a 7 or the same point value is rolled. If 7 is rolled, you lose. Otherwise, you win.\n",
    "\n",
    "**Your program acts as a single player. Here are some sample runs.**\n",
    "\n",
    "**You rolled 5 + 6 = 11**\n",
    "**You win**\n",
    "\n",
    "**You rolled 1 + 2 = 3\n",
    "You lose**\n",
    "     \n",
    "**You rolled 4 + 4 = 8\n",
    "point is 8\n",
    "You rolled 6 + 2 = 8\n",
    "You win**\n",
    "       \n",
    "**You rolled 3 + 2 = 5\n",
    "point is 5\n",
    "You rolled 2 + 5 = 7\n",
    "You lose**"
   ]
  },
  {
   "cell_type": "code",
   "execution_count": 7,
   "metadata": {},
   "outputs": [
    {
     "name": "stdout",
     "output_type": "stream",
     "text": [
      "TO START THE GAME TYPE 'yes' and TO QUIT TYPE 'no'\n",
      "yes\n",
      "LET'S START THE GAME\n",
      "welcome to the game of chance,are you ready to test your fortune ,\n",
      "do you need instructions type (yes) or (no) \n",
      "yes\n",
      " 1. player rolls two six-sided dice and adds the numbers rolled together.\n",
      "              2. On this first roll, a 7 or an 11 automatically wins, and a 2, 3, or 12automatically loses, and play is over.\n",
      "                 If a 4, 5, 6, 8, 9, or 10 are rolled on this first roll, that number becomes the 'point.'\n",
      "              3. The player continues to roll the two dice again until one of two things happens:\n",
      "                 either they roll the 'point' again, in which case they win; or they roll a 7, in which case they lose.\n",
      "press enter to roll the dice \n",
      "player- the sum of numbers you have got in die 1 and die 2 are 4 + 4 = 8\n",
      "good game, your current point is 8\n",
      "press enter to roll the dice \n",
      "player- the sum of numbers you have got in die 1 and die 2 are 2 + 5 = 7\n"
     ]
    }
   ],
   "source": [
    "import random     \n",
    "import sys\n",
    " \n",
    "a = input(\"TO START THE GAME TYPE 'yes' and TO QUIT TYPE 'no'\\n\")\n",
    "if a.lower() == \"no\":\n",
    "    sys.exit()\n",
    "else:\n",
    "    print(\"LET'S START THE GAME\")\n",
    " \n",
    "     \n",
    "a = input(\"welcome to the game of chance,are you ready to test your fortune ,\\ndo you need instructions type (yes) or (no) \\n\")\n",
    " \n",
    "if a.lower() == \"yes\":\n",
    "    print(''' 1. player rolls two six-sided dice and adds the numbers rolled together.\n",
    "              2. On this first roll, a 7 or an 11 automatically wins, and a 2, 3, or 12automatically loses, and play is over.\n",
    "                 If a 4, 5, 6, 8, 9, or 10 are rolled on this first roll, that number becomes the 'point.'\n",
    "              3. The player continues to roll the two dice again until one of two things happens:\n",
    "                 either they roll the 'point' again, in which case they win; or they roll a 7, in which case they lose.''')\n",
    " \n",
    "elif a.lower() == \"no\":\n",
    "    print(\"all the best, player\")\n",
    " \n",
    " \n",
    "def diceNumber():\n",
    "   \n",
    "    _ = input(\"press enter to roll the dice \")\n",
    "     \n",
    "    die1 = random.randrange(1, 7)\n",
    "    die2 = random.randrange(1, 7)\n",
    "     \n",
    "    return (die1, die2) \n",
    " \n",
    "def twoDice(dices):\n",
    "    die1, die2 = dices\n",
    "    print(\"player- the sum of numbers you have got in die 1 and die 2 are {} + {} = {}\".format(die1, die2, sum(dices)))\n",
    " \n",
    "\n",
    "value = diceNumber()\n",
    "twoDice(value)\n",
    " \n",
    "\n",
    "sum_of_dices = sum(value)\n",
    " \n",
    " \n",
    "# find if sum of dices is 7 or 11 to determine the result.\n",
    "if sum_of_dices in (7, 11):\n",
    "    result = \"congratulations you won\"\n",
    " \n",
    "# find if sum of dices is 2 , 3 , 12 to determine the result.\n",
    "elif sum_of_dices in (2, 3, 12):\n",
    "    result = \"you lost, \\ntry again next time\"\n",
    "     \n",
    "   \n",
    "else: \n",
    "    result = \"continue your game please\"\n",
    "    currentpoint = sum_of_dices\n",
    "    print(\"good game, your current point is\", currentpoint)\n",
    " \n",
    " \n",
    "\n",
    "while result == \"continue your game please\":\n",
    "    value = diceNumber()\n",
    "    twoDice(value)\n",
    "    sum_of_dices = sum(value)\n",
    "     \n",
    "    if sum_of_dices == currentpoint:\n",
    "        result = \"congratulations you won\"\n",
    "         \n",
    "    elif sum_of_dices == 7:\n",
    "        result = \"you lost,\\n try again next time\"\n",
    " \n",
    "if result == \"congratulations you won\":\n",
    "    print(\"congratulations,you won\")"
   ]
  },
  {
   "cell_type": "markdown",
   "metadata": {},
   "source": [
    "## Question 9"
   ]
  },
  {
   "cell_type": "markdown",
   "metadata": {},
   "source": [
    "**Write a function with the following header to format the integer with the specified width.**\n",
    "\n",
    "***def format(number, width):***\n",
    "\n",
    "**The function returns a string for the number with prefix 0s. The size of the string is the width. \n",
    "For example, *format(34, 4)* returns \"0034\" and *format(34, 5)* returns \"00034\".**\n",
    "\n",
    "**If the number is longer than the width, the function returns the string representation for the number. For example, *format(34, 1) returns \"34\".***\n",
    "\n",
    "**Write a program that prompts the user to enter a number and its width and displays a string returned from invoking *format(number, width).***"
   ]
  },
  {
   "cell_type": "code",
   "execution_count": 8,
   "metadata": {},
   "outputs": [
    {
     "name": "stdout",
     "output_type": "stream",
     "text": [
      "Enter an integer: 6\n",
      "Enter the width: 2\n",
      "The formatted number is 06\n"
     ]
    }
   ],
   "source": [
    "def format(number, width):\n",
    "    result = str(number)\n",
    "    for i in range(0, width - len(number)):\n",
    "        result = \"0\" + result\n",
    "    \n",
    "    return result\n",
    " \n",
    "def len(number):\n",
    "    size = 0\n",
    "    while number > 0:\n",
    "        size += 1\n",
    "        number = number // 10\n",
    "        \n",
    "    return size    \n",
    "    \n",
    "def main():\n",
    "    number = eval(input(\"Enter an integer: \"))\n",
    "    width = eval(input(\"Enter the width: \"))\n",
    "    print(\"The formatted number is\", format(number, width))\n",
    "\n",
    "main() # Call the main function"
   ]
  },
  {
   "cell_type": "markdown",
   "metadata": {},
   "source": [
    "## Question 10"
   ]
  },
  {
   "cell_type": "markdown",
   "metadata": {},
   "source": [
    "**Write a program that counts up the number of vowels contained in the string s. Valid vowels are: 'a', 'e', 'i', 'o', and 'u'.** \n",
    "\n",
    "**For example, if s = 'azcbobobegghakl', your program should print:**"
   ]
  },
  {
   "cell_type": "code",
   "execution_count": 1,
   "metadata": {},
   "outputs": [
    {
     "name": "stdout",
     "output_type": "stream",
     "text": [
      "Enter Stringazcbobobegghakl\n",
      "Number of vowels:  5\n",
      "5\n"
     ]
    }
   ],
   "source": [
    "def count_vowel():\n",
    "    cnt = 0\n",
    "    s=input(\"Enter String\")\n",
    "    s_len = len(s)\n",
    "    s_len = s_len - 1\n",
    "    while s_len >= 0:\n",
    "        if s[s_len] in ('aeiou'):\n",
    "            cnt += 1\n",
    "        s_len -= 1\n",
    "    print ('Number of vowels: ', str(cnt))\n",
    "    return cnt\n",
    "\n",
    "def main():\n",
    "    print(count_vowel())\n",
    "\n",
    "main()"
   ]
  },
  {
   "cell_type": "code",
   "execution_count": null,
   "metadata": {},
   "outputs": [],
   "source": []
  }
 ],
 "metadata": {
  "kernelspec": {
   "display_name": "Python 3 (ipykernel)",
   "language": "python",
   "name": "python3"
  },
  "language_info": {
   "codemirror_mode": {
    "name": "ipython",
    "version": 3
   },
   "file_extension": ".py",
   "mimetype": "text/x-python",
   "name": "python",
   "nbconvert_exporter": "python",
   "pygments_lexer": "ipython3",
   "version": "3.9.12"
  }
 },
 "nbformat": 4,
 "nbformat_minor": 2
}
