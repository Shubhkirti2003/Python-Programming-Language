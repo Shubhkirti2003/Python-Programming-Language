{
 "cells": [
  {
   "cell_type": "code",
   "execution_count": 1,
   "id": "ef5e6618",
   "metadata": {},
   "outputs": [
    {
     "name": "stdout",
     "output_type": "stream",
     "text": [
      "Enter a number: 10\n",
      "The number is even.\n"
     ]
    }
   ],
   "source": [
    "a=int(input(\"Enter a number: \"))\n",
    "if(a%2==0):\n",
    "    print(\"The number is even.\")\n",
    "if(a%2!=0):\n",
    "    print(\"The number is odd.\")  "
   ]
  },
  {
   "cell_type": "code",
   "execution_count": 2,
   "id": "95dfaf4d",
   "metadata": {},
   "outputs": [
    {
     "name": "stdout",
     "output_type": "stream",
     "text": [
      "Enter first number: 10\n",
      "Enter second number: 2\n",
      "Enter third number: 8\n",
      "10  is the greatest number.\n"
     ]
    }
   ],
   "source": [
    "a=int(input(\"Enter first number: \"))\n",
    "b=int(input(\"Enter second number: \"))\n",
    "c=int(input(\"Enter third number: \"))\n",
    "if(a>b and a>c):\n",
    "    print(a,' is the greatest number.')\n",
    "if(b>a and b>c):\n",
    "    print(b,' is the greatest number.')\n",
    "if(c>a and c>b):\n",
    "    print(c,' is the greatest number.')"
   ]
  },
  {
   "cell_type": "code",
   "execution_count": 3,
   "id": "d67db2e6",
   "metadata": {},
   "outputs": [
    {
     "name": "stdout",
     "output_type": "stream",
     "text": [
      "Enter your age: 12\n",
      "Not Eligible to vote.\n"
     ]
    }
   ],
   "source": [
    "age=int(input(\"Enter your age: \"))\n",
    "if(age>=18):\n",
    "    print(\"Eligible to vote.\")\n",
    "else:\n",
    "    print(\"Not Eligible to vote.\") "
   ]
  },
  {
   "cell_type": "code",
   "execution_count": 4,
   "id": "3315717e",
   "metadata": {},
   "outputs": [
    {
     "name": "stdout",
     "output_type": "stream",
     "text": [
      "Enter your percentage: 85\n",
      "Congrats! You scored Grade A+.\n"
     ]
    }
   ],
   "source": [
    "per=int(input('Enter your percentage: '))\n",
    "if(per>30 and per<=45):\n",
    "    print('Grade C.')\n",
    "elif(per>46 and per<=60):\n",
    "    print('Grade B.')\n",
    "elif(per>61 and per<=75):\n",
    "    print('Grade A.')\n",
    "elif(per>76):\n",
    "    print('Congrats! You scored Grade A+.')\n",
    "else:\n",
    "    print('Invalid percentage.')"
   ]
  },
  {
   "cell_type": "code",
   "execution_count": 5,
   "id": "a038b11a",
   "metadata": {},
   "outputs": [
    {
     "name": "stdout",
     "output_type": "stream",
     "text": [
      "Enter the number: 106\n",
      "6 is divisible by 3.\n"
     ]
    }
   ],
   "source": [
    "n=int(input('Enter the number: '))\n",
    "n1=n%10\n",
    "if(n1%3==0):\n",
    "    print(n1, \"is divisible by 3.\")\n",
    "else:\n",
    "    print(n1, \"is not divisible by 3.\")"
   ]
  },
  {
   "cell_type": "code",
   "execution_count": 7,
   "id": "b3266921",
   "metadata": {},
   "outputs": [
    {
     "name": "stdout",
     "output_type": "stream",
     "text": [
      "Enter the cost price of a bike: 75000\n",
      "You have to pay 15% road tax.\n"
     ]
    }
   ],
   "source": [
    "price=int(input('Enter the cost price of a bike: '))\n",
    "if(price>100000):\n",
    "    print('You have to pay 20% road tax.')\n",
    "elif(price<100000 and price>50000):\n",
    "    print('You have to pay 15% road tax.')\n",
    "elif(price<50000):\n",
    "    print('You have to pay 5% road tax.')\n",
    "else:\n",
    "    print('Invalid cost price.')"
   ]
  },
  {
   "cell_type": "code",
   "execution_count": 8,
   "id": "43403f6a",
   "metadata": {},
   "outputs": [
    {
     "name": "stdout",
     "output_type": "stream",
     "text": [
      "Enter age of first person: 12\n",
      "Enter age of second person: 80\n",
      "Enter age of third person: 55\n",
      "Enter age of fourth person: 22\n",
      "12  is the youngest one.\n"
     ]
    }
   ],
   "source": [
    "a=int(input(\"Enter age of first person: \"))\n",
    "b=int(input(\"Enter age of second person: \"))\n",
    "c=int(input(\"Enter age of third person: \"))\n",
    "d=int(input('Enter age of fourth person: '))\n",
    "if(a<b and a<c and a<d):\n",
    "    print(a,' is the youngest one.')\n",
    "elif(b<a and b<c and b<d):\n",
    "    print(b,' is the youngest one.')\n",
    "elif(c<a and c<b and c<d):\n",
    "    print(c,' is the youngest one.')\n",
    "else:\n",
    "    print('They all are of same age.')\n",
    "    "
   ]
  },
  {
   "cell_type": "code",
   "execution_count": null,
   "id": "53f0bd97",
   "metadata": {},
   "outputs": [],
   "source": []
  }
 ],
 "metadata": {
  "kernelspec": {
   "display_name": "Python 3 (ipykernel)",
   "language": "python",
   "name": "python3"
  },
  "language_info": {
   "codemirror_mode": {
    "name": "ipython",
    "version": 3
   },
   "file_extension": ".py",
   "mimetype": "text/x-python",
   "name": "python",
   "nbconvert_exporter": "python",
   "pygments_lexer": "ipython3",
   "version": "3.9.12"
  }
 },
 "nbformat": 4,
 "nbformat_minor": 5
}
