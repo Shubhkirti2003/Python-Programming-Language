{
 "cells": [
  {
   "cell_type": "markdown",
   "metadata": {},
   "source": [
    "# Encapsulation"
   ]
  },
  {
   "cell_type": "markdown",
   "metadata": {},
   "source": [
    "## Question 1"
   ]
  },
  {
   "cell_type": "markdown",
   "metadata": {},
   "source": [
    "**Write a Python class named Fan to represent a fan which we are setting the properties of fan such as fan speed, its color and radius and then getting it using getter method.** The class contains:<br>\n",
    "<br>\n",
    "Three constants named *SLOW, MEDIUM, and FAST* with the values 1, 2, and 3 to\n",
    "denote the fan speed.<br>\n",
    "A private int data field named *speed* that specifies the speed of the fan.<br>\n",
    "A private bool data field named *on* that specifies whether the fan is on (the\n",
    "default is False).<br>\n",
    "A private float data field named *radius* that specifies the radius of the fan.<br>\n",
    "A private string data field named *color* that specifies the color of the fan.<br>\n",
    "The accessor and mutator methods for all four data fields.<br>\n",
    "A constructor that creates a fan with the specified speed (default SLOW), radius\n",
    "(default 5), color (default blue), and on (default False)."
   ]
  },
  {
   "cell_type": "code",
   "execution_count": 7,
   "metadata": {},
   "outputs": [
    {
     "name": "stdout",
     "output_type": "stream",
     "text": [
      "speed 3 \n",
      " color yellow \n",
      " radius 10 \n",
      " fan is on\n",
      "speed 2 \n",
      " color blue \n",
      " radius 5 \n",
      " fan is off\n"
     ]
    }
   ],
   "source": []
  },
  {
   "cell_type": "code",
   "execution_count": 6,
   "metadata": {},
   "outputs": [
    {
     "name": "stdout",
     "output_type": "stream",
     "text": [
      "Speed 3\n",
      "Radius 10\n",
      "Color yellow\n",
      "Fan on is  True\n",
      "Speed 2\n",
      "Radius 5\n",
      "Color blue\n",
      "Fan on is  False\n"
     ]
    }
   ],
   "source": [
    "class fan():\n",
    "    def __init__(self, speed, on, radius, color):\n",
    "        self.__speed = speed\n",
    "        self.__on = on\n",
    "        self.__radius = radius\n",
    "        self.__color = color\n",
    "\n",
    "    def get_speed(self):\n",
    "        return self.__speed\n",
    "\n",
    "    def set_speed(self, speed):\n",
    "        self.__speed = speed\n",
    "\n",
    "    def get_on(self):\n",
    "        return self.__on\n",
    "\n",
    "    def set_on(self, on):\n",
    "        self.__on = on\n",
    "\n",
    "    def get_radius(self):\n",
    "        return self.__radius\n",
    "\n",
    "    def set_radius(self, radius):\n",
    "        self.__radius = radius\n",
    "\n",
    "    def get_color(self):\n",
    "        return self.__color\n",
    "\n",
    "    def set_color(self, color):\n",
    "        self.__color = color\n",
    "\n",
    "    def __str__(self):\n",
    "        return \"Speed \" + str(self.__speed) +  \"\\nRadius \" + str(self.__radius) + \"\\nColor \" + str(self.__color)+ \"\\nFan on is  \" + str(self.__on)\n",
    "\n",
    "\n",
    "def main():\n",
    "    fan1 = fan(3, True, 10, \"yellow\")\n",
    "    print(fan1)\n",
    "    fan2 = fan(2, False, 5, \"blue\")\n",
    "    print(fan2)\n",
    "\n",
    "\n",
    "main()\n"
   ]
  },
  {
   "cell_type": "markdown",
   "metadata": {},
   "source": [
    "## Question 2"
   ]
  },
  {
   "cell_type": "markdown",
   "metadata": {},
   "source": [
    "**Write a Python class named QuadraticEquation for a\n",
    "quadratic equation to which takes three coefficients of quadratic equation and calculate the roots of the equation.** The class contains:<br><br>\n",
    "The private data fields *a, b, and c* that represent three coefficients.<br>\n",
    "A constructor for the arguments for *a, b, and c*.<br>\n",
    "Three get methods for *a, b,c*.<br>\n",
    "A method named **getDiscriminant()** that returns the discriminant, which is $$b^2 - 4ac$$ .<br>\n",
    "The methods named **getRoot1()** and **getRoot2()** for returning the two roots\n",
    "of the equation using these formulas:<br>\n",
    "These methods are useful only if the discriminant is nonnegative. Let these methods return 0 if the discriminant is negative."
   ]
  },
  {
   "cell_type": "code",
   "execution_count": 12,
   "metadata": {},
   "outputs": [
    {
     "name": "stdout",
     "output_type": "stream",
     "text": [
      "Enter:1\n",
      "Enter:2\n",
      "Enter:1\n",
      "The equation has equal roots\n",
      "Root 1:  -1.0\n",
      "Root 2:  -1.0\n"
     ]
    }
   ],
   "source": [
    "class QuadraticEquation():\n",
    "    def __init__(self, a, b, c):\n",
    "        self.__a = a\n",
    "        self.__b = b\n",
    "        self.__c = c\n",
    "\n",
    "    def get_a(self):\n",
    "        return self.__a\n",
    "\n",
    "    def get_b(self):\n",
    "        return self.__b\n",
    "\n",
    "    def get_c(self):\n",
    "        return self.__c\n",
    "\n",
    "    def getDiscriminant(self):\n",
    "        return (self.__b**2) - (4 * self.__a * self.__c)\n",
    "\n",
    "    def getRoot1(self):\n",
    "        if self.getDiscriminant() >= 0:\n",
    "            return (-self.__b + (self.getDiscriminant()**0.5)) / (2 * self.__a)\n",
    "        else:\n",
    "            return 0\n",
    "\n",
    "    def getRoot2(self):\n",
    "        if self.getDiscriminant() >= 0:\n",
    "            return (-self.__b - (self.getDiscriminant()**0.5)) / (2 * self.__a)\n",
    "        else:\n",
    "            return 0\n",
    "\n",
    "\n",
    "def main():\n",
    "    x=int(input(\"Enter:\"))\n",
    "    y=int(input(\"Enter:\"))\n",
    "    z=int(input(\"Enter:\"))\n",
    "    a = QuadraticEquation(x, y, z)\n",
    "    Discriminant= a.getDiscriminant()\n",
    "    \n",
    "    if Discriminant==0:\n",
    "        print(\"The equation has equal roots\")\n",
    "        \n",
    "    elif Discriminant>=0:\n",
    "        print(\"The equation has distinct real roots\")\n",
    "    else:\n",
    "        print(\"The equation has no roots\")\n",
    "    \n",
    "    \n",
    "    print(\"Root 1: \", a.getRoot1())\n",
    "    print(\"Root 2: \", a.getRoot2())\n",
    "\n",
    "\n",
    "main()\n"
   ]
  },
  {
   "cell_type": "markdown",
   "metadata": {},
   "source": [
    "## Question 3"
   ]
  },
  {
   "cell_type": "markdown",
   "metadata": {},
   "source": [
    "**Write a Python class named StopWatch which takes start time as CPU time and then end time is calculated by taking size = 1000000, running this in a loop 1000000 times and calculates the elapsed time.** The class contains:<br><br>\n",
    "The private data fields *startTime* and *endTime* with get methods.<br>\n",
    "A constructor that initializes startTime with the current time.<br>\n",
    "A method named **start()** that resets the startTime to the current time.<br>\n",
    "A method named **stop()** that sets the endTime to the current time.<br>\n",
    "A method named **getElapsedTime()** that returns the elapsed time for the\n",
    "stop watch in milliseconds."
   ]
  },
  {
   "cell_type": "code",
   "execution_count": 16,
   "metadata": {},
   "outputs": [
    {
     "name": "stdout",
     "output_type": "stream",
     "text": [
      "The loop time is  54.06494140625 milliseconds\n"
     ]
    }
   ],
   "source": [
    "import time\n",
    "import random\n",
    "\n",
    "\n",
    "class StopWatch():\n",
    "    def __init__(self):\n",
    "        self.__startTime = time.time()*1000\n",
    "\n",
    "    def getStartTime(self):\n",
    "        return self.__startTime\n",
    "\n",
    "    def getEndTime(self):\n",
    "        return self.__endTime\n",
    "\n",
    "    def start(self):\n",
    "        self.__startTime = time.time()*1000\n",
    "\n",
    "    def stop(self):\n",
    "        self.__endTime = time.time()*1000\n",
    "\n",
    "    def getElapsedTime(self):\n",
    "        return self.__endTime - self.__startTime\n",
    "\n",
    "\n",
    "def main():\n",
    "    watch = StopWatch()\n",
    "    watch.start()\n",
    "    for i in range(1000000):\n",
    "        n = i\n",
    "    watch.stop()\n",
    "    print(\"The loop time is \", watch.getElapsedTime(), \"milliseconds\")\n",
    "\n",
    "\n",
    "main()\n"
   ]
  },
  {
   "cell_type": "markdown",
   "metadata": {},
   "source": [
    "## Question 4"
   ]
  },
  {
   "cell_type": "markdown",
   "metadata": {},
   "source": [
    "**Write a Python class named Time which sets a new time for the object\n",
    "using the elapsed time in seconds. For example, if the elapsed time is 555550\n",
    "seconds, the hour is 10, the minute is 19, and the second is 12.** The class contains:<br><br>\n",
    "The private data fields *hour, minute,* and *second* that represent a time.<br>\n",
    "A constructor that constructs a Time object that initializes hour, minute, and\n",
    "second using the current time.<br>\n",
    "The get methods for the data fields *hour, minute,* and *second*, respectively.<br>\n",
    "A method named **setTime(elapseTime)** that sets a new time for the object\n",
    "using the elapsed time in seconds."
   ]
  },
  {
   "cell_type": "code",
   "execution_count": 20,
   "metadata": {},
   "outputs": [
    {
     "name": "stdout",
     "output_type": "stream",
     "text": [
      "Current time: 15 : 19 : 0\n",
      "Enter the elapsed Time:12\n",
      "The hour:minute:second for elapse time is: 0 : 0 : 12\n"
     ]
    }
   ],
   "source": [
    "import time\n",
    "\n",
    "\n",
    "class Time():\n",
    "    def __init__(self):\n",
    "        self.__hour = time.localtime().tm_hour\n",
    "        self.__minute = time.localtime().tm_min\n",
    "        self.__second = time.localtime().tm_sec\n",
    "\n",
    "    def get_hour(self):\n",
    "        return self.__hour\n",
    "\n",
    "    def get_minute(self):\n",
    "        return self.__minute\n",
    "\n",
    "    def get_second(self):\n",
    "        return self.__second\n",
    "\n",
    "    def set_time(self, elapse_time):\n",
    "        self.__hour = elapse_time // 3600\n",
    "        self.__minute = (elapse_time % 3600) // 60\n",
    "        self.__second = (elapse_time % 3600) % 60\n",
    "\n",
    "\n",
    "def main():\n",
    "    t1 = Time()\n",
    "    print(\"Current time:\",t1.get_hour(),\":\",t1.get_minute(),\":\",t1.get_second())\n",
    "    \n",
    "    elapsed_time = int(input(\"Enter the elapsed Time:\"))\n",
    "\n",
    "    t1.set_time(elapsed_time)\n",
    "    print(\"The hour:minute:second for elapse time is:\",t1.get_hour(),\":\",t1.get_minute(),\":\", t1.get_second())\n",
    "\n",
    "\n",
    "main()\n"
   ]
  },
  {
   "cell_type": "markdown",
   "metadata": {},
   "source": [
    "## Great Work!"
   ]
  },
  {
   "cell_type": "code",
   "execution_count": null,
   "metadata": {},
   "outputs": [],
   "source": []
  }
 ],
 "metadata": {
  "kernelspec": {
   "display_name": "Python 3 (ipykernel)",
   "language": "python",
   "name": "python3"
  },
  "language_info": {
   "codemirror_mode": {
    "name": "ipython",
    "version": 3
   },
   "file_extension": ".py",
   "mimetype": "text/x-python",
   "name": "python",
   "nbconvert_exporter": "python",
   "pygments_lexer": "ipython3",
   "version": "3.9.12"
  }
 },
 "nbformat": 4,
 "nbformat_minor": 2
}
