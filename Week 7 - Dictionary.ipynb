{
 "cells": [
  {
   "cell_type": "code",
   "execution_count": 7,
   "id": "d4044e45",
   "metadata": {},
   "outputs": [
    {
     "name": "stdout",
     "output_type": "stream",
     "text": [
      "(40, 30, 20, 10)\n"
     ]
    }
   ],
   "source": [
    "#Reversing the tuple\n",
    "T1=(10,20,30,40)\n",
    "print(T1[: : -1])"
   ]
  },
  {
   "cell_type": "code",
   "execution_count": 2,
   "id": "dd41c42b",
   "metadata": {},
   "outputs": [
    {
     "name": "stdout",
     "output_type": "stream",
     "text": [
      "3\n"
     ]
    }
   ],
   "source": [
    "#Occurence of elements in a tuple\n",
    "T1=(10,80,50,80,80,99)\n",
    "print(T1.count(80))"
   ]
  },
  {
   "cell_type": "code",
   "execution_count": 3,
   "id": "4dc69434",
   "metadata": {},
   "outputs": [
    {
     "name": "stdout",
     "output_type": "stream",
     "text": [
      "800\n"
     ]
    }
   ],
   "source": [
    "#Accessing nested lists and tuples\n",
    "T1=(\"Apple\",[100,400,800],(58,98))\n",
    "print(T1[1][2])"
   ]
  },
  {
   "cell_type": "code",
   "execution_count": 8,
   "id": "c2fbfa15",
   "metadata": {},
   "outputs": [
    {
     "name": "stdout",
     "output_type": "stream",
     "text": [
      "{'Favourite Flower': 'Rose', 'Marks': 80, 'Name': 'Mina', 'Age': 18}\n",
      "<class 'dict'>\n"
     ]
    }
   ],
   "source": [
    "#Printing and finding the type of dictionary\n",
    "D1={\"Favourite Flower\":\"Rose\", \"Marks\":80, \"Name\":\"Mina\", \"Age\":18}\n",
    "print(D1)\n",
    "print(type(D1))"
   ]
  },
  {
   "cell_type": "code",
   "execution_count": 9,
   "id": "a3f4369f",
   "metadata": {},
   "outputs": [
    {
     "name": "stdout",
     "output_type": "stream",
     "text": [
      "{'Favourite Flower': 'Rose', 'Marks': 80, 'Name': 'Mina', 'Age': 18}\n",
      "<class 'dict'>\n"
     ]
    }
   ],
   "source": [
    "#dict function\n",
    "D1=dict({\"Favourite Flower\":\"Rose\", \"Marks\":80, \"Name\":\"Mina\", \"Age\":18})\n",
    "print(D1)\n",
    "print(type(D1))"
   ]
  },
  {
   "cell_type": "code",
   "execution_count": 16,
   "id": "eeb219a9",
   "metadata": {},
   "outputs": [
    {
     "name": "stdout",
     "output_type": "stream",
     "text": [
      "80\n"
     ]
    }
   ],
   "source": [
    "#To access value through key\n",
    "D1={\"Favourite Flower\":\"Rose\", \"Marks\":80, \"Name\":\"Mina\", \"Age\":18}\n",
    "print(D1[\"Marks\"])"
   ]
  },
  {
   "cell_type": "code",
   "execution_count": 17,
   "id": "a28d0b61",
   "metadata": {},
   "outputs": [
    {
     "name": "stdout",
     "output_type": "stream",
     "text": [
      "{'Favourite Flower': 'Rose', 'Marks': 80, 'Name': 'Mina', 'Age': 24}\n",
      "24\n"
     ]
    }
   ],
   "source": [
    "#Duplicate values will overwrite the exicting ones as they are not allowed. Dictionaries cannot have multiple items with the same key.\n",
    "D1={\"Favourite Flower\":\"Rose\", \"Marks\":80, \"Name\":\"Mina\", \"Age\":18, \"Age\":24}\n",
    "print(D1)\n",
    "print(D1[\"Age\"])"
   ]
  },
  {
   "cell_type": "code",
   "execution_count": 18,
   "id": "184c2092",
   "metadata": {},
   "outputs": [
    {
     "name": "stdout",
     "output_type": "stream",
     "text": [
      "4\n"
     ]
    }
   ],
   "source": [
    "#To calculate length\n",
    "D1={\"Favourite Flower\":\"Rose\", \"Marks\":80, \"Name\":\"Mina\", \"Age\":18}\n",
    "print(len(D1))"
   ]
  },
  {
   "cell_type": "code",
   "execution_count": 19,
   "id": "df1e5a1a",
   "metadata": {},
   "outputs": [
    {
     "name": "stdout",
     "output_type": "stream",
     "text": [
      "{'Favourite Flower': 'Rose', 'Marks': 80, 'Name': 'Mina', 'Age': 18, 'Hobbies': ['Singing', 'Reading']}\n"
     ]
    }
   ],
   "source": [
    "#Multiple data types in a dictionary\n",
    "D1={\"Favourite Flower\":\"Rose\", \"Marks\":80, \"Name\":\"Mina\", \"Age\":18, \"Hobbies\":[\"Singing\",\"Reading\"]}\n",
    "print(D1)"
   ]
  },
  {
   "cell_type": "code",
   "execution_count": 20,
   "id": "d7eb0cc4",
   "metadata": {},
   "outputs": [
    {
     "name": "stdout",
     "output_type": "stream",
     "text": [
      "Mina\n"
     ]
    }
   ],
   "source": [
    "#Get function to see the result\n",
    "y=D1.get(\"Name\")\n",
    "print(y)"
   ]
  },
  {
   "cell_type": "code",
   "execution_count": 21,
   "id": "e43e1a79",
   "metadata": {},
   "outputs": [
    {
     "name": "stdout",
     "output_type": "stream",
     "text": [
      "dict_keys(['Favourite Flower', 'Marks', 'Name', 'Age', 'Hobbies'])\n"
     ]
    }
   ],
   "source": [
    "#To get the keys\n",
    "x=D1.keys()\n",
    "print(x)"
   ]
  },
  {
   "cell_type": "code",
   "execution_count": 28,
   "id": "a9493199",
   "metadata": {},
   "outputs": [
    {
     "name": "stdout",
     "output_type": "stream",
     "text": [
      "{'Favourite Flower': 'Rose', 'Marks': 80, 'Name': 'Mina', 'Age': 18, 'Hobbies': ['Singing', 'Reading']}\n",
      "{'Favourite Flower': 'Rose', 'Marks': 80, 'Name': 'Mina', 'Age': 18, 'Hobbies': ['Singing', 'Reading'], 'Colour': 'Black'}\n"
     ]
    }
   ],
   "source": [
    "#Add keys to dictionary\n",
    "D1={\"Favourite Flower\":\"Rose\", \"Marks\":80, \"Name\":\"Mina\", \"Age\":18, \"Hobbies\":[\"Singing\",\"Reading\"]}\n",
    "print(D1)\n",
    "D1[\"Colour\"]=\"Black\"\n",
    "print(D1)"
   ]
  },
  {
   "cell_type": "code",
   "execution_count": 29,
   "id": "a68f8e68",
   "metadata": {},
   "outputs": [
    {
     "name": "stdout",
     "output_type": "stream",
     "text": [
      "dict_values(['Rose', 80, 'Mina', 18, ['Singing', 'Reading'], 'Black'])\n"
     ]
    }
   ],
   "source": [
    "#To get the values\n",
    "x=D1.values()\n",
    "print(x)"
   ]
  },
  {
   "cell_type": "code",
   "execution_count": 30,
   "id": "a2a058eb",
   "metadata": {},
   "outputs": [
    {
     "name": "stdout",
     "output_type": "stream",
     "text": [
      "dict_items([('Favourite Flower', 'Rose'), ('Marks', 80), ('Name', 'Mina'), ('Age', 18), ('Hobbies', ['Singing', 'Reading']), ('Colour', 'Black')])\n"
     ]
    }
   ],
   "source": [
    "#To get all the items as tuples in a list\n",
    "x=D1.items()\n",
    "print(x)"
   ]
  },
  {
   "cell_type": "code",
   "execution_count": 31,
   "id": "7f506459",
   "metadata": {},
   "outputs": [
    {
     "name": "stdout",
     "output_type": "stream",
     "text": [
      "dict_items([('Favourite Flower', 'Rose'), ('Marks', 80), ('Name', 'Mina'), ('Age', 18), ('Hobbies', ['Singing', 'Reading']), ('Colour', 'Black')])\n",
      "dict_items([('Favourite Flower', 'Rose'), ('Marks', 90), ('Name', 'Mina'), ('Age', 18), ('Hobbies', ['Singing', 'Reading']), ('Colour', 'Black')])\n"
     ]
    }
   ],
   "source": [
    "#To get the updated value of the key\n",
    "D1={'Favourite Flower': 'Rose', 'Marks': 80, 'Name': 'Mina', 'Age': 18, 'Hobbies': ['Singing', 'Reading'], 'Colour': 'Black'}\n",
    "x=D1.items()\n",
    "print(x)\n",
    "D1[\"Marks\"]=90\n",
    "print(x)"
   ]
  },
  {
   "cell_type": "code",
   "execution_count": 33,
   "id": "98af05f6",
   "metadata": {},
   "outputs": [
    {
     "name": "stdout",
     "output_type": "stream",
     "text": [
      "Present\n"
     ]
    }
   ],
   "source": [
    "#To check the presnce of a key in dictionary\n",
    "D1={'Favourite Flower': 'Rose', 'Marks': 80, 'Name': 'Mina', 'Age': 18, 'Hobbies': ['Singing', 'Reading'], 'Colour': 'Black'}\n",
    "if \"Age\" in D1 and \"Marks\" in D1:\n",
    "    print(\"Present\")\n",
    "else:\n",
    "    print(\"Not present\")"
   ]
  },
  {
   "cell_type": "code",
   "execution_count": 34,
   "id": "15508c36",
   "metadata": {},
   "outputs": [
    {
     "name": "stdout",
     "output_type": "stream",
     "text": [
      "{'Favourite Flower': 'Rose', 'Marks': 80, 'Name': 'Mina', 'Age': 20, 'Hobbies': ['Singing', 'Reading'], 'Colour': 'Black'}\n"
     ]
    }
   ],
   "source": [
    "#update() method will update the dictionary with the items\n",
    "D1={'Favourite Flower': 'Rose', 'Marks': 80, 'Name': 'Mina', 'Age': 18, 'Hobbies': ['Singing', 'Reading'], 'Colour': 'Black'}\n",
    "D1.update({'Age': 20})\n",
    "print(D1)"
   ]
  },
  {
   "cell_type": "code",
   "execution_count": 35,
   "id": "79b28112",
   "metadata": {},
   "outputs": [
    {
     "name": "stdout",
     "output_type": "stream",
     "text": [
      "{'Marks': 80, 'Name': 'Mina', 'Age': 20, 'Hobbies': ['Singing', 'Reading'], 'Colour': 'Black'}\n"
     ]
    }
   ],
   "source": [
    "#pop() method removes the item with the specified key name\n",
    "D1={'Favourite Flower': 'Rose', 'Marks': 80, 'Name': 'Mina', 'Age': 20, 'Hobbies': ['Singing', 'Reading'], 'Colour': 'Black'}\n",
    "D1.pop(\"Favourite Flower\")\n",
    "print(D1)"
   ]
  },
  {
   "cell_type": "code",
   "execution_count": 36,
   "id": "7f9120bd",
   "metadata": {},
   "outputs": [
    {
     "name": "stdout",
     "output_type": "stream",
     "text": [
      "{'Favourite Flower': 'Rose', 'Marks': 80, 'Name': 'Mina', 'Age': 20, 'Hobbies': ['Singing', 'Reading']}\n"
     ]
    }
   ],
   "source": [
    "#popitem() method removes the last inserted item\n",
    "D1={'Favourite Flower': 'Rose', 'Marks': 80, 'Name': 'Mina', 'Age': 20, 'Hobbies': ['Singing', 'Reading'], 'Colour': 'Black'}\n",
    "D1.popitem()\n",
    "print(D1)"
   ]
  },
  {
   "cell_type": "code",
   "execution_count": 38,
   "id": "5dc7b363",
   "metadata": {},
   "outputs": [
    {
     "ename": "NameError",
     "evalue": "name 'D2' is not defined",
     "output_type": "error",
     "traceback": [
      "\u001b[1;31m---------------------------------------------------------------------------\u001b[0m",
      "\u001b[1;31mNameError\u001b[0m                                 Traceback (most recent call last)",
      "Input \u001b[1;32mIn [38]\u001b[0m, in \u001b[0;36m<cell line: 4>\u001b[1;34m()\u001b[0m\n\u001b[0;32m      2\u001b[0m D2\u001b[38;5;241m=\u001b[39m{\u001b[38;5;124m\"\u001b[39m\u001b[38;5;124mFavourite Flower\u001b[39m\u001b[38;5;124m\"\u001b[39m:\u001b[38;5;124m\"\u001b[39m\u001b[38;5;124mRose\u001b[39m\u001b[38;5;124m\"\u001b[39m, \u001b[38;5;124m\"\u001b[39m\u001b[38;5;124mMarks\u001b[39m\u001b[38;5;124m\"\u001b[39m:\u001b[38;5;241m80\u001b[39m, \u001b[38;5;124m\"\u001b[39m\u001b[38;5;124mName\u001b[39m\u001b[38;5;124m\"\u001b[39m:\u001b[38;5;124m\"\u001b[39m\u001b[38;5;124mMina\u001b[39m\u001b[38;5;124m\"\u001b[39m, \u001b[38;5;124m\"\u001b[39m\u001b[38;5;124mAge\u001b[39m\u001b[38;5;124m\"\u001b[39m:\u001b[38;5;241m18\u001b[39m}\n\u001b[0;32m      3\u001b[0m \u001b[38;5;28;01mdel\u001b[39;00m D2\n\u001b[1;32m----> 4\u001b[0m \u001b[38;5;28mprint\u001b[39m(\u001b[43mD2\u001b[49m)\n",
      "\u001b[1;31mNameError\u001b[0m: name 'D2' is not defined"
     ]
    }
   ],
   "source": [
    "#del keyword can delete the entire structure and dictionary completely\n",
    "D2={\"Favourite Flower\":\"Rose\", \"Marks\":80, \"Name\":\"Mina\", \"Age\":18}\n",
    "del D2\n",
    "print(D2)"
   ]
  },
  {
   "cell_type": "code",
   "execution_count": 39,
   "id": "84269a08",
   "metadata": {},
   "outputs": [
    {
     "name": "stdout",
     "output_type": "stream",
     "text": [
      "{}\n"
     ]
    }
   ],
   "source": [
    "#clear method can delete the dictionary but not the structure\n",
    "D2={\"Favourite Flower\":\"Rose\", \"Marks\":80, \"Name\":\"Mina\", \"Age\":18}\n",
    "D2.clear()\n",
    "print(D2)"
   ]
  },
  {
   "cell_type": "code",
   "execution_count": 40,
   "id": "731b68fb",
   "metadata": {},
   "outputs": [
    {
     "name": "stdout",
     "output_type": "stream",
     "text": [
      "{'Favourite Flower': 'Rose', 'Marks': 80, 'Name': 'Mina', 'Age': 18}\n"
     ]
    }
   ],
   "source": [
    "#Make a copy of a dictionary through copy() method\n",
    "D2={\"Favourite Flower\":\"Rose\", \"Marks\":80, \"Name\":\"Mina\", \"Age\":18}\n",
    "D3=D2.copy()\n",
    "print(D3)"
   ]
  },
  {
   "cell_type": "code",
   "execution_count": 41,
   "id": "f9b48871",
   "metadata": {},
   "outputs": [
    {
     "name": "stdout",
     "output_type": "stream",
     "text": [
      "{'Favourite Flower': 'Rose', 'Marks': 80, 'Name': 'Mina', 'Age': 18}\n"
     ]
    }
   ],
   "source": [
    "#Make a copy of a dictionary through dict() method\n",
    "D2={\"Favourite Flower\":\"Rose\", \"Marks\":80, \"Name\":\"Mina\", \"Age\":18}\n",
    "D3=dict(D2)\n",
    "print(D3)"
   ]
  },
  {
   "cell_type": "code",
   "execution_count": null,
   "id": "07a3b938",
   "metadata": {},
   "outputs": [],
   "source": []
  }
 ],
 "metadata": {
  "kernelspec": {
   "display_name": "Python 3 (ipykernel)",
   "language": "python",
   "name": "python3"
  },
  "language_info": {
   "codemirror_mode": {
    "name": "ipython",
    "version": 3
   },
   "file_extension": ".py",
   "mimetype": "text/x-python",
   "name": "python",
   "nbconvert_exporter": "python",
   "pygments_lexer": "ipython3",
   "version": "3.9.12"
  }
 },
 "nbformat": 4,
 "nbformat_minor": 5
}
