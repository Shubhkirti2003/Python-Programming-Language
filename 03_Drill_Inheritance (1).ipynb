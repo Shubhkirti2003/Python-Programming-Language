{
 "cells": [
  {
   "cell_type": "raw",
   "metadata": {},
   "source": [
    "# Inheritance"
   ]
  },
  {
   "cell_type": "markdown",
   "metadata": {},
   "source": [
    "## Question 1"
   ]
  },
  {
   "cell_type": "markdown",
   "metadata": {},
   "source": [
    "**Create a Parent class named Fish which is use to construct types of fish as its subclasses. Each of these fish will have first names and last names in addition to characteristics.**<br><br>\n",
    "a) Create Parent class named **Fish**, initialise constructor with *first_name* and *last_name* class variables for each Fish object or subclass. Initialise last_name variable with the string \"Fish\" because we know that most fish will have this as their last name.<br><br>\n",
    "b) Add the methods **swim()** and **swim_backwards()** to the Fish class, so that every subclass will also be able to make use of these methods.Add print statements to these methods.<br><br>\n",
    "c) Since most of the fish we’ll be creating are considered to be bony fish (as in they have a skeleton made out of bone) rather than cartilaginous fish (as in they have a skeleton made out of cartilage), we can add a few more attributes to the __init__() method such as skeleton = \"bone\", eyelids = False.<br><br>\n",
    "d) Create a child class named **Trout** and **ClownFish** of the Parent class **Fish**.Add method **live_with_anemone()** in **ClownFish** class, add no attributes and functions in **Trout** class.<br><br>\n",
    "e) Create an object of **Trout** class passing \"Fish\" as parameter. Print its *first name, last name, skeleton, eyelids,* function **swim(), swim_backwards()**.<br><br>\n",
    "f) Create an object of **ClownFish** class passing \"Casey\" as constructor parameter. Print its *first name, last name,* **swim(),live_with_anemone()**.<br><br>\n",
    "g) Try to run **live_with_anemone()** with **Trout** object.What output would you get and why?\n"
   ]
  },
  {
   "cell_type": "markdown",
   "metadata": {},
   "source": [
    "a), b), c)"
   ]
  },
  {
   "cell_type": "code",
   "execution_count": 5,
   "metadata": {},
   "outputs": [],
   "source": [
    "class Fish:\n",
    "    def __init__(self, first_name, last_name=\"Fish\",\n",
    "                 skeleton=\"bone\", eyelids=False):\n",
    "        self.first_name = first_name\n",
    "        self.last_name = last_name\n",
    "        self.skeleton = skeleton\n",
    "        self.eyelids = eyelids\n",
    "\n",
    "    def swim(self):\n",
    "        print(\"The fish is swimming.\")\n",
    "\n",
    "    def swim_backwards(self):\n",
    "        print(\"The fish can swim backwards.\")"
   ]
  },
  {
   "cell_type": "markdown",
   "metadata": {},
   "source": [
    "d), e)"
   ]
  },
  {
   "cell_type": "code",
   "execution_count": 6,
   "metadata": {},
   "outputs": [],
   "source": [
    "class Trout(Fish):\n",
    "    pass"
   ]
  },
  {
   "cell_type": "code",
   "execution_count": 7,
   "metadata": {},
   "outputs": [
    {
     "name": "stdout",
     "output_type": "stream",
     "text": [
      "Terry Fish\n",
      "bone\n",
      "False\n",
      "The fish is swimming.\n",
      "The fish can swim backwards.\n"
     ]
    }
   ],
   "source": [
    "terry = Trout(\"Terry\")\n",
    "print(terry.first_name + \" \" + terry.last_name)\n",
    "print(terry.skeleton)\n",
    "print(terry.eyelids)\n",
    "terry.swim()\n",
    "terry.swim_backwards()"
   ]
  },
  {
   "cell_type": "markdown",
   "metadata": {},
   "source": [
    "f)"
   ]
  },
  {
   "cell_type": "code",
   "execution_count": 8,
   "metadata": {},
   "outputs": [],
   "source": [
    "class Clownfish(Fish):\n",
    "    def live_with_anemone(self):\n",
    "        print(\"The clownfish is coexisting with sea anemone.\")"
   ]
  },
  {
   "cell_type": "code",
   "execution_count": 9,
   "metadata": {},
   "outputs": [
    {
     "name": "stdout",
     "output_type": "stream",
     "text": [
      "Casey Fish\n",
      "The fish is swimming.\n",
      "The clownfish is coexisting with sea anemone.\n"
     ]
    }
   ],
   "source": [
    "casey = Clownfish(\"Casey\")\n",
    "print(casey.first_name + \" \" + casey.last_name)\n",
    "casey.swim()\n",
    "casey.live_with_anemone()"
   ]
  },
  {
   "cell_type": "markdown",
   "metadata": {},
   "source": [
    "g)"
   ]
  },
  {
   "cell_type": "code",
   "execution_count": 10,
   "metadata": {},
   "outputs": [
    {
     "ename": "AttributeError",
     "evalue": "'Trout' object has no attribute 'live_with_anemone'",
     "output_type": "error",
     "traceback": [
      "\u001b[1;31m---------------------------------------------------------------------------\u001b[0m",
      "\u001b[1;31mAttributeError\u001b[0m                            Traceback (most recent call last)",
      "Input \u001b[1;32mIn [10]\u001b[0m, in \u001b[0;36m<cell line: 1>\u001b[1;34m()\u001b[0m\n\u001b[1;32m----> 1\u001b[0m \u001b[43mterry\u001b[49m\u001b[38;5;241;43m.\u001b[39;49m\u001b[43mlive_with_anemone\u001b[49m()\n",
      "\u001b[1;31mAttributeError\u001b[0m: 'Trout' object has no attribute 'live_with_anemone'"
     ]
    }
   ],
   "source": [
    "terry.live_with_anemone()"
   ]
  },
  {
   "cell_type": "markdown",
   "metadata": {},
   "source": [
    "You will get **error** in g part."
   ]
  },
  {
   "cell_type": "code",
   "execution_count": null,
   "metadata": {},
   "outputs": [],
   "source": []
  },
  {
   "cell_type": "markdown",
   "metadata": {},
   "source": [
    "### SUPER() FUNCTION\n",
    "With the super() function, you can gain access to inherited methods that have been overwritten in a class object.\n",
    "\n",
    "When we use the super() function, we are calling a parent method into a child method to make use of it. For example, we may want to override one aspect of the parent method with certain functionality, but then call the rest of the original parent method to finish the method."
   ]
  },
  {
   "cell_type": "markdown",
   "metadata": {},
   "source": [
    "## Question 2"
   ]
  },
  {
   "cell_type": "markdown",
   "metadata": {},
   "source": [
    "**Continuing with previous example,**<br><br>\n",
    "a) In class **Trout**, add a *water* variable to the __init__() method and set it equal to the string \"freshwater\", but then maintain the rest of the parent class’s variables and parameters.<br>\n",
    "We have overridden the __init__() method in the **Trout** child class, providing a different implementation of the __init__() that is already defined by its parent class **Fish**. Within the __init__() method of our **Trout** class we have explicitly invoked the __init__() method of the **Fish** class.Because we have overridden the method, we no longer need to pass *first_name* in as a parameter to **Trout**, and if we did pass in a parameter, we would reset freshwater instead. We will therefore initialize the *first_name* by calling the variable in our object instance.<br><br>\n",
    "b) Create an **instance of Trout** class, initialise the *first name* as  \"Terry\", Use parent __init__() through **super()**.<br><br>\n",
    "c) Use child __init__() override to call print \"freshwater\".<br><br>\n",
    "d) Use parent **swim()** method."
   ]
  },
  {
   "cell_type": "markdown",
   "metadata": {},
   "source": [
    "a)"
   ]
  },
  {
   "cell_type": "code",
   "execution_count": 11,
   "metadata": {},
   "outputs": [],
   "source": [
    "class Trout(Fish):\n",
    "    def __init__(self, water = \"freshwater\"):\n",
    "        self.water = water\n",
    "        super().__init__(self)"
   ]
  },
  {
   "cell_type": "markdown",
   "metadata": {},
   "source": [
    "b)"
   ]
  },
  {
   "cell_type": "code",
   "execution_count": 12,
   "metadata": {},
   "outputs": [
    {
     "name": "stdout",
     "output_type": "stream",
     "text": [
      "Terry Fish\n",
      "False\n"
     ]
    }
   ],
   "source": [
    "terry = Trout()\n",
    "\n",
    "# Initialize first name\n",
    "terry.first_name = \"Terry\"\n",
    "\n",
    "# Use parent __init__() through super()\n",
    "print(terry.first_name + \" \" + terry.last_name)\n",
    "print(terry.eyelids)"
   ]
  },
  {
   "cell_type": "markdown",
   "metadata": {},
   "source": [
    "c)"
   ]
  },
  {
   "cell_type": "code",
   "execution_count": 13,
   "metadata": {},
   "outputs": [
    {
     "name": "stdout",
     "output_type": "stream",
     "text": [
      "freshwater\n"
     ]
    }
   ],
   "source": [
    "# Use child __init__() override\n",
    "print(terry.water)"
   ]
  },
  {
   "cell_type": "markdown",
   "metadata": {},
   "source": [
    "d)"
   ]
  },
  {
   "cell_type": "code",
   "execution_count": 14,
   "metadata": {},
   "outputs": [
    {
     "name": "stdout",
     "output_type": "stream",
     "text": [
      "The fish is swimming.\n"
     ]
    }
   ],
   "source": [
    "# Use parent swim() method\n",
    "terry.swim()"
   ]
  },
  {
   "cell_type": "code",
   "execution_count": null,
   "metadata": {},
   "outputs": [],
   "source": []
  },
  {
   "cell_type": "markdown",
   "metadata": {},
   "source": [
    "### MULTIPLE INHERITANCE"
   ]
  },
  {
   "cell_type": "markdown",
   "metadata": {},
   "source": [
    "## Question 3"
   ]
  },
  {
   "cell_type": "markdown",
   "metadata": {},
   "source": [
    "**Continuing with the previous example,**<br><br>\n",
    "a) Create a **Coral_reef** child class than inherits from a **Coral** class and a **Anemone** class. We can create a method in each and then use the pass keyword in the **Coral_reef** child class.<br><br>\n",
    "b) The **Coral class** has a method called **community()** that prints one line, and the **Anemone** class has a method called **protect_clownfish()** that prints another line. Then we call both classes into the inheritance tuple. This means that Coral is inheriting from two parent classes.<br><br>\n",
    "c) Create an **instance of Coral class** and use the methods in both parent classes."
   ]
  },
  {
   "cell_type": "markdown",
   "metadata": {},
   "source": [
    "a), b)"
   ]
  },
  {
   "cell_type": "code",
   "execution_count": 15,
   "metadata": {},
   "outputs": [],
   "source": [
    "class Coral:\n",
    "\n",
    "    def community(self):\n",
    "        print(\"Coral lives in a community.\")\n",
    "\n",
    "\n",
    "class Anemone:\n",
    "\n",
    "    def protect_clownfish(self):\n",
    "        print(\"The anemone is protecting the clownfish.\")\n",
    "\n",
    "\n",
    "class CoralReef(Coral, Anemone):\n",
    "    pass\n",
    "    "
   ]
  },
  {
   "cell_type": "markdown",
   "metadata": {},
   "source": [
    "c)"
   ]
  },
  {
   "cell_type": "code",
   "execution_count": 16,
   "metadata": {},
   "outputs": [
    {
     "name": "stdout",
     "output_type": "stream",
     "text": [
      "Coral lives in a community.\n",
      "The anemone is protecting the clownfish.\n"
     ]
    }
   ],
   "source": [
    "great_barrier = CoralReef()\n",
    "great_barrier.community()\n",
    "great_barrier.protect_clownfish()"
   ]
  },
  {
   "cell_type": "markdown",
   "metadata": {},
   "source": [
    "## Great Work!"
   ]
  },
  {
   "cell_type": "code",
   "execution_count": null,
   "metadata": {},
   "outputs": [],
   "source": []
  },
  {
   "cell_type": "code",
   "execution_count": null,
   "metadata": {},
   "outputs": [],
   "source": []
  }
 ],
 "metadata": {
  "kernelspec": {
   "display_name": "Python 3 (ipykernel)",
   "language": "python",
   "name": "python3"
  },
  "language_info": {
   "codemirror_mode": {
    "name": "ipython",
    "version": 3
   },
   "file_extension": ".py",
   "mimetype": "text/x-python",
   "name": "python",
   "nbconvert_exporter": "python",
   "pygments_lexer": "ipython3",
   "version": "3.9.12"
  }
 },
 "nbformat": 4,
 "nbformat_minor": 2
}
